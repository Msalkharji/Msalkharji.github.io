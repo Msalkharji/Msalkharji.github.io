{
  "cells": [
    {
      "metadata": {
        "trusted": true
      },
      "cell_type": "markdown",
      "source": "# Import Libraries:"
    },
    {
      "metadata": {
        "trusted": true
      },
      "cell_type": "code",
      "source": "import pandas as pd\nimport numpy as np\n\nfrom sklearn.model_selection import train_test_split # Split data\n\nfrom sklearn import model_selection\nfrom sklearn.metrics import accuracy_score\n\n\nfrom sklearn.ensemble import RandomForestClassifier\nfrom sklearn.preprocessing import StandardScaler\n\n\nfrom sklearn.metrics import classification_report\n\nfrom sklearn.model_selection import cross_val_score",
      "execution_count": null,
      "outputs": []
    },
    {
      "metadata": {
        "trusted": true
      },
      "cell_type": "code",
      "source": "df_alldata = pd.read_csv('Fulldataset.csv')",
      "execution_count": 2,
      "outputs": []
    },
    {
      "metadata": {
        "trusted": true
      },
      "cell_type": "code",
      "source": "df_alldata.head()",
      "execution_count": 3,
      "outputs": [
        {
          "output_type": "execute_result",
          "execution_count": 3,
          "data": {
            "text/plain": "  loan_status int_rate             purpose addr_state  funded_amnt  \\\n0  Fully Paid   12.40%         credit_card         GA        10000   \n1  Fully Paid   17.97%  debt_consolidation         FL        15000   \n2  Fully Paid   13.08%  debt_consolidation         VA        35000   \n3  Fully Paid   17.19%  debt_consolidation         MO        17500   \n4  Fully Paid   28.80%         credit_card         OH        13750   \n\n   installment emp_length  annual_inc  last_pymnt_amnt  num_actv_rev_tl  \\\n0       224.48        NaN     38000.0         10163.74                2   \n1       380.66    9 years     45000.0         15157.24                5   \n2       797.80   < 1 year    125890.0         35067.40                6   \n3       625.58    5 years     82000.0         17955.12                5   \n4       574.71        NaN     17808.0         13861.98                6   \n\n   num_sats  avg_cur_bal  \n0         7      19266.0  \n1         8       3329.0  \n2        14      28648.0  \n3        12      11815.0  \n4         6       2802.0  ",
            "text/html": "<div>\n<table border=\"1\" class=\"dataframe\">\n  <thead>\n    <tr style=\"text-align: right;\">\n      <th></th>\n      <th>loan_status</th>\n      <th>int_rate</th>\n      <th>purpose</th>\n      <th>addr_state</th>\n      <th>funded_amnt</th>\n      <th>installment</th>\n      <th>emp_length</th>\n      <th>annual_inc</th>\n      <th>last_pymnt_amnt</th>\n      <th>num_actv_rev_tl</th>\n      <th>num_sats</th>\n      <th>avg_cur_bal</th>\n    </tr>\n  </thead>\n  <tbody>\n    <tr>\n      <th>0</th>\n      <td>Fully Paid</td>\n      <td>12.40%</td>\n      <td>credit_card</td>\n      <td>GA</td>\n      <td>10000</td>\n      <td>224.48</td>\n      <td>NaN</td>\n      <td>38000.0</td>\n      <td>10163.74</td>\n      <td>2</td>\n      <td>7</td>\n      <td>19266.0</td>\n    </tr>\n    <tr>\n      <th>1</th>\n      <td>Fully Paid</td>\n      <td>17.97%</td>\n      <td>debt_consolidation</td>\n      <td>FL</td>\n      <td>15000</td>\n      <td>380.66</td>\n      <td>9 years</td>\n      <td>45000.0</td>\n      <td>15157.24</td>\n      <td>5</td>\n      <td>8</td>\n      <td>3329.0</td>\n    </tr>\n    <tr>\n      <th>2</th>\n      <td>Fully Paid</td>\n      <td>13.08%</td>\n      <td>debt_consolidation</td>\n      <td>VA</td>\n      <td>35000</td>\n      <td>797.80</td>\n      <td>&lt; 1 year</td>\n      <td>125890.0</td>\n      <td>35067.40</td>\n      <td>6</td>\n      <td>14</td>\n      <td>28648.0</td>\n    </tr>\n    <tr>\n      <th>3</th>\n      <td>Fully Paid</td>\n      <td>17.19%</td>\n      <td>debt_consolidation</td>\n      <td>MO</td>\n      <td>17500</td>\n      <td>625.58</td>\n      <td>5 years</td>\n      <td>82000.0</td>\n      <td>17955.12</td>\n      <td>5</td>\n      <td>12</td>\n      <td>11815.0</td>\n    </tr>\n    <tr>\n      <th>4</th>\n      <td>Fully Paid</td>\n      <td>28.80%</td>\n      <td>credit_card</td>\n      <td>OH</td>\n      <td>13750</td>\n      <td>574.71</td>\n      <td>NaN</td>\n      <td>17808.0</td>\n      <td>13861.98</td>\n      <td>6</td>\n      <td>6</td>\n      <td>2802.0</td>\n    </tr>\n  </tbody>\n</table>\n</div>"
          },
          "metadata": {}
        }
      ]
    },
    {
      "metadata": {},
      "cell_type": "markdown",
      "source": "# split data based on different types of loan"
    },
    {
      "metadata": {},
      "cell_type": "markdown",
      "source": "# 1- credit_card.\n# 2- debt_Consolidation.\n# 3- home_improvement\n# 4- major_purchase\n# 5- medical\n# 6- house\n# 7- car\n# 8- vacation\n# 9- moving\n# 10-small_business\n# 11-renewable_energy\n# 12- other"
    },
    {
      "metadata": {
        "trusted": true
      },
      "cell_type": "code",
      "source": "#1\ncredit_card1 = pd.read_csv('credit_card.csv')\ncredit_card1.head()",
      "execution_count": 106,
      "outputs": [
        {
          "output_type": "execute_result",
          "execution_count": 106,
          "data": {
            "text/plain": "   Column  loan_amnt  funded_amnt  int_rate  installment  grade  emp_length  \\\n0       0      10000        10000     12.40       224.48      6         NaN   \n1       4      13750        13750     28.80       574.71      4         NaN   \n2       9      26100        26100     20.00       691.50      4        10.0   \n3      16      13000        13000     20.00       483.13      4         1.0   \n4      21       7000         7000      7.02       216.21      7         7.0   \n\n   annual_inc loan_status      purpose addr_state  last_pymnt_amnt  \\\n0     38000.0  Fully Paid  credit_card         GA         10163.74   \n1     17808.0  Fully Paid  credit_card         OH         13861.98   \n2     68000.0  Fully Paid  credit_card         NY         26779.08   \n3     30000.0  Fully Paid  credit_card         NV         13052.72   \n4     79950.0  Fully Paid  credit_card         NY          7030.03   \n\n   avg_cur_bal  num_actv_rev_tl  \n0      19266.0                2  \n1       2802.0                6  \n2      19241.0               17  \n3       2446.0                6  \n4      17041.0                3  ",
            "text/html": "<div>\n<table border=\"1\" class=\"dataframe\">\n  <thead>\n    <tr style=\"text-align: right;\">\n      <th></th>\n      <th>Column</th>\n      <th>loan_amnt</th>\n      <th>funded_amnt</th>\n      <th>int_rate</th>\n      <th>installment</th>\n      <th>grade</th>\n      <th>emp_length</th>\n      <th>annual_inc</th>\n      <th>loan_status</th>\n      <th>purpose</th>\n      <th>addr_state</th>\n      <th>last_pymnt_amnt</th>\n      <th>avg_cur_bal</th>\n      <th>num_actv_rev_tl</th>\n    </tr>\n  </thead>\n  <tbody>\n    <tr>\n      <th>0</th>\n      <td>0</td>\n      <td>10000</td>\n      <td>10000</td>\n      <td>12.40</td>\n      <td>224.48</td>\n      <td>6</td>\n      <td>NaN</td>\n      <td>38000.0</td>\n      <td>Fully Paid</td>\n      <td>credit_card</td>\n      <td>GA</td>\n      <td>10163.74</td>\n      <td>19266.0</td>\n      <td>2</td>\n    </tr>\n    <tr>\n      <th>1</th>\n      <td>4</td>\n      <td>13750</td>\n      <td>13750</td>\n      <td>28.80</td>\n      <td>574.71</td>\n      <td>4</td>\n      <td>NaN</td>\n      <td>17808.0</td>\n      <td>Fully Paid</td>\n      <td>credit_card</td>\n      <td>OH</td>\n      <td>13861.98</td>\n      <td>2802.0</td>\n      <td>6</td>\n    </tr>\n    <tr>\n      <th>2</th>\n      <td>9</td>\n      <td>26100</td>\n      <td>26100</td>\n      <td>20.00</td>\n      <td>691.50</td>\n      <td>4</td>\n      <td>10.0</td>\n      <td>68000.0</td>\n      <td>Fully Paid</td>\n      <td>credit_card</td>\n      <td>NY</td>\n      <td>26779.08</td>\n      <td>19241.0</td>\n      <td>17</td>\n    </tr>\n    <tr>\n      <th>3</th>\n      <td>16</td>\n      <td>13000</td>\n      <td>13000</td>\n      <td>20.00</td>\n      <td>483.13</td>\n      <td>4</td>\n      <td>1.0</td>\n      <td>30000.0</td>\n      <td>Fully Paid</td>\n      <td>credit_card</td>\n      <td>NV</td>\n      <td>13052.72</td>\n      <td>2446.0</td>\n      <td>6</td>\n    </tr>\n    <tr>\n      <th>4</th>\n      <td>21</td>\n      <td>7000</td>\n      <td>7000</td>\n      <td>7.02</td>\n      <td>216.21</td>\n      <td>7</td>\n      <td>7.0</td>\n      <td>79950.0</td>\n      <td>Fully Paid</td>\n      <td>credit_card</td>\n      <td>NY</td>\n      <td>7030.03</td>\n      <td>17041.0</td>\n      <td>3</td>\n    </tr>\n  </tbody>\n</table>\n</div>"
          },
          "metadata": {}
        }
      ]
    },
    {
      "metadata": {
        "trusted": true
      },
      "cell_type": "code",
      "source": "#2\ndebt_Consolidation = pd.read_csv('debt_consolidation.csv')\ndebt_Consolidation.head()",
      "execution_count": 6,
      "outputs": [
        {
          "output_type": "execute_result",
          "execution_count": 6,
          "data": {
            "text/plain": "   Column  loan_amnt  funded_amnt  int_rate  installment  grade  emp_length  \\\n0       1      15000        15000     17.97       380.66      4         9.0   \n1       2      35000        35000     13.08       797.80      6         1.0   \n2       3      17500        17500     17.19       625.58      5         5.0   \n3       5      10000        10000     13.90       341.30      5        10.0   \n4       6       2400         2400      7.56        74.73      7         1.0   \n\n   annual_inc loan_status             purpose addr_state  last_pymnt_amnt  \\\n0     45000.0  Fully Paid  debt_consolidation         FL         15157.24   \n1    125890.0  Fully Paid  debt_consolidation         VA         35067.40   \n2     82000.0  Fully Paid  debt_consolidation         MO         17955.12   \n3     90000.0  Fully Paid  debt_consolidation         NY         10153.57   \n4     45000.0  Fully Paid  debt_consolidation         MD          2402.57   \n\n   avg_cur_bal  num_actv_rev_tl  \n0       3329.0                5  \n1      28648.0                6  \n2      11815.0                5  \n3       4943.0                3  \n4      17207.0                3  ",
            "text/html": "<div>\n<table border=\"1\" class=\"dataframe\">\n  <thead>\n    <tr style=\"text-align: right;\">\n      <th></th>\n      <th>Column</th>\n      <th>loan_amnt</th>\n      <th>funded_amnt</th>\n      <th>int_rate</th>\n      <th>installment</th>\n      <th>grade</th>\n      <th>emp_length</th>\n      <th>annual_inc</th>\n      <th>loan_status</th>\n      <th>purpose</th>\n      <th>addr_state</th>\n      <th>last_pymnt_amnt</th>\n      <th>avg_cur_bal</th>\n      <th>num_actv_rev_tl</th>\n    </tr>\n  </thead>\n  <tbody>\n    <tr>\n      <th>0</th>\n      <td>1</td>\n      <td>15000</td>\n      <td>15000</td>\n      <td>17.97</td>\n      <td>380.66</td>\n      <td>4</td>\n      <td>9.0</td>\n      <td>45000.0</td>\n      <td>Fully Paid</td>\n      <td>debt_consolidation</td>\n      <td>FL</td>\n      <td>15157.24</td>\n      <td>3329.0</td>\n      <td>5</td>\n    </tr>\n    <tr>\n      <th>1</th>\n      <td>2</td>\n      <td>35000</td>\n      <td>35000</td>\n      <td>13.08</td>\n      <td>797.80</td>\n      <td>6</td>\n      <td>1.0</td>\n      <td>125890.0</td>\n      <td>Fully Paid</td>\n      <td>debt_consolidation</td>\n      <td>VA</td>\n      <td>35067.40</td>\n      <td>28648.0</td>\n      <td>6</td>\n    </tr>\n    <tr>\n      <th>2</th>\n      <td>3</td>\n      <td>17500</td>\n      <td>17500</td>\n      <td>17.19</td>\n      <td>625.58</td>\n      <td>5</td>\n      <td>5.0</td>\n      <td>82000.0</td>\n      <td>Fully Paid</td>\n      <td>debt_consolidation</td>\n      <td>MO</td>\n      <td>17955.12</td>\n      <td>11815.0</td>\n      <td>5</td>\n    </tr>\n    <tr>\n      <th>3</th>\n      <td>5</td>\n      <td>10000</td>\n      <td>10000</td>\n      <td>13.90</td>\n      <td>341.30</td>\n      <td>5</td>\n      <td>10.0</td>\n      <td>90000.0</td>\n      <td>Fully Paid</td>\n      <td>debt_consolidation</td>\n      <td>NY</td>\n      <td>10153.57</td>\n      <td>4943.0</td>\n      <td>3</td>\n    </tr>\n    <tr>\n      <th>4</th>\n      <td>6</td>\n      <td>2400</td>\n      <td>2400</td>\n      <td>7.56</td>\n      <td>74.73</td>\n      <td>7</td>\n      <td>1.0</td>\n      <td>45000.0</td>\n      <td>Fully Paid</td>\n      <td>debt_consolidation</td>\n      <td>MD</td>\n      <td>2402.57</td>\n      <td>17207.0</td>\n      <td>3</td>\n    </tr>\n  </tbody>\n</table>\n</div>"
          },
          "metadata": {}
        }
      ]
    },
    {
      "metadata": {
        "trusted": true
      },
      "cell_type": "code",
      "source": "#3\nhome_improvement = pd.read_csv('home_improvement.csv')\nhome_improvement.head()",
      "execution_count": 7,
      "outputs": [
        {
          "output_type": "execute_result",
          "execution_count": 7,
          "data": {
            "text/plain": "   Column  loan_amnt  funded_amnt  int_rate  installment  grade  emp_length  \\\n0      19      14000        14000     20.00       520.30      4        10.0   \n1      40      10000        10000      7.02       308.87      7         1.0   \n2      59       4000         4000     12.40       133.63      6         2.0   \n3      96      22000        22000      8.19       691.33      7        10.0   \n4     101      14925        14925     16.40       366.13      5         3.0   \n\n   annual_inc  loan_status           purpose addr_state  last_pymnt_amnt  \\\n0    170000.0   Fully Paid  home_improvement         CA         14155.56   \n1    195000.0   Fully Paid  home_improvement         NY         10104.13   \n2     68500.0  Charged Off  home_improvement         CA             0.00   \n3    100000.0   Fully Paid  home_improvement         PA         22145.15   \n4    133500.0   Fully Paid  home_improvement         UT         15202.95   \n\n   avg_cur_bal  num_actv_rev_tl  \n0      46017.0                9  \n1      34727.0                5  \n2        716.0                3  \n3      21783.0                9  \n4      56977.0                4  ",
            "text/html": "<div>\n<table border=\"1\" class=\"dataframe\">\n  <thead>\n    <tr style=\"text-align: right;\">\n      <th></th>\n      <th>Column</th>\n      <th>loan_amnt</th>\n      <th>funded_amnt</th>\n      <th>int_rate</th>\n      <th>installment</th>\n      <th>grade</th>\n      <th>emp_length</th>\n      <th>annual_inc</th>\n      <th>loan_status</th>\n      <th>purpose</th>\n      <th>addr_state</th>\n      <th>last_pymnt_amnt</th>\n      <th>avg_cur_bal</th>\n      <th>num_actv_rev_tl</th>\n    </tr>\n  </thead>\n  <tbody>\n    <tr>\n      <th>0</th>\n      <td>19</td>\n      <td>14000</td>\n      <td>14000</td>\n      <td>20.00</td>\n      <td>520.30</td>\n      <td>4</td>\n      <td>10.0</td>\n      <td>170000.0</td>\n      <td>Fully Paid</td>\n      <td>home_improvement</td>\n      <td>CA</td>\n      <td>14155.56</td>\n      <td>46017.0</td>\n      <td>9</td>\n    </tr>\n    <tr>\n      <th>1</th>\n      <td>40</td>\n      <td>10000</td>\n      <td>10000</td>\n      <td>7.02</td>\n      <td>308.87</td>\n      <td>7</td>\n      <td>1.0</td>\n      <td>195000.0</td>\n      <td>Fully Paid</td>\n      <td>home_improvement</td>\n      <td>NY</td>\n      <td>10104.13</td>\n      <td>34727.0</td>\n      <td>5</td>\n    </tr>\n    <tr>\n      <th>2</th>\n      <td>59</td>\n      <td>4000</td>\n      <td>4000</td>\n      <td>12.40</td>\n      <td>133.63</td>\n      <td>6</td>\n      <td>2.0</td>\n      <td>68500.0</td>\n      <td>Charged Off</td>\n      <td>home_improvement</td>\n      <td>CA</td>\n      <td>0.00</td>\n      <td>716.0</td>\n      <td>3</td>\n    </tr>\n    <tr>\n      <th>3</th>\n      <td>96</td>\n      <td>22000</td>\n      <td>22000</td>\n      <td>8.19</td>\n      <td>691.33</td>\n      <td>7</td>\n      <td>10.0</td>\n      <td>100000.0</td>\n      <td>Fully Paid</td>\n      <td>home_improvement</td>\n      <td>PA</td>\n      <td>22145.15</td>\n      <td>21783.0</td>\n      <td>9</td>\n    </tr>\n    <tr>\n      <th>4</th>\n      <td>101</td>\n      <td>14925</td>\n      <td>14925</td>\n      <td>16.40</td>\n      <td>366.13</td>\n      <td>5</td>\n      <td>3.0</td>\n      <td>133500.0</td>\n      <td>Fully Paid</td>\n      <td>home_improvement</td>\n      <td>UT</td>\n      <td>15202.95</td>\n      <td>56977.0</td>\n      <td>4</td>\n    </tr>\n  </tbody>\n</table>\n</div>"
          },
          "metadata": {}
        }
      ]
    },
    {
      "metadata": {
        "trusted": true
      },
      "cell_type": "code",
      "source": "#4\nmajor_purchase = pd.read_csv('major_purchase.csv')\nmajor_purchase.head()",
      "execution_count": 8,
      "outputs": [
        {
          "output_type": "execute_result",
          "execution_count": 8,
          "data": {
            "text/plain": "   Column  loan_amnt  funded_amnt  int_rate  installment  grade  emp_length  \\\n0      37       3000         3000     11.71        99.23      6         2.0   \n1      43      13000        13000      7.02       401.53      7         1.0   \n2      79       1100         1100     20.00        40.88      4         5.0   \n3     105      40000        40000      6.46      1225.24      7         4.0   \n4     164      13000        13000     15.57       313.18      5         2.0   \n\n   annual_inc loan_status         purpose addr_state  last_pymnt_amnt  \\\n0     48000.0  Fully Paid  major_purchase         NC          3007.81   \n1    160000.0  Fully Paid  major_purchase         CA            19.29   \n2     27000.0  Fully Paid  major_purchase         IN            29.58   \n3    103000.0  Fully Paid  major_purchase         CT         40250.32   \n4    120000.0  Fully Paid  major_purchase         WI         13134.94   \n\n   avg_cur_bal  num_actv_rev_tl  \n0       3217.0                4  \n1      20962.0                4  \n2       2045.0                3  \n3      44904.0                2  \n4      34593.0                3  ",
            "text/html": "<div>\n<table border=\"1\" class=\"dataframe\">\n  <thead>\n    <tr style=\"text-align: right;\">\n      <th></th>\n      <th>Column</th>\n      <th>loan_amnt</th>\n      <th>funded_amnt</th>\n      <th>int_rate</th>\n      <th>installment</th>\n      <th>grade</th>\n      <th>emp_length</th>\n      <th>annual_inc</th>\n      <th>loan_status</th>\n      <th>purpose</th>\n      <th>addr_state</th>\n      <th>last_pymnt_amnt</th>\n      <th>avg_cur_bal</th>\n      <th>num_actv_rev_tl</th>\n    </tr>\n  </thead>\n  <tbody>\n    <tr>\n      <th>0</th>\n      <td>37</td>\n      <td>3000</td>\n      <td>3000</td>\n      <td>11.71</td>\n      <td>99.23</td>\n      <td>6</td>\n      <td>2.0</td>\n      <td>48000.0</td>\n      <td>Fully Paid</td>\n      <td>major_purchase</td>\n      <td>NC</td>\n      <td>3007.81</td>\n      <td>3217.0</td>\n      <td>4</td>\n    </tr>\n    <tr>\n      <th>1</th>\n      <td>43</td>\n      <td>13000</td>\n      <td>13000</td>\n      <td>7.02</td>\n      <td>401.53</td>\n      <td>7</td>\n      <td>1.0</td>\n      <td>160000.0</td>\n      <td>Fully Paid</td>\n      <td>major_purchase</td>\n      <td>CA</td>\n      <td>19.29</td>\n      <td>20962.0</td>\n      <td>4</td>\n    </tr>\n    <tr>\n      <th>2</th>\n      <td>79</td>\n      <td>1100</td>\n      <td>1100</td>\n      <td>20.00</td>\n      <td>40.88</td>\n      <td>4</td>\n      <td>5.0</td>\n      <td>27000.0</td>\n      <td>Fully Paid</td>\n      <td>major_purchase</td>\n      <td>IN</td>\n      <td>29.58</td>\n      <td>2045.0</td>\n      <td>3</td>\n    </tr>\n    <tr>\n      <th>3</th>\n      <td>105</td>\n      <td>40000</td>\n      <td>40000</td>\n      <td>6.46</td>\n      <td>1225.24</td>\n      <td>7</td>\n      <td>4.0</td>\n      <td>103000.0</td>\n      <td>Fully Paid</td>\n      <td>major_purchase</td>\n      <td>CT</td>\n      <td>40250.32</td>\n      <td>44904.0</td>\n      <td>2</td>\n    </tr>\n    <tr>\n      <th>4</th>\n      <td>164</td>\n      <td>13000</td>\n      <td>13000</td>\n      <td>15.57</td>\n      <td>313.18</td>\n      <td>5</td>\n      <td>2.0</td>\n      <td>120000.0</td>\n      <td>Fully Paid</td>\n      <td>major_purchase</td>\n      <td>WI</td>\n      <td>13134.94</td>\n      <td>34593.0</td>\n      <td>3</td>\n    </tr>\n  </tbody>\n</table>\n</div>"
          },
          "metadata": {}
        }
      ]
    },
    {
      "metadata": {
        "trusted": true
      },
      "cell_type": "code",
      "source": "#5 medical\n\nmedical = pd.read_csv('medical.csv')\nmedical.head()",
      "execution_count": 9,
      "outputs": [
        {
          "output_type": "execute_result",
          "execution_count": 9,
          "data": {
            "text/plain": "   Column  loan_amnt  funded_amnt  int_rate  installment  grade  emp_length  \\\n0      76      40000        40000     11.71      1323.04      6         1.0   \n1     103       1100         1100      7.56        34.25      7         1.0   \n2     113       8000         8000     11.71       264.61      6         NaN   \n3     122      25000        25000      7.56       778.35      7        10.0   \n4     140       3025         3025     13.08       102.05      6         1.0   \n\n   annual_inc  loan_status  purpose addr_state  last_pymnt_amnt  avg_cur_bal  \\\n0    179000.0  Charged Off  medical         FL             0.00       2318.0   \n1     92000.0   Fully Paid  medical         CA          1109.41       3350.0   \n2     73336.0   Fully Paid  medical         AZ          8018.22       2126.0   \n3     74000.0   Fully Paid  medical         WA         25053.81      17893.0   \n4     60000.0   Fully Paid  medical         GA          3064.42      39965.0   \n\n   num_actv_rev_tl  \n0                2  \n1                2  \n2                2  \n3                3  \n4                1  ",
            "text/html": "<div>\n<table border=\"1\" class=\"dataframe\">\n  <thead>\n    <tr style=\"text-align: right;\">\n      <th></th>\n      <th>Column</th>\n      <th>loan_amnt</th>\n      <th>funded_amnt</th>\n      <th>int_rate</th>\n      <th>installment</th>\n      <th>grade</th>\n      <th>emp_length</th>\n      <th>annual_inc</th>\n      <th>loan_status</th>\n      <th>purpose</th>\n      <th>addr_state</th>\n      <th>last_pymnt_amnt</th>\n      <th>avg_cur_bal</th>\n      <th>num_actv_rev_tl</th>\n    </tr>\n  </thead>\n  <tbody>\n    <tr>\n      <th>0</th>\n      <td>76</td>\n      <td>40000</td>\n      <td>40000</td>\n      <td>11.71</td>\n      <td>1323.04</td>\n      <td>6</td>\n      <td>1.0</td>\n      <td>179000.0</td>\n      <td>Charged Off</td>\n      <td>medical</td>\n      <td>FL</td>\n      <td>0.00</td>\n      <td>2318.0</td>\n      <td>2</td>\n    </tr>\n    <tr>\n      <th>1</th>\n      <td>103</td>\n      <td>1100</td>\n      <td>1100</td>\n      <td>7.56</td>\n      <td>34.25</td>\n      <td>7</td>\n      <td>1.0</td>\n      <td>92000.0</td>\n      <td>Fully Paid</td>\n      <td>medical</td>\n      <td>CA</td>\n      <td>1109.41</td>\n      <td>3350.0</td>\n      <td>2</td>\n    </tr>\n    <tr>\n      <th>2</th>\n      <td>113</td>\n      <td>8000</td>\n      <td>8000</td>\n      <td>11.71</td>\n      <td>264.61</td>\n      <td>6</td>\n      <td>NaN</td>\n      <td>73336.0</td>\n      <td>Fully Paid</td>\n      <td>medical</td>\n      <td>AZ</td>\n      <td>8018.22</td>\n      <td>2126.0</td>\n      <td>2</td>\n    </tr>\n    <tr>\n      <th>3</th>\n      <td>122</td>\n      <td>25000</td>\n      <td>25000</td>\n      <td>7.56</td>\n      <td>778.35</td>\n      <td>7</td>\n      <td>10.0</td>\n      <td>74000.0</td>\n      <td>Fully Paid</td>\n      <td>medical</td>\n      <td>WA</td>\n      <td>25053.81</td>\n      <td>17893.0</td>\n      <td>3</td>\n    </tr>\n    <tr>\n      <th>4</th>\n      <td>140</td>\n      <td>3025</td>\n      <td>3025</td>\n      <td>13.08</td>\n      <td>102.05</td>\n      <td>6</td>\n      <td>1.0</td>\n      <td>60000.0</td>\n      <td>Fully Paid</td>\n      <td>medical</td>\n      <td>GA</td>\n      <td>3064.42</td>\n      <td>39965.0</td>\n      <td>1</td>\n    </tr>\n  </tbody>\n</table>\n</div>"
          },
          "metadata": {}
        }
      ]
    },
    {
      "metadata": {
        "trusted": true
      },
      "cell_type": "code",
      "source": "#6 house\nhouse = pd.read_csv('house.csv')\nhouse.head()",
      "execution_count": 10,
      "outputs": [
        {
          "output_type": "execute_result",
          "execution_count": 10,
          "data": {
            "text/plain": "   Column  loan_amnt  funded_amnt  int_rate  installment  grade  emp_length  \\\n0      51      11000        11000     13.08       250.74      6        10.0   \n1      58      15000        15000     14.74       518.08      5        10.0   \n2      81      10000        10000     14.74       236.54      5         7.0   \n3     243       8000         8000     13.08       269.86      6         3.0   \n4     584       4800         4800     13.08       161.92      6         2.0   \n\n   annual_inc loan_status purpose addr_state  last_pymnt_amnt  avg_cur_bal  \\\n0    150000.0  Fully Paid   house         NJ         11028.78      20550.0   \n1     94000.0  Fully Paid   house         IL         15031.81      18808.0   \n2     75000.0  Fully Paid   house         NJ         10021.21       7794.0   \n3     75000.0  Fully Paid   house         MI          8014.97      11838.0   \n4         0.0  Fully Paid   house         CO          4848.83      41914.0   \n\n   num_actv_rev_tl  \n0                1  \n1                6  \n2                3  \n3                7  \n4                0  ",
            "text/html": "<div>\n<table border=\"1\" class=\"dataframe\">\n  <thead>\n    <tr style=\"text-align: right;\">\n      <th></th>\n      <th>Column</th>\n      <th>loan_amnt</th>\n      <th>funded_amnt</th>\n      <th>int_rate</th>\n      <th>installment</th>\n      <th>grade</th>\n      <th>emp_length</th>\n      <th>annual_inc</th>\n      <th>loan_status</th>\n      <th>purpose</th>\n      <th>addr_state</th>\n      <th>last_pymnt_amnt</th>\n      <th>avg_cur_bal</th>\n      <th>num_actv_rev_tl</th>\n    </tr>\n  </thead>\n  <tbody>\n    <tr>\n      <th>0</th>\n      <td>51</td>\n      <td>11000</td>\n      <td>11000</td>\n      <td>13.08</td>\n      <td>250.74</td>\n      <td>6</td>\n      <td>10.0</td>\n      <td>150000.0</td>\n      <td>Fully Paid</td>\n      <td>house</td>\n      <td>NJ</td>\n      <td>11028.78</td>\n      <td>20550.0</td>\n      <td>1</td>\n    </tr>\n    <tr>\n      <th>1</th>\n      <td>58</td>\n      <td>15000</td>\n      <td>15000</td>\n      <td>14.74</td>\n      <td>518.08</td>\n      <td>5</td>\n      <td>10.0</td>\n      <td>94000.0</td>\n      <td>Fully Paid</td>\n      <td>house</td>\n      <td>IL</td>\n      <td>15031.81</td>\n      <td>18808.0</td>\n      <td>6</td>\n    </tr>\n    <tr>\n      <th>2</th>\n      <td>81</td>\n      <td>10000</td>\n      <td>10000</td>\n      <td>14.74</td>\n      <td>236.54</td>\n      <td>5</td>\n      <td>7.0</td>\n      <td>75000.0</td>\n      <td>Fully Paid</td>\n      <td>house</td>\n      <td>NJ</td>\n      <td>10021.21</td>\n      <td>7794.0</td>\n      <td>3</td>\n    </tr>\n    <tr>\n      <th>3</th>\n      <td>243</td>\n      <td>8000</td>\n      <td>8000</td>\n      <td>13.08</td>\n      <td>269.86</td>\n      <td>6</td>\n      <td>3.0</td>\n      <td>75000.0</td>\n      <td>Fully Paid</td>\n      <td>house</td>\n      <td>MI</td>\n      <td>8014.97</td>\n      <td>11838.0</td>\n      <td>7</td>\n    </tr>\n    <tr>\n      <th>4</th>\n      <td>584</td>\n      <td>4800</td>\n      <td>4800</td>\n      <td>13.08</td>\n      <td>161.92</td>\n      <td>6</td>\n      <td>2.0</td>\n      <td>0.0</td>\n      <td>Fully Paid</td>\n      <td>house</td>\n      <td>CO</td>\n      <td>4848.83</td>\n      <td>41914.0</td>\n      <td>0</td>\n    </tr>\n  </tbody>\n</table>\n</div>"
          },
          "metadata": {}
        }
      ]
    },
    {
      "metadata": {
        "trusted": true
      },
      "cell_type": "code",
      "source": "#7 car\ncar = pd.read_csv('car.csv')\ncar.head()",
      "execution_count": 11,
      "outputs": [
        {
          "output_type": "execute_result",
          "execution_count": 11,
          "data": {
            "text/plain": "   Column  loan_amnt  funded_amnt  int_rate  installment  grade  emp_length  \\\n0      15      15000        15000      7.56       467.01      7         1.0   \n1      20      20000        20000     15.57       698.91      5         NaN   \n2      33       1200         1200     15.57        41.94      5         5.0   \n3     133       5000         5000     17.19       178.74      5         1.0   \n4     216      14400        14400     22.50       401.82      4         3.0   \n\n   annual_inc loan_status purpose addr_state  last_pymnt_amnt  avg_cur_bal  \\\n0    115000.0  Fully Paid     car         NJ         15016.54      28186.0   \n1     46620.0  Fully Paid     car         VT         20045.85       9549.0   \n2     60000.0  Fully Paid     car         CA          1224.71       4314.0   \n3     56000.0  Fully Paid     car         CA          5017.95        687.0   \n4     91920.0  Fully Paid     car         IN         14456.70       4272.0   \n\n   num_actv_rev_tl  \n0                4  \n1                0  \n2                4  \n3                7  \n4                5  ",
            "text/html": "<div>\n<table border=\"1\" class=\"dataframe\">\n  <thead>\n    <tr style=\"text-align: right;\">\n      <th></th>\n      <th>Column</th>\n      <th>loan_amnt</th>\n      <th>funded_amnt</th>\n      <th>int_rate</th>\n      <th>installment</th>\n      <th>grade</th>\n      <th>emp_length</th>\n      <th>annual_inc</th>\n      <th>loan_status</th>\n      <th>purpose</th>\n      <th>addr_state</th>\n      <th>last_pymnt_amnt</th>\n      <th>avg_cur_bal</th>\n      <th>num_actv_rev_tl</th>\n    </tr>\n  </thead>\n  <tbody>\n    <tr>\n      <th>0</th>\n      <td>15</td>\n      <td>15000</td>\n      <td>15000</td>\n      <td>7.56</td>\n      <td>467.01</td>\n      <td>7</td>\n      <td>1.0</td>\n      <td>115000.0</td>\n      <td>Fully Paid</td>\n      <td>car</td>\n      <td>NJ</td>\n      <td>15016.54</td>\n      <td>28186.0</td>\n      <td>4</td>\n    </tr>\n    <tr>\n      <th>1</th>\n      <td>20</td>\n      <td>20000</td>\n      <td>20000</td>\n      <td>15.57</td>\n      <td>698.91</td>\n      <td>5</td>\n      <td>NaN</td>\n      <td>46620.0</td>\n      <td>Fully Paid</td>\n      <td>car</td>\n      <td>VT</td>\n      <td>20045.85</td>\n      <td>9549.0</td>\n      <td>0</td>\n    </tr>\n    <tr>\n      <th>2</th>\n      <td>33</td>\n      <td>1200</td>\n      <td>1200</td>\n      <td>15.57</td>\n      <td>41.94</td>\n      <td>5</td>\n      <td>5.0</td>\n      <td>60000.0</td>\n      <td>Fully Paid</td>\n      <td>car</td>\n      <td>CA</td>\n      <td>1224.71</td>\n      <td>4314.0</td>\n      <td>4</td>\n    </tr>\n    <tr>\n      <th>3</th>\n      <td>133</td>\n      <td>5000</td>\n      <td>5000</td>\n      <td>17.19</td>\n      <td>178.74</td>\n      <td>5</td>\n      <td>1.0</td>\n      <td>56000.0</td>\n      <td>Fully Paid</td>\n      <td>car</td>\n      <td>CA</td>\n      <td>5017.95</td>\n      <td>687.0</td>\n      <td>7</td>\n    </tr>\n    <tr>\n      <th>4</th>\n      <td>216</td>\n      <td>14400</td>\n      <td>14400</td>\n      <td>22.50</td>\n      <td>401.82</td>\n      <td>4</td>\n      <td>3.0</td>\n      <td>91920.0</td>\n      <td>Fully Paid</td>\n      <td>car</td>\n      <td>IN</td>\n      <td>14456.70</td>\n      <td>4272.0</td>\n      <td>5</td>\n    </tr>\n  </tbody>\n</table>\n</div>"
          },
          "metadata": {}
        }
      ]
    },
    {
      "metadata": {
        "trusted": true
      },
      "cell_type": "code",
      "source": "#8 vacation\nvacation = pd.read_csv('vacation.csv')\nvacation.head()",
      "execution_count": 12,
      "outputs": [
        {
          "output_type": "execute_result",
          "execution_count": 12,
          "data": {
            "text/plain": "   Column  loan_amnt  funded_amnt  int_rate  installment  grade  emp_length  \\\n0      84       2400         2400     20.00        89.20      4        10.0   \n1     144       5000         5000      8.81       158.56      7        10.0   \n2     310       1500         1500     12.40        50.11      6        10.0   \n3     374       2400         2400     11.71        79.39      6         2.0   \n4     473       4200         4200      7.02       129.73      7        10.0   \n\n   annual_inc  loan_status   purpose addr_state  last_pymnt_amnt  avg_cur_bal  \\\n0     45000.0   Fully Paid  vacation         ID          2425.33      21672.0   \n1    124000.0   Fully Paid  vacation         NY          5003.98      19353.0   \n2     91000.0  Charged Off  vacation         NJ             0.00      14542.0   \n3     54000.0   Fully Paid  vacation         NJ          2402.58       1041.0   \n4    100000.0   Fully Paid  vacation         WA          4250.25       6697.0   \n\n   num_actv_rev_tl  \n0                5  \n1               10  \n2               11  \n3                4  \n4                2  ",
            "text/html": "<div>\n<table border=\"1\" class=\"dataframe\">\n  <thead>\n    <tr style=\"text-align: right;\">\n      <th></th>\n      <th>Column</th>\n      <th>loan_amnt</th>\n      <th>funded_amnt</th>\n      <th>int_rate</th>\n      <th>installment</th>\n      <th>grade</th>\n      <th>emp_length</th>\n      <th>annual_inc</th>\n      <th>loan_status</th>\n      <th>purpose</th>\n      <th>addr_state</th>\n      <th>last_pymnt_amnt</th>\n      <th>avg_cur_bal</th>\n      <th>num_actv_rev_tl</th>\n    </tr>\n  </thead>\n  <tbody>\n    <tr>\n      <th>0</th>\n      <td>84</td>\n      <td>2400</td>\n      <td>2400</td>\n      <td>20.00</td>\n      <td>89.20</td>\n      <td>4</td>\n      <td>10.0</td>\n      <td>45000.0</td>\n      <td>Fully Paid</td>\n      <td>vacation</td>\n      <td>ID</td>\n      <td>2425.33</td>\n      <td>21672.0</td>\n      <td>5</td>\n    </tr>\n    <tr>\n      <th>1</th>\n      <td>144</td>\n      <td>5000</td>\n      <td>5000</td>\n      <td>8.81</td>\n      <td>158.56</td>\n      <td>7</td>\n      <td>10.0</td>\n      <td>124000.0</td>\n      <td>Fully Paid</td>\n      <td>vacation</td>\n      <td>NY</td>\n      <td>5003.98</td>\n      <td>19353.0</td>\n      <td>10</td>\n    </tr>\n    <tr>\n      <th>2</th>\n      <td>310</td>\n      <td>1500</td>\n      <td>1500</td>\n      <td>12.40</td>\n      <td>50.11</td>\n      <td>6</td>\n      <td>10.0</td>\n      <td>91000.0</td>\n      <td>Charged Off</td>\n      <td>vacation</td>\n      <td>NJ</td>\n      <td>0.00</td>\n      <td>14542.0</td>\n      <td>11</td>\n    </tr>\n    <tr>\n      <th>3</th>\n      <td>374</td>\n      <td>2400</td>\n      <td>2400</td>\n      <td>11.71</td>\n      <td>79.39</td>\n      <td>6</td>\n      <td>2.0</td>\n      <td>54000.0</td>\n      <td>Fully Paid</td>\n      <td>vacation</td>\n      <td>NJ</td>\n      <td>2402.58</td>\n      <td>1041.0</td>\n      <td>4</td>\n    </tr>\n    <tr>\n      <th>4</th>\n      <td>473</td>\n      <td>4200</td>\n      <td>4200</td>\n      <td>7.02</td>\n      <td>129.73</td>\n      <td>7</td>\n      <td>10.0</td>\n      <td>100000.0</td>\n      <td>Fully Paid</td>\n      <td>vacation</td>\n      <td>WA</td>\n      <td>4250.25</td>\n      <td>6697.0</td>\n      <td>2</td>\n    </tr>\n  </tbody>\n</table>\n</div>"
          },
          "metadata": {}
        }
      ]
    },
    {
      "metadata": {
        "trusted": true
      },
      "cell_type": "code",
      "source": "#9 moving\nmoving0 = pd.read_csv('moving.csv')\nmoving0.head()",
      "execution_count": 240,
      "outputs": [
        {
          "output_type": "execute_result",
          "execution_count": 240,
          "data": {
            "text/plain": "   Column  loan_amnt  funded_amnt  int_rate  installment  grade  emp_length  \\\n0      53       6000         6000     13.08       202.40      6         NaN   \n1     299       3000         3000     12.40       100.22      6         6.0   \n2     480       3000         3000      7.56        93.41      7         2.0   \n3     616       8000         8000     14.74       276.31      5         1.0   \n4     701      20000        20000     28.90       633.63      3         1.0   \n\n   annual_inc loan_status purpose addr_state  last_pymnt_amnt  avg_cur_bal  \\\n0     35707.0  Fully Paid  moving         NY          6114.40       1119.0   \n1     90000.0  Fully Paid  moving         OK          3062.63      17477.0   \n2     90000.0  Fully Paid  moving         FL          2018.90       7358.0   \n3     64000.0  Fully Paid  moving         GA          8010.81        143.0   \n4     45000.0  Fully Paid  moving         GA         20052.98       3342.0   \n\n   num_actv_rev_tl  \n0                5  \n1                5  \n2                3  \n3                1  \n4                2  ",
            "text/html": "<div>\n<table border=\"1\" class=\"dataframe\">\n  <thead>\n    <tr style=\"text-align: right;\">\n      <th></th>\n      <th>Column</th>\n      <th>loan_amnt</th>\n      <th>funded_amnt</th>\n      <th>int_rate</th>\n      <th>installment</th>\n      <th>grade</th>\n      <th>emp_length</th>\n      <th>annual_inc</th>\n      <th>loan_status</th>\n      <th>purpose</th>\n      <th>addr_state</th>\n      <th>last_pymnt_amnt</th>\n      <th>avg_cur_bal</th>\n      <th>num_actv_rev_tl</th>\n    </tr>\n  </thead>\n  <tbody>\n    <tr>\n      <th>0</th>\n      <td>53</td>\n      <td>6000</td>\n      <td>6000</td>\n      <td>13.08</td>\n      <td>202.40</td>\n      <td>6</td>\n      <td>NaN</td>\n      <td>35707.0</td>\n      <td>Fully Paid</td>\n      <td>moving</td>\n      <td>NY</td>\n      <td>6114.40</td>\n      <td>1119.0</td>\n      <td>5</td>\n    </tr>\n    <tr>\n      <th>1</th>\n      <td>299</td>\n      <td>3000</td>\n      <td>3000</td>\n      <td>12.40</td>\n      <td>100.22</td>\n      <td>6</td>\n      <td>6.0</td>\n      <td>90000.0</td>\n      <td>Fully Paid</td>\n      <td>moving</td>\n      <td>OK</td>\n      <td>3062.63</td>\n      <td>17477.0</td>\n      <td>5</td>\n    </tr>\n    <tr>\n      <th>2</th>\n      <td>480</td>\n      <td>3000</td>\n      <td>3000</td>\n      <td>7.56</td>\n      <td>93.41</td>\n      <td>7</td>\n      <td>2.0</td>\n      <td>90000.0</td>\n      <td>Fully Paid</td>\n      <td>moving</td>\n      <td>FL</td>\n      <td>2018.90</td>\n      <td>7358.0</td>\n      <td>3</td>\n    </tr>\n    <tr>\n      <th>3</th>\n      <td>616</td>\n      <td>8000</td>\n      <td>8000</td>\n      <td>14.74</td>\n      <td>276.31</td>\n      <td>5</td>\n      <td>1.0</td>\n      <td>64000.0</td>\n      <td>Fully Paid</td>\n      <td>moving</td>\n      <td>GA</td>\n      <td>8010.81</td>\n      <td>143.0</td>\n      <td>1</td>\n    </tr>\n    <tr>\n      <th>4</th>\n      <td>701</td>\n      <td>20000</td>\n      <td>20000</td>\n      <td>28.90</td>\n      <td>633.63</td>\n      <td>3</td>\n      <td>1.0</td>\n      <td>45000.0</td>\n      <td>Fully Paid</td>\n      <td>moving</td>\n      <td>GA</td>\n      <td>20052.98</td>\n      <td>3342.0</td>\n      <td>2</td>\n    </tr>\n  </tbody>\n</table>\n</div>"
          },
          "metadata": {}
        }
      ]
    },
    {
      "metadata": {
        "trusted": true
      },
      "cell_type": "code",
      "source": "#10 small_business\nsmall_business = pd.read_csv('small_business.csv')\nsmall_business.head()",
      "execution_count": 14,
      "outputs": [
        {
          "output_type": "execute_result",
          "execution_count": 14,
          "data": {
            "text/plain": "   Column  loan_amnt  funded_amnt  int_rate  installment  grade  emp_length  \\\n0      46      20000        20000     20.00       743.28      4         1.0   \n1     102      14000        14000     12.40       314.26      6         8.0   \n2     165      39075        39075     11.02      1279.64      6         1.0   \n3     199      10000        10000     12.40       334.06      6         1.0   \n4     219      20000        20000     10.33       648.45      6        10.0   \n\n   annual_inc  loan_status         purpose addr_state  last_pymnt_amnt  \\\n0     80000.0   Fully Paid  small_business         NJ         20288.89   \n1    190000.0   Fully Paid  small_business         WA         14130.20   \n2   1750000.0   Fully Paid  small_business         MI         39725.82   \n3     30000.0  Charged Off  small_business         ME           334.06   \n4    120000.0   Fully Paid  small_business         MD         20143.47   \n\n   avg_cur_bal  num_actv_rev_tl  \n0          6.0               11  \n1      87775.0                3  \n2      13251.0                4  \n3      34004.0                3  \n4      15014.0                2  ",
            "text/html": "<div>\n<table border=\"1\" class=\"dataframe\">\n  <thead>\n    <tr style=\"text-align: right;\">\n      <th></th>\n      <th>Column</th>\n      <th>loan_amnt</th>\n      <th>funded_amnt</th>\n      <th>int_rate</th>\n      <th>installment</th>\n      <th>grade</th>\n      <th>emp_length</th>\n      <th>annual_inc</th>\n      <th>loan_status</th>\n      <th>purpose</th>\n      <th>addr_state</th>\n      <th>last_pymnt_amnt</th>\n      <th>avg_cur_bal</th>\n      <th>num_actv_rev_tl</th>\n    </tr>\n  </thead>\n  <tbody>\n    <tr>\n      <th>0</th>\n      <td>46</td>\n      <td>20000</td>\n      <td>20000</td>\n      <td>20.00</td>\n      <td>743.28</td>\n      <td>4</td>\n      <td>1.0</td>\n      <td>80000.0</td>\n      <td>Fully Paid</td>\n      <td>small_business</td>\n      <td>NJ</td>\n      <td>20288.89</td>\n      <td>6.0</td>\n      <td>11</td>\n    </tr>\n    <tr>\n      <th>1</th>\n      <td>102</td>\n      <td>14000</td>\n      <td>14000</td>\n      <td>12.40</td>\n      <td>314.26</td>\n      <td>6</td>\n      <td>8.0</td>\n      <td>190000.0</td>\n      <td>Fully Paid</td>\n      <td>small_business</td>\n      <td>WA</td>\n      <td>14130.20</td>\n      <td>87775.0</td>\n      <td>3</td>\n    </tr>\n    <tr>\n      <th>2</th>\n      <td>165</td>\n      <td>39075</td>\n      <td>39075</td>\n      <td>11.02</td>\n      <td>1279.64</td>\n      <td>6</td>\n      <td>1.0</td>\n      <td>1750000.0</td>\n      <td>Fully Paid</td>\n      <td>small_business</td>\n      <td>MI</td>\n      <td>39725.82</td>\n      <td>13251.0</td>\n      <td>4</td>\n    </tr>\n    <tr>\n      <th>3</th>\n      <td>199</td>\n      <td>10000</td>\n      <td>10000</td>\n      <td>12.40</td>\n      <td>334.06</td>\n      <td>6</td>\n      <td>1.0</td>\n      <td>30000.0</td>\n      <td>Charged Off</td>\n      <td>small_business</td>\n      <td>ME</td>\n      <td>334.06</td>\n      <td>34004.0</td>\n      <td>3</td>\n    </tr>\n    <tr>\n      <th>4</th>\n      <td>219</td>\n      <td>20000</td>\n      <td>20000</td>\n      <td>10.33</td>\n      <td>648.45</td>\n      <td>6</td>\n      <td>10.0</td>\n      <td>120000.0</td>\n      <td>Fully Paid</td>\n      <td>small_business</td>\n      <td>MD</td>\n      <td>20143.47</td>\n      <td>15014.0</td>\n      <td>2</td>\n    </tr>\n  </tbody>\n</table>\n</div>"
          },
          "metadata": {}
        }
      ]
    },
    {
      "metadata": {
        "trusted": true
      },
      "cell_type": "code",
      "source": "#11 renewable_energy\nrenewable_energy = pd.read_csv('renewable_energy.csv')\nrenewable_energy.head()",
      "execution_count": 15,
      "outputs": [
        {
          "output_type": "execute_result",
          "execution_count": 15,
          "data": {
            "text/plain": "   Column  loan_amnt  funded_amnt  int_rate  installment  grade  emp_length  \\\n0     454       1500         1500     16.40        53.04      5         1.0   \n1     562       1000         1000     22.50        38.45      4         3.0   \n2     978       4275         4275     11.02       140.00      6         5.0   \n3    1126      10000        10000     12.40       334.06      6         2.0   \n4    3312       1200         1200     27.27        49.17      3        10.0   \n\n   annual_inc loan_status           purpose addr_state  last_pymnt_amnt  \\\n0    135000.0  Fully Paid  renewable_energy         MI          1520.50   \n1     40000.0  Fully Paid  renewable_energy         NY           858.76   \n2    116129.0  Fully Paid  renewable_energy         FL            27.05   \n3     48000.0  Fully Paid  renewable_energy         CA          9886.65   \n4     68000.0  Fully Paid  renewable_energy         CT          1161.06   \n\n   avg_cur_bal  num_actv_rev_tl  \n0      14766.0                4  \n1       3744.0                2  \n2      19748.0                9  \n3       1029.0                2  \n4       4434.0                8  ",
            "text/html": "<div>\n<table border=\"1\" class=\"dataframe\">\n  <thead>\n    <tr style=\"text-align: right;\">\n      <th></th>\n      <th>Column</th>\n      <th>loan_amnt</th>\n      <th>funded_amnt</th>\n      <th>int_rate</th>\n      <th>installment</th>\n      <th>grade</th>\n      <th>emp_length</th>\n      <th>annual_inc</th>\n      <th>loan_status</th>\n      <th>purpose</th>\n      <th>addr_state</th>\n      <th>last_pymnt_amnt</th>\n      <th>avg_cur_bal</th>\n      <th>num_actv_rev_tl</th>\n    </tr>\n  </thead>\n  <tbody>\n    <tr>\n      <th>0</th>\n      <td>454</td>\n      <td>1500</td>\n      <td>1500</td>\n      <td>16.40</td>\n      <td>53.04</td>\n      <td>5</td>\n      <td>1.0</td>\n      <td>135000.0</td>\n      <td>Fully Paid</td>\n      <td>renewable_energy</td>\n      <td>MI</td>\n      <td>1520.50</td>\n      <td>14766.0</td>\n      <td>4</td>\n    </tr>\n    <tr>\n      <th>1</th>\n      <td>562</td>\n      <td>1000</td>\n      <td>1000</td>\n      <td>22.50</td>\n      <td>38.45</td>\n      <td>4</td>\n      <td>3.0</td>\n      <td>40000.0</td>\n      <td>Fully Paid</td>\n      <td>renewable_energy</td>\n      <td>NY</td>\n      <td>858.76</td>\n      <td>3744.0</td>\n      <td>2</td>\n    </tr>\n    <tr>\n      <th>2</th>\n      <td>978</td>\n      <td>4275</td>\n      <td>4275</td>\n      <td>11.02</td>\n      <td>140.00</td>\n      <td>6</td>\n      <td>5.0</td>\n      <td>116129.0</td>\n      <td>Fully Paid</td>\n      <td>renewable_energy</td>\n      <td>FL</td>\n      <td>27.05</td>\n      <td>19748.0</td>\n      <td>9</td>\n    </tr>\n    <tr>\n      <th>3</th>\n      <td>1126</td>\n      <td>10000</td>\n      <td>10000</td>\n      <td>12.40</td>\n      <td>334.06</td>\n      <td>6</td>\n      <td>2.0</td>\n      <td>48000.0</td>\n      <td>Fully Paid</td>\n      <td>renewable_energy</td>\n      <td>CA</td>\n      <td>9886.65</td>\n      <td>1029.0</td>\n      <td>2</td>\n    </tr>\n    <tr>\n      <th>4</th>\n      <td>3312</td>\n      <td>1200</td>\n      <td>1200</td>\n      <td>27.27</td>\n      <td>49.17</td>\n      <td>3</td>\n      <td>10.0</td>\n      <td>68000.0</td>\n      <td>Fully Paid</td>\n      <td>renewable_energy</td>\n      <td>CT</td>\n      <td>1161.06</td>\n      <td>4434.0</td>\n      <td>8</td>\n    </tr>\n  </tbody>\n</table>\n</div>"
          },
          "metadata": {}
        }
      ]
    },
    {
      "metadata": {
        "trusted": true
      },
      "cell_type": "code",
      "source": "#12 other\nother =pd.read_csv('other.csv')\nother.head()",
      "execution_count": 17,
      "outputs": [
        {
          "output_type": "execute_result",
          "execution_count": 17,
          "data": {
            "text/plain": "   Column  loan_amnt  funded_amnt  int_rate  installment  grade  emp_length  \\\n0       8      10000        10000      6.46       306.31      7         8.0   \n1      12       8000         8000     16.40       282.84      5         2.0   \n2      17       3600         3600     16.40       127.28      5         NaN   \n3      18      10500        10500     11.71       347.30      6         3.0   \n4      23      14000        14000     17.19       349.37      5         1.0   \n\n   annual_inc loan_status purpose addr_state  last_pymnt_amnt  avg_cur_bal  \\\n0     59000.0  Fully Paid   other         TX         10009.50      14765.0   \n1     46000.0  Fully Paid   other         TN          8019.32      12189.0   \n2     46000.0  Fully Paid   other         NC          3611.97       2632.0   \n3    100000.0  Fully Paid   other         IL         10517.08        666.0   \n4     60000.0  Fully Paid   other         MI         14034.63       4517.0   \n\n   num_actv_rev_tl  \n0                1  \n1                2  \n2                3  \n3                3  \n4                3  ",
            "text/html": "<div>\n<table border=\"1\" class=\"dataframe\">\n  <thead>\n    <tr style=\"text-align: right;\">\n      <th></th>\n      <th>Column</th>\n      <th>loan_amnt</th>\n      <th>funded_amnt</th>\n      <th>int_rate</th>\n      <th>installment</th>\n      <th>grade</th>\n      <th>emp_length</th>\n      <th>annual_inc</th>\n      <th>loan_status</th>\n      <th>purpose</th>\n      <th>addr_state</th>\n      <th>last_pymnt_amnt</th>\n      <th>avg_cur_bal</th>\n      <th>num_actv_rev_tl</th>\n    </tr>\n  </thead>\n  <tbody>\n    <tr>\n      <th>0</th>\n      <td>8</td>\n      <td>10000</td>\n      <td>10000</td>\n      <td>6.46</td>\n      <td>306.31</td>\n      <td>7</td>\n      <td>8.0</td>\n      <td>59000.0</td>\n      <td>Fully Paid</td>\n      <td>other</td>\n      <td>TX</td>\n      <td>10009.50</td>\n      <td>14765.0</td>\n      <td>1</td>\n    </tr>\n    <tr>\n      <th>1</th>\n      <td>12</td>\n      <td>8000</td>\n      <td>8000</td>\n      <td>16.40</td>\n      <td>282.84</td>\n      <td>5</td>\n      <td>2.0</td>\n      <td>46000.0</td>\n      <td>Fully Paid</td>\n      <td>other</td>\n      <td>TN</td>\n      <td>8019.32</td>\n      <td>12189.0</td>\n      <td>2</td>\n    </tr>\n    <tr>\n      <th>2</th>\n      <td>17</td>\n      <td>3600</td>\n      <td>3600</td>\n      <td>16.40</td>\n      <td>127.28</td>\n      <td>5</td>\n      <td>NaN</td>\n      <td>46000.0</td>\n      <td>Fully Paid</td>\n      <td>other</td>\n      <td>NC</td>\n      <td>3611.97</td>\n      <td>2632.0</td>\n      <td>3</td>\n    </tr>\n    <tr>\n      <th>3</th>\n      <td>18</td>\n      <td>10500</td>\n      <td>10500</td>\n      <td>11.71</td>\n      <td>347.30</td>\n      <td>6</td>\n      <td>3.0</td>\n      <td>100000.0</td>\n      <td>Fully Paid</td>\n      <td>other</td>\n      <td>IL</td>\n      <td>10517.08</td>\n      <td>666.0</td>\n      <td>3</td>\n    </tr>\n    <tr>\n      <th>4</th>\n      <td>23</td>\n      <td>14000</td>\n      <td>14000</td>\n      <td>17.19</td>\n      <td>349.37</td>\n      <td>5</td>\n      <td>1.0</td>\n      <td>60000.0</td>\n      <td>Fully Paid</td>\n      <td>other</td>\n      <td>MI</td>\n      <td>14034.63</td>\n      <td>4517.0</td>\n      <td>3</td>\n    </tr>\n  </tbody>\n</table>\n</div>"
          },
          "metadata": {}
        }
      ]
    },
    {
      "metadata": {},
      "cell_type": "markdown",
      "source": "# credit_card dataset"
    },
    {
      "metadata": {
        "trusted": true
      },
      "cell_type": "code",
      "source": "credit_card1.head()",
      "execution_count": 107,
      "outputs": [
        {
          "output_type": "execute_result",
          "execution_count": 107,
          "data": {
            "text/plain": "   Column  loan_amnt  funded_amnt  int_rate  installment  grade  emp_length  \\\n0       0      10000        10000     12.40       224.48      6         NaN   \n1       4      13750        13750     28.80       574.71      4         NaN   \n2       9      26100        26100     20.00       691.50      4        10.0   \n3      16      13000        13000     20.00       483.13      4         1.0   \n4      21       7000         7000      7.02       216.21      7         7.0   \n\n   annual_inc loan_status      purpose addr_state  last_pymnt_amnt  \\\n0     38000.0  Fully Paid  credit_card         GA         10163.74   \n1     17808.0  Fully Paid  credit_card         OH         13861.98   \n2     68000.0  Fully Paid  credit_card         NY         26779.08   \n3     30000.0  Fully Paid  credit_card         NV         13052.72   \n4     79950.0  Fully Paid  credit_card         NY          7030.03   \n\n   avg_cur_bal  num_actv_rev_tl  \n0      19266.0                2  \n1       2802.0                6  \n2      19241.0               17  \n3       2446.0                6  \n4      17041.0                3  ",
            "text/html": "<div>\n<table border=\"1\" class=\"dataframe\">\n  <thead>\n    <tr style=\"text-align: right;\">\n      <th></th>\n      <th>Column</th>\n      <th>loan_amnt</th>\n      <th>funded_amnt</th>\n      <th>int_rate</th>\n      <th>installment</th>\n      <th>grade</th>\n      <th>emp_length</th>\n      <th>annual_inc</th>\n      <th>loan_status</th>\n      <th>purpose</th>\n      <th>addr_state</th>\n      <th>last_pymnt_amnt</th>\n      <th>avg_cur_bal</th>\n      <th>num_actv_rev_tl</th>\n    </tr>\n  </thead>\n  <tbody>\n    <tr>\n      <th>0</th>\n      <td>0</td>\n      <td>10000</td>\n      <td>10000</td>\n      <td>12.40</td>\n      <td>224.48</td>\n      <td>6</td>\n      <td>NaN</td>\n      <td>38000.0</td>\n      <td>Fully Paid</td>\n      <td>credit_card</td>\n      <td>GA</td>\n      <td>10163.74</td>\n      <td>19266.0</td>\n      <td>2</td>\n    </tr>\n    <tr>\n      <th>1</th>\n      <td>4</td>\n      <td>13750</td>\n      <td>13750</td>\n      <td>28.80</td>\n      <td>574.71</td>\n      <td>4</td>\n      <td>NaN</td>\n      <td>17808.0</td>\n      <td>Fully Paid</td>\n      <td>credit_card</td>\n      <td>OH</td>\n      <td>13861.98</td>\n      <td>2802.0</td>\n      <td>6</td>\n    </tr>\n    <tr>\n      <th>2</th>\n      <td>9</td>\n      <td>26100</td>\n      <td>26100</td>\n      <td>20.00</td>\n      <td>691.50</td>\n      <td>4</td>\n      <td>10.0</td>\n      <td>68000.0</td>\n      <td>Fully Paid</td>\n      <td>credit_card</td>\n      <td>NY</td>\n      <td>26779.08</td>\n      <td>19241.0</td>\n      <td>17</td>\n    </tr>\n    <tr>\n      <th>3</th>\n      <td>16</td>\n      <td>13000</td>\n      <td>13000</td>\n      <td>20.00</td>\n      <td>483.13</td>\n      <td>4</td>\n      <td>1.0</td>\n      <td>30000.0</td>\n      <td>Fully Paid</td>\n      <td>credit_card</td>\n      <td>NV</td>\n      <td>13052.72</td>\n      <td>2446.0</td>\n      <td>6</td>\n    </tr>\n    <tr>\n      <th>4</th>\n      <td>21</td>\n      <td>7000</td>\n      <td>7000</td>\n      <td>7.02</td>\n      <td>216.21</td>\n      <td>7</td>\n      <td>7.0</td>\n      <td>79950.0</td>\n      <td>Fully Paid</td>\n      <td>credit_card</td>\n      <td>NY</td>\n      <td>7030.03</td>\n      <td>17041.0</td>\n      <td>3</td>\n    </tr>\n  </tbody>\n</table>\n</div>"
          },
          "metadata": {}
        }
      ]
    },
    {
      "metadata": {
        "trusted": true
      },
      "cell_type": "code",
      "source": "# drop columns\ncredit_card1.drop(['purpose','addr_state','emp_length','Column'], axis=1, inplace=True)",
      "execution_count": 167,
      "outputs": []
    },
    {
      "metadata": {
        "trusted": true
      },
      "cell_type": "code",
      "source": "# change loan status to numeric where 1 are fully paid loans and 0 charged off loans\ndi = {\"Fully Paid\":1, \"Charged Off\":0, \"Late (31-120 days)\":0, \"In Grace Period\":0, \"Late (16-30 days)\":0}  \n\ncredit_card11= credit_card1.replace({\"loan_status\": di})\ncredit_card1[\"loan_status\"].value_counts()\nnewMapping = {1:\"Fully Paid\", 0:\"Charged Off\"}\n",
      "execution_count": 169,
      "outputs": []
    },
    {
      "metadata": {
        "trusted": true
      },
      "cell_type": "code",
      "source": "credit_card11.info()",
      "execution_count": 171,
      "outputs": [
        {
          "output_type": "stream",
          "text": "<class 'pandas.core.frame.DataFrame'>\nRangeIndex: 990 entries, 0 to 989\nData columns (total 10 columns):\nloan_amnt          990 non-null int64\nfunded_amnt        990 non-null int64\nint_rate           990 non-null float64\ninstallment        990 non-null float64\ngrade              990 non-null int64\nannual_inc         990 non-null float64\nloan_status        990 non-null int64\nlast_pymnt_amnt    990 non-null float64\navg_cur_bal        990 non-null float64\nnum_actv_rev_tl    990 non-null int64\ndtypes: float64(5), int64(5)\nmemory usage: 77.4 KB\n",
          "name": "stdout"
        }
      ]
    },
    {
      "metadata": {},
      "cell_type": "markdown",
      "source": "# Assign predictors and target (x,y)"
    },
    {
      "metadata": {
        "trusted": true
      },
      "cell_type": "code",
      "source": "import sklearn \nimport warnings # ignore warnings\nwarnings.simplefilter(\"ignore\")      #Assign predictors & target\nfrom sklearn import preprocessing     \n\ny=credit_card11['loan_status']\nX = credit_card11.drop('loan_status', axis=1)\n",
      "execution_count": 172,
      "outputs": []
    },
    {
      "metadata": {},
      "cell_type": "markdown",
      "source": "# Split Data to train and test"
    },
    {
      "metadata": {
        "trusted": true
      },
      "cell_type": "code",
      "source": "X_train, X_test, y_train, y_test = train_test_split(X, y, test_size = 0.2,random_state=0)",
      "execution_count": 173,
      "outputs": []
    },
    {
      "metadata": {},
      "cell_type": "markdown",
      "source": "# Fitting Random Forest model for Credit_Card dataset, I chose this model because it is the highest accuracy of other models that I have tried before"
    },
    {
      "metadata": {
        "trusted": true
      },
      "cell_type": "code",
      "source": "# Feature Scaling (Normalize x)\nsc = StandardScaler()\nX_train = sc.fit_transform(X_train)\nX_test = sc.transform(X_test)\n\n#RF\nclf=RandomForestClassifier(n_estimators=300)\n\nclf.fit(X_train,y_train)\n\n# Make predictions on test data\ny_pred=clf.predict(X_test)\n\nfrom sklearn import metrics\n# Model Accuracy, how often is the classifier correct?\nprint(\"Accuracy:\",metrics.accuracy_score(y_test, y_pred))",
      "execution_count": 175,
      "outputs": [
        {
          "output_type": "stream",
          "text": "Accuracy: 0.9343434343434344\n",
          "name": "stdout"
        }
      ]
    },
    {
      "metadata": {
        "trusted": true
      },
      "cell_type": "code",
      "source": "",
      "execution_count": null,
      "outputs": []
    },
    {
      "metadata": {},
      "cell_type": "markdown",
      "source": "# debt_Consolidation"
    },
    {
      "metadata": {
        "trusted": true
      },
      "cell_type": "code",
      "source": "debt_Consolidation.drop(['purpose','addr_state','emp_length','Column'], axis=1, inplace=True)",
      "execution_count": 176,
      "outputs": []
    },
    {
      "metadata": {
        "trusted": true
      },
      "cell_type": "code",
      "source": "# change loan status to numeric where 1 are fully paid loans and 0 charged off loans\ndi = {\"Fully Paid\":1, \"Charged Off\":0, \"Late (31-120 days)\":0, \"In Grace Period\":0, \"Late (16-30 days)\":0}  \n\ndebt_Consolidation1= debt_Consolidation.replace({\"loan_status\": di})\ndebt_Consolidation[\"loan_status\"].value_counts()\nnewMapping = {1:\"Fully Paid\", 0:\"Charged Off\"}\n",
      "execution_count": 177,
      "outputs": []
    },
    {
      "metadata": {
        "trusted": true
      },
      "cell_type": "code",
      "source": "import sklearn \nimport warnings # ignore warnings\nwarnings.simplefilter(\"ignore\")      #Assign predictors & target\nfrom sklearn import preprocessing     \n\ny=debt_Consolidation1['loan_status']\nX = debt_Consolidation1.drop('loan_status', axis=1)",
      "execution_count": 178,
      "outputs": []
    },
    {
      "metadata": {
        "trusted": true
      },
      "cell_type": "code",
      "source": "X_train, X_test, y_train, y_test = train_test_split(X, y, test_size = 0.2,random_state=0)",
      "execution_count": 179,
      "outputs": []
    },
    {
      "metadata": {
        "trusted": true
      },
      "cell_type": "code",
      "source": "debt_Consolidation1.shape",
      "execution_count": 181,
      "outputs": [
        {
          "output_type": "execute_result",
          "execution_count": 181,
          "data": {
            "text/plain": "(2512, 10)"
          },
          "metadata": {}
        }
      ]
    },
    {
      "metadata": {
        "trusted": true
      },
      "cell_type": "code",
      "source": "X_train.shape",
      "execution_count": 183,
      "outputs": [
        {
          "output_type": "execute_result",
          "execution_count": 183,
          "data": {
            "text/plain": "(2009, 9)"
          },
          "metadata": {}
        }
      ]
    },
    {
      "metadata": {
        "trusted": true
      },
      "cell_type": "code",
      "source": "# Feature Scaling (Normalize x)\nsc = StandardScaler()\nX_train = sc.fit_transform(X_train)\nX_test = sc.transform(X_test)\n\n#RF\nclf=RandomForestClassifier(n_estimators=300)\n\nclf.fit(X_train,y_train)\n\n# Make predictions on test data\ny_pred=clf.predict(X_test)\n\nfrom sklearn import metrics\n# Model Accuracy, how often is the classifier correct?\nprint(\"Accuracy:\",metrics.accuracy_score(y_test, y_pred))",
      "execution_count": 184,
      "outputs": [
        {
          "output_type": "stream",
          "text": "Accuracy: 0.9681908548707754\n",
          "name": "stdout"
        }
      ]
    },
    {
      "metadata": {
        "trusted": true
      },
      "cell_type": "code",
      "source": "",
      "execution_count": null,
      "outputs": []
    },
    {
      "metadata": {
        "trusted": true
      },
      "cell_type": "code",
      "source": "",
      "execution_count": null,
      "outputs": []
    },
    {
      "metadata": {},
      "cell_type": "markdown",
      "source": "# home_improvement"
    },
    {
      "metadata": {
        "trusted": true
      },
      "cell_type": "code",
      "source": "\nhome_improvement.drop(['purpose','addr_state','emp_length','Column'], axis=1, inplace=True)\n\n# change loan status to numeric where 1 are fully paid loans and 0 charged off loans\ndi = {\"Fully Paid\":1, \"Charged Off\":0, \"Late (31-120 days)\":0, \"In Grace Period\":0, \"Late (16-30 days)\":0}  \n\nhome_improvement1= home_improvement.replace({\"loan_status\": di})\nhome_improvement[\"loan_status\"].value_counts()\nnewMapping = {1:\"Fully Paid\", 0:\"Charged Off\"}",
      "execution_count": 185,
      "outputs": []
    },
    {
      "metadata": {
        "trusted": true
      },
      "cell_type": "code",
      "source": "\nimport warnings # ignore warnings\nwarnings.simplefilter(\"ignore\")      #Assign predictors & target\nfrom sklearn import preprocessing     \n\ny=home_improvement1['loan_status']\nX = home_improvement1.drop('loan_status', axis=1)\n\nX_train, X_test, y_train, y_test = train_test_split(X, y, test_size = 0.2,random_state=0)",
      "execution_count": 186,
      "outputs": []
    },
    {
      "metadata": {
        "trusted": true
      },
      "cell_type": "code",
      "source": "home_improvement1.shape",
      "execution_count": 187,
      "outputs": [
        {
          "output_type": "execute_result",
          "execution_count": 187,
          "data": {
            "text/plain": "(361, 10)"
          },
          "metadata": {}
        }
      ]
    },
    {
      "metadata": {
        "trusted": true
      },
      "cell_type": "code",
      "source": "X_train.shape",
      "execution_count": 188,
      "outputs": [
        {
          "output_type": "execute_result",
          "execution_count": 188,
          "data": {
            "text/plain": "(288, 9)"
          },
          "metadata": {}
        }
      ]
    },
    {
      "metadata": {
        "trusted": true
      },
      "cell_type": "code",
      "source": "# Feature Scaling (Normalize x)\nsc = StandardScaler()\nX_train = sc.fit_transform(X_train)\nX_test = sc.transform(X_test)\n\n#RF\nclf=RandomForestClassifier(n_estimators=300)\n\nclf.fit(X_train,y_train)\n\n# Make predictions on test data\ny_pred=clf.predict(X_test)\n\nfrom sklearn import metrics\n# Model Accuracy, how often is the classifier correct?\nprint(\"Accuracy:\",metrics.accuracy_score(y_test, y_pred))",
      "execution_count": 189,
      "outputs": [
        {
          "output_type": "stream",
          "text": "Accuracy: 0.9315068493150684\n",
          "name": "stdout"
        }
      ]
    },
    {
      "metadata": {
        "trusted": true
      },
      "cell_type": "code",
      "source": "",
      "execution_count": null,
      "outputs": []
    },
    {
      "metadata": {
        "trusted": true
      },
      "cell_type": "code",
      "source": "",
      "execution_count": null,
      "outputs": []
    },
    {
      "metadata": {},
      "cell_type": "markdown",
      "source": "# major_purchase"
    },
    {
      "metadata": {
        "trusted": true
      },
      "cell_type": "code",
      "source": "\nmajor_purchase.drop(['purpose','addr_state','emp_length','Column'], axis=1, inplace=True)\n\n# change loan status to numeric where 1 are fully paid loans and 0 charged off loans\ndi = {\"Fully Paid\":1, \"Charged Off\":0, \"Late (31-120 days)\":0, \"In Grace Period\":0, \"Late (16-30 days)\":0}  \n\nmajor_purchase1= major_purchase.replace({\"loan_status\": di})\nmajor_purchase[\"loan_status\"].value_counts()\nnewMapping = {1:\"Fully Paid\", 0:\"Charged Off\"}\n",
      "execution_count": 190,
      "outputs": []
    },
    {
      "metadata": {
        "trusted": true
      },
      "cell_type": "code",
      "source": "import sklearn \nimport warnings # ignore warnings\nwarnings.simplefilter(\"ignore\")      #Assign predictors & target\nfrom sklearn import preprocessing     \n\ny=major_purchase1['loan_status']\nX = major_purchase1.drop('loan_status', axis=1)\n\nX_train, X_test, y_train, y_test = train_test_split(X, y, test_size = 0.2,random_state=0)",
      "execution_count": 191,
      "outputs": []
    },
    {
      "metadata": {
        "trusted": true
      },
      "cell_type": "code",
      "source": "# Feature Scaling (Normalize x)\nsc = StandardScaler()\nX_train = sc.fit_transform(X_train)\nX_test = sc.transform(X_test)\n\n#RF\nclf=RandomForestClassifier(n_estimators=300)\n\nclf.fit(X_train,y_train)\n\n# Make predictions on test data\ny_pred=clf.predict(X_test)\n\nfrom sklearn import metrics\n# Model Accuracy, how often is the classifier correct?\nprint(\"Accuracy:\",metrics.accuracy_score(y_test, y_pred))",
      "execution_count": 192,
      "outputs": [
        {
          "output_type": "stream",
          "text": "Accuracy: 0.9230769230769231\n",
          "name": "stdout"
        }
      ]
    },
    {
      "metadata": {},
      "cell_type": "markdown",
      "source": "# 5- medical"
    },
    {
      "metadata": {
        "trusted": true
      },
      "cell_type": "code",
      "source": "\nmedical.drop(['purpose','addr_state','emp_length','Column'], axis=1, inplace=True)\n\n# change loan status to numeric where 1 are fully paid loans and 0 charged off loans\ndi = {\"Fully Paid\":1, \"Charged Off\":0, \"Late (31-120 days)\":0, \"In Grace Period\":0, \"Late (16-30 days)\":0}  \n\nmedical1= medical.replace({\"loan_status\": di})\nmedical[\"loan_status\"].value_counts()\nnewMapping = {1:\"Fully Paid\", 0:\"Charged Off\"}\n\n",
      "execution_count": 193,
      "outputs": []
    },
    {
      "metadata": {
        "trusted": true
      },
      "cell_type": "code",
      "source": "import sklearn \nimport warnings # ignore warnings\nwarnings.simplefilter(\"ignore\")      #Assign predictors & target\nfrom sklearn import preprocessing     \n\ny=medical1['loan_status']\nX = medical1.drop('loan_status', axis=1)\n\nX_train, X_test, y_train, y_test = train_test_split(X, y, test_size = 0.2,random_state=0)",
      "execution_count": 194,
      "outputs": []
    },
    {
      "metadata": {
        "trusted": true
      },
      "cell_type": "code",
      "source": "# Feature Scaling (Normalize x)\nsc = StandardScaler()\nX_train = sc.fit_transform(X_train)\nX_test = sc.transform(X_test)\n\n#RF\nclf=RandomForestClassifier(n_estimators=300)\n\nclf.fit(X_train,y_train)\n\n# Make predictions on test data\ny_pred=clf.predict(X_test)\n\nfrom sklearn import metrics\n# Model Accuracy, how often is the classifier correct?\nprint(\"Accuracy:\",metrics.accuracy_score(y_test, y_pred))",
      "execution_count": 195,
      "outputs": [
        {
          "output_type": "stream",
          "text": "Accuracy: 0.8666666666666667\n",
          "name": "stdout"
        }
      ]
    },
    {
      "metadata": {},
      "cell_type": "markdown",
      "source": "# 6- house"
    },
    {
      "metadata": {
        "trusted": true
      },
      "cell_type": "code",
      "source": "\nhouse.drop(['purpose','addr_state','emp_length','Column'], axis=1, inplace=True)\n\n# change loan status to numeric where 1 are fully paid loans and 0 charged off loans\ndi = {\"Fully Paid\":1, \"Charged Off\":0, \"Late (31-120 days)\":0, \"In Grace Period\":0, \"Late (16-30 days)\":0}  \n\nhouse1= house.replace({\"loan_status\": di})\nhouse[\"loan_status\"].value_counts()\nnewMapping = {1:\"Fully Paid\", 0:\"Charged Off\"}\n\n",
      "execution_count": 196,
      "outputs": []
    },
    {
      "metadata": {
        "trusted": true
      },
      "cell_type": "code",
      "source": "import sklearn \nimport warnings # ignore warnings\nwarnings.simplefilter(\"ignore\")      #Assign predictors & target\nfrom sklearn import preprocessing     \n\ny=house1['loan_status']\nX = house1.drop('loan_status', axis=1)\n\nX_train, X_test, y_train, y_test = train_test_split(X, y, test_size = 0.2,random_state=0)",
      "execution_count": 197,
      "outputs": []
    },
    {
      "metadata": {
        "trusted": true
      },
      "cell_type": "code",
      "source": "# Feature Scaling (Normalize x)\nsc = StandardScaler()\nX_train = sc.fit_transform(X_train)\nX_test = sc.transform(X_test)\n\n#RF\nclf=RandomForestClassifier(n_estimators=300)\n\nclf.fit(X_train,y_train)\n\n# Make predictions on test data\ny_pred=clf.predict(X_test)\n\nfrom sklearn import metrics\n# Model Accuracy, how often is the classifier correct?\nprint(\"Accuracy:\",metrics.accuracy_score(y_test, y_pred))",
      "execution_count": 198,
      "outputs": [
        {
          "output_type": "stream",
          "text": "Accuracy: 0.8\n",
          "name": "stdout"
        }
      ]
    },
    {
      "metadata": {
        "trusted": true
      },
      "cell_type": "code",
      "source": "",
      "execution_count": null,
      "outputs": []
    },
    {
      "metadata": {
        "trusted": true
      },
      "cell_type": "code",
      "source": "",
      "execution_count": null,
      "outputs": []
    },
    {
      "metadata": {},
      "cell_type": "markdown",
      "source": "# car"
    },
    {
      "metadata": {
        "trusted": true
      },
      "cell_type": "code",
      "source": "\ncar.drop(['purpose','addr_state','emp_length','Column'], axis=1, inplace=True)\n\n# change loan status to numeric where 1 are fully paid loans and 0 charged off loans\ndi = {\"Fully Paid\":1, \"Charged Off\":0, \"Late (31-120 days)\":0, \"In Grace Period\":0, \"Late (16-30 days)\":0}  \n\ncar1= car.replace({\"loan_status\": di})\ncar[\"loan_status\"].value_counts()\nnewMapping = {1:\"Fully Paid\", 0:\"Charged Off\"}\n",
      "execution_count": 199,
      "outputs": []
    },
    {
      "metadata": {
        "trusted": true
      },
      "cell_type": "code",
      "source": "import sklearn \nimport warnings # ignore warnings\nwarnings.simplefilter(\"ignore\")      #Assign predictors & target\nfrom sklearn import preprocessing     \n\ny=car1['loan_status']\nX = car1.drop('loan_status', axis=1)\n\nX_train, X_test, y_train, y_test = train_test_split(X, y, test_size = 0.2,random_state=0)",
      "execution_count": 200,
      "outputs": []
    },
    {
      "metadata": {
        "trusted": true
      },
      "cell_type": "code",
      "source": "car.shape",
      "execution_count": 201,
      "outputs": [
        {
          "output_type": "execute_result",
          "execution_count": 201,
          "data": {
            "text/plain": "(71, 10)"
          },
          "metadata": {}
        }
      ]
    },
    {
      "metadata": {
        "trusted": true
      },
      "cell_type": "code",
      "source": "X_train.shape",
      "execution_count": 202,
      "outputs": [
        {
          "output_type": "execute_result",
          "execution_count": 202,
          "data": {
            "text/plain": "(56, 9)"
          },
          "metadata": {}
        }
      ]
    },
    {
      "metadata": {
        "trusted": true
      },
      "cell_type": "code",
      "source": "# Feature Scaling (Normalize x)\nsc = StandardScaler()\nX_train = sc.fit_transform(X_train)\nX_test = sc.transform(X_test)\n\n#RF\nclf=RandomForestClassifier(n_estimators=300)\n\nclf.fit(X_train,y_train)\n\n# Make predictions on test data\ny_pred=clf.predict(X_test)\n\nfrom sklearn import metrics\n# Model Accuracy, how often is the classifier correct?\nprint(\"Accuracy:\",metrics.accuracy_score(y_test, y_pred))",
      "execution_count": 204,
      "outputs": [
        {
          "output_type": "stream",
          "text": "Accuracy: 0.9333333333333333\n",
          "name": "stdout"
        }
      ]
    },
    {
      "metadata": {},
      "cell_type": "markdown",
      "source": "# 8- vacation"
    },
    {
      "metadata": {
        "trusted": true
      },
      "cell_type": "code",
      "source": "\nvacation.drop(['purpose','addr_state','emp_length','Column'], axis=1, inplace=True)\n\n# change loan status to numeric where 1 are fully paid loans and 0 charged off loans\ndi = {\"Fully Paid\":1, \"Charged Off\":0, \"Late (31-120 days)\":0, \"In Grace Period\":0, \"Late (16-30 days)\":0}  \n\nvacation1= vacation.replace({\"loan_status\": di})\nvacation[\"loan_status\"].value_counts()\nnewMapping = {1:\"Fully Paid\", 0:\"Charged Off\"}",
      "execution_count": 205,
      "outputs": []
    },
    {
      "metadata": {
        "trusted": true
      },
      "cell_type": "code",
      "source": "import sklearn \nimport warnings # ignore warnings\nwarnings.simplefilter(\"ignore\")      #Assign predictors & target\nfrom sklearn import preprocessing     \n\ny=vacation1['loan_status']\nX = vacation1.drop('loan_status', axis=1)\n\nX_train, X_test, y_train, y_test = train_test_split(X, y, test_size = 0.2,random_state=0)",
      "execution_count": 206,
      "outputs": []
    },
    {
      "metadata": {
        "trusted": true
      },
      "cell_type": "code",
      "source": "# Feature Scaling (Normalize x)\nsc = StandardScaler()\nX_train = sc.fit_transform(X_train)\nX_test = sc.transform(X_test)\n\n#RF\nclf=RandomForestClassifier(n_estimators=300)\n\nclf.fit(X_train,y_train)\n\n# Make predictions on test data\ny_pred=clf.predict(X_test)\n\nfrom sklearn import metrics\n# Model Accuracy, how often is the classifier correct?\nprint(\"Accuracy:\",metrics.accuracy_score(y_test, y_pred))",
      "execution_count": 207,
      "outputs": [
        {
          "output_type": "stream",
          "text": "Accuracy: 0.8181818181818182\n",
          "name": "stdout"
        }
      ]
    },
    {
      "metadata": {
        "trusted": true
      },
      "cell_type": "code",
      "source": "vacation.shape",
      "execution_count": 209,
      "outputs": [
        {
          "output_type": "execute_result",
          "execution_count": 209,
          "data": {
            "text/plain": "(52, 10)"
          },
          "metadata": {}
        }
      ]
    },
    {
      "metadata": {
        "trusted": true
      },
      "cell_type": "code",
      "source": "",
      "execution_count": null,
      "outputs": []
    },
    {
      "metadata": {
        "trusted": true
      },
      "cell_type": "code",
      "source": "",
      "execution_count": null,
      "outputs": []
    },
    {
      "metadata": {},
      "cell_type": "markdown",
      "source": "# 9- moving"
    },
    {
      "metadata": {
        "trusted": true
      },
      "cell_type": "code",
      "source": "\nmoving0.drop(['purpose','addr_state','emp_length','Column'], axis=1, inplace=True)\n\n# change loan status to numeric where 1 are fully paid loans and 0 charged off loans\ndi = {\"Fully Paid\":1, \"Charged Off\":0, \"Late (31-120 days)\":0, \"In Grace Period\":0, \"Late (16-30 days)\":0}  \n\nmovingdf= moving0.replace({\"loan_status\": di})\nmoving0[\"loan_status\"].value_counts()\nnewMapping = {1:\"Fully Paid\", 0:\"Charged Off\"}",
      "execution_count": 241,
      "outputs": []
    },
    {
      "metadata": {
        "trusted": true
      },
      "cell_type": "code",
      "source": "Replace1 =moving0.fillna(\"11\")\nReplace1.isnull().sum()",
      "execution_count": 242,
      "outputs": [
        {
          "output_type": "execute_result",
          "execution_count": 242,
          "data": {
            "text/plain": "loan_amnt          0\nfunded_amnt        0\nint_rate           0\ninstallment        0\ngrade              0\nannual_inc         0\nloan_status        0\nlast_pymnt_amnt    0\navg_cur_bal        0\nnum_actv_rev_tl    0\ndtype: int64"
          },
          "metadata": {}
        }
      ]
    },
    {
      "metadata": {
        "trusted": true
      },
      "cell_type": "code",
      "source": "import sklearn \nimport warnings # ignore warnings\nwarnings.simplefilter(\"ignore\")      #Assign predictors & target\nfrom sklearn import preprocessing     \n\ny=Replace1['loan_status']\nX = Replace1.drop('loan_status', axis=1)\n\nX_train, X_test, y_train, y_test = train_test_split(X, y, test_size = 0.2,random_state=0)",
      "execution_count": 243,
      "outputs": []
    },
    {
      "metadata": {
        "trusted": true
      },
      "cell_type": "code",
      "source": "# Feature Scaling (Normalize x)\nsc = StandardScaler()\nX_train = sc.fit_transform(X_train)\nX_test = sc.transform(X_test)\n\n#RF\nclf=RandomForestClassifier(n_estimators=300)\n\nclf.fit(X_train,y_train)\n\n# Make predictions on test data\ny_pred=clf.predict(X_test)\n\nfrom sklearn import metrics\n# Model Accuracy, how often is the classifier correct?\nprint(\"Accuracy:\",metrics.accuracy_score(y_test, y_pred))",
      "execution_count": 244,
      "outputs": [
        {
          "output_type": "stream",
          "text": "Accuracy: 1.0\n",
          "name": "stdout"
        }
      ]
    },
    {
      "metadata": {
        "trusted": true
      },
      "cell_type": "code",
      "source": "",
      "execution_count": null,
      "outputs": []
    },
    {
      "metadata": {
        "trusted": true
      },
      "cell_type": "code",
      "source": "",
      "execution_count": null,
      "outputs": []
    },
    {
      "metadata": {},
      "cell_type": "markdown",
      "source": "# 10-small_business"
    },
    {
      "metadata": {
        "trusted": true
      },
      "cell_type": "code",
      "source": "\nsmall_business.drop(['purpose','addr_state','emp_length','Column'], axis=1, inplace=True)\n\n# change loan status to numeric where 1 are fully paid loans and 0 charged off loans\ndi = {\"Fully Paid\":1, \"Charged Off\":0, \"Late (31-120 days)\":0, \"In Grace Period\":0, \"Late (16-30 days)\":0}  \n\nsmall_business1= small_business.replace({\"loan_status\": di})\nsmall_business[\"loan_status\"].value_counts()\nnewMapping = {1:\"Fully Paid\", 0:\"Charged Off\"}\n",
      "execution_count": 245,
      "outputs": []
    },
    {
      "metadata": {
        "trusted": true
      },
      "cell_type": "code",
      "source": "import sklearn \nimport warnings # ignore warnings\nwarnings.simplefilter(\"ignore\")      #Assign predictors & target\nfrom sklearn import preprocessing     \n\ny=small_business1['loan_status']\nX = small_business1.drop('loan_status', axis=1)\n\nX_train, X_test, y_train, y_test = train_test_split(X, y, test_size = 0.2,random_state=0)",
      "execution_count": 246,
      "outputs": []
    },
    {
      "metadata": {
        "trusted": true
      },
      "cell_type": "code",
      "source": "# Feature Scaling (Normalize x)\nsc = StandardScaler()\nX_train = sc.fit_transform(X_train)\nX_test = sc.transform(X_test)\n\n#RF\nclf=RandomForestClassifier(n_estimators=300)\n\nclf.fit(X_train,y_train)\n\n# Make predictions on test data\ny_pred=clf.predict(X_test)\n\nfrom sklearn import metrics\n# Model Accuracy, how often is the classifier correct?\nprint(\"Accuracy:\",metrics.accuracy_score(y_test, y_pred))",
      "execution_count": 247,
      "outputs": [
        {
          "output_type": "stream",
          "text": "Accuracy: 0.6\n",
          "name": "stdout"
        }
      ]
    },
    {
      "metadata": {
        "trusted": true
      },
      "cell_type": "code",
      "source": "",
      "execution_count": null,
      "outputs": []
    },
    {
      "metadata": {
        "trusted": true
      },
      "cell_type": "code",
      "source": "",
      "execution_count": null,
      "outputs": []
    },
    {
      "metadata": {},
      "cell_type": "markdown",
      "source": "# 11-renewable_energy"
    },
    {
      "metadata": {
        "trusted": true
      },
      "cell_type": "code",
      "source": "\nrenewable_energy.drop(['purpose','addr_state','emp_length','Column'], axis=1, inplace=True)\n\n# change loan status to numeric where 1 are fully paid loans and 0 charged off loans\ndi = {\"Fully Paid\":1, \"Charged Off\":0, \"Late (31-120 days)\":0, \"In Grace Period\":0, \"Late (16-30 days)\":0}  \n\nrenewable_energy1= renewable_energy.replace({\"loan_status\": di})\nrenewable_energy[\"loan_status\"].value_counts()\nnewMapping = {1:\"Fully Paid\", 0:\"Charged Off\"}",
      "execution_count": 248,
      "outputs": []
    },
    {
      "metadata": {
        "trusted": true
      },
      "cell_type": "code",
      "source": "import sklearn \nimport warnings # ignore warnings\nwarnings.simplefilter(\"ignore\")      #Assign predictors & target\nfrom sklearn import preprocessing     \n\ny=renewable_energy1['loan_status']\nX = renewable_energy1.drop('loan_status', axis=1)\n\nX_train, X_test, y_train, y_test = train_test_split(X, y, test_size = 0.2,random_state=0)",
      "execution_count": 249,
      "outputs": []
    },
    {
      "metadata": {
        "trusted": true
      },
      "cell_type": "code",
      "source": "# Feature Scaling (Normalize x)\nsc = StandardScaler()\nX_train = sc.fit_transform(X_train)\nX_test = sc.transform(X_test)\n\n#RF\nclf=RandomForestClassifier(n_estimators=300)\n\nclf.fit(X_train,y_train)\n\n# Make predictions on test data\ny_pred=clf.predict(X_test)\n\nfrom sklearn import metrics\n# Model Accuracy, how often is the classifier correct?\nprint(\"Accuracy:\",metrics.accuracy_score(y_test, y_pred))",
      "execution_count": 250,
      "outputs": [
        {
          "output_type": "stream",
          "text": "Accuracy: 1.0\n",
          "name": "stdout"
        }
      ]
    },
    {
      "metadata": {
        "trusted": true
      },
      "cell_type": "code",
      "source": "renewable_energy.shape",
      "execution_count": 254,
      "outputs": [
        {
          "output_type": "execute_result",
          "execution_count": 254,
          "data": {
            "text/plain": "(7, 10)"
          },
          "metadata": {}
        }
      ]
    },
    {
      "metadata": {
        "trusted": true
      },
      "cell_type": "code",
      "source": "",
      "execution_count": null,
      "outputs": []
    },
    {
      "metadata": {},
      "cell_type": "markdown",
      "source": "# 12- other"
    },
    {
      "metadata": {
        "trusted": true
      },
      "cell_type": "code",
      "source": "\nother.drop(['purpose','addr_state','emp_length','Column'], axis=1, inplace=True)\n\n# change loan status to numeric where 1 are fully paid loans and 0 charged off loans\ndi = {\"Fully Paid\":1, \"Charged Off\":0, \"Late (31-120 days)\":0, \"In Grace Period\":0, \"Late (16-30 days)\":0}  \n\nother1= other.replace({\"loan_status\": di})\nother[\"loan_status\"].value_counts()\nnewMapping = {1:\"Fully Paid\", 0:\"Charged Off\"}",
      "execution_count": 251,
      "outputs": []
    },
    {
      "metadata": {
        "trusted": true
      },
      "cell_type": "code",
      "source": "import warnings # ignore warnings\nwarnings.simplefilter(\"ignore\")      #Assign predictors & target\nfrom sklearn import preprocessing     \n\ny=other1['loan_status']\nX = other1.drop('loan_status', axis=1)\n\nX_train, X_test, y_train, y_test = train_test_split(X, y, test_size = 0.2,random_state=0)",
      "execution_count": 252,
      "outputs": []
    },
    {
      "metadata": {
        "trusted": true
      },
      "cell_type": "code",
      "source": "# Feature Scaling (Normalize x)\nsc = StandardScaler()\nX_train = sc.fit_transform(X_train)\nX_test = sc.transform(X_test)\n\n#RF\nclf=RandomForestClassifier(n_estimators=300)\n\nclf.fit(X_train,y_train)\n\n# Make predictions on test data\ny_pred=clf.predict(X_test)\n\nfrom sklearn import metrics\n# Model Accuracy, how often is the classifier correct?\nprint(\"Accuracy:\",metrics.accuracy_score(y_test, y_pred))",
      "execution_count": 253,
      "outputs": [
        {
          "output_type": "stream",
          "text": "Accuracy: 0.9240506329113924\n",
          "name": "stdout"
        }
      ]
    },
    {
      "metadata": {
        "trusted": true
      },
      "cell_type": "code",
      "source": "",
      "execution_count": null,
      "outputs": []
    }
  ],
  "metadata": {
    "kernelspec": {
      "name": "python3",
      "display_name": "Python 3",
      "language": "python"
    },
    "language_info": {
      "mimetype": "text/x-python",
      "nbconvert_exporter": "python",
      "name": "python",
      "file_extension": ".py",
      "version": "3.5.4",
      "pygments_lexer": "ipython3",
      "codemirror_mode": {
        "version": 3,
        "name": "ipython"
      }
    }
  },
  "nbformat": 4,
  "nbformat_minor": 2
}