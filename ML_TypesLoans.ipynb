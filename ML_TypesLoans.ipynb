{
  "cells": [
    {
      "metadata": {},
      "cell_type": "markdown",
      "source": "# Import Libraries"
    },
    {
      "metadata": {
        "trusted": true
      },
      "cell_type": "code",
      "source": "import pandas as pd\nimport numpy as np\n#import matplotlib.pyplot as plt\n\nimport warnings # ignore warnings\nwarnings.simplefilter(\"ignore\")      #Assign predictors & target\nfrom sklearn import preprocessing     \n\nfrom sklearn.model_selection import train_test_split # Split data\n\n#Models\nfrom sklearn import model_selection\nfrom sklearn.metrics import accuracy_score\n\n\nfrom sklearn.ensemble import RandomForestClassifier\nfrom sklearn.preprocessing import StandardScaler   # Feature Scaling for RF\n\n\n\nfrom sklearn.svm import SVC\nfrom sklearn.model_selection import GridSearchCV\n\nfrom sklearn.model_selection import train_test_split\n\nimport sklearn \nfrom sklearn.metrics import classification_report\n\nfrom sklearn.model_selection import cross_val_score",
      "execution_count": 3,
      "outputs": []
    },
    {
      "metadata": {
        "trusted": true
      },
      "cell_type": "code",
      "source": "#1\ncredit_card = pd.read_csv('credit_card.csv')\ncredit_card.head()",
      "execution_count": 4,
      "outputs": [
        {
          "output_type": "execute_result",
          "execution_count": 4,
          "data": {
            "text/plain": "  loan_status int_rate      purpose addr_state  funded_amnt  installment  \\\n0  Fully Paid   12.40%  credit_card         GA        10000       224.48   \n1  Fully Paid   28.80%  credit_card         OH        13750       574.71   \n2  Fully Paid   20.00%  credit_card         NY        26100       691.50   \n3  Fully Paid   20.00%  credit_card         NV        13000       483.13   \n4  Fully Paid    7.02%  credit_card         NY         7000       216.21   \n\n  emp_length  annual_inc  last_pymnt_amnt  num_actv_rev_tl  num_sats  \\\n0        NaN     38000.0         10163.74                2         7   \n1        NaN     17808.0         13861.98                6         6   \n2  10+ years     68000.0         26779.08               17        22   \n3     1 year     30000.0         13052.72                6         8   \n4    7 years     79950.0          7030.03                3         8   \n\n   avg_cur_bal  \n0      19266.0  \n1       2802.0  \n2      19241.0  \n3       2446.0  \n4      17041.0  ",
            "text/html": "<div>\n<table border=\"1\" class=\"dataframe\">\n  <thead>\n    <tr style=\"text-align: right;\">\n      <th></th>\n      <th>loan_status</th>\n      <th>int_rate</th>\n      <th>purpose</th>\n      <th>addr_state</th>\n      <th>funded_amnt</th>\n      <th>installment</th>\n      <th>emp_length</th>\n      <th>annual_inc</th>\n      <th>last_pymnt_amnt</th>\n      <th>num_actv_rev_tl</th>\n      <th>num_sats</th>\n      <th>avg_cur_bal</th>\n    </tr>\n  </thead>\n  <tbody>\n    <tr>\n      <th>0</th>\n      <td>Fully Paid</td>\n      <td>12.40%</td>\n      <td>credit_card</td>\n      <td>GA</td>\n      <td>10000</td>\n      <td>224.48</td>\n      <td>NaN</td>\n      <td>38000.0</td>\n      <td>10163.74</td>\n      <td>2</td>\n      <td>7</td>\n      <td>19266.0</td>\n    </tr>\n    <tr>\n      <th>1</th>\n      <td>Fully Paid</td>\n      <td>28.80%</td>\n      <td>credit_card</td>\n      <td>OH</td>\n      <td>13750</td>\n      <td>574.71</td>\n      <td>NaN</td>\n      <td>17808.0</td>\n      <td>13861.98</td>\n      <td>6</td>\n      <td>6</td>\n      <td>2802.0</td>\n    </tr>\n    <tr>\n      <th>2</th>\n      <td>Fully Paid</td>\n      <td>20.00%</td>\n      <td>credit_card</td>\n      <td>NY</td>\n      <td>26100</td>\n      <td>691.50</td>\n      <td>10+ years</td>\n      <td>68000.0</td>\n      <td>26779.08</td>\n      <td>17</td>\n      <td>22</td>\n      <td>19241.0</td>\n    </tr>\n    <tr>\n      <th>3</th>\n      <td>Fully Paid</td>\n      <td>20.00%</td>\n      <td>credit_card</td>\n      <td>NV</td>\n      <td>13000</td>\n      <td>483.13</td>\n      <td>1 year</td>\n      <td>30000.0</td>\n      <td>13052.72</td>\n      <td>6</td>\n      <td>8</td>\n      <td>2446.0</td>\n    </tr>\n    <tr>\n      <th>4</th>\n      <td>Fully Paid</td>\n      <td>7.02%</td>\n      <td>credit_card</td>\n      <td>NY</td>\n      <td>7000</td>\n      <td>216.21</td>\n      <td>7 years</td>\n      <td>79950.0</td>\n      <td>7030.03</td>\n      <td>3</td>\n      <td>8</td>\n      <td>17041.0</td>\n    </tr>\n  </tbody>\n</table>\n</div>"
          },
          "metadata": {}
        }
      ]
    },
    {
      "metadata": {
        "trusted": true
      },
      "cell_type": "code",
      "source": "# Loan status summary \ncredit_card.loan_status.value_counts()",
      "execution_count": 5,
      "outputs": [
        {
          "output_type": "execute_result",
          "execution_count": 5,
          "data": {
            "text/plain": "Fully Paid            771\nLate (31-120 days)     91\nIn Grace Period        64\nLate (16-30 days)      59\nCharged Off             5\nName: loan_status, dtype: int64"
          },
          "metadata": {}
        }
      ]
    },
    {
      "metadata": {
        "trusted": true
      },
      "cell_type": "code",
      "source": "# change loan status to numeric where 1 are fully paid loans and 0 charged off loans\ndi = {\"Fully Paid\":1, \"Charged Off\":0, \"Late (31-120 days)\":0, \"In Grace Period\":0, \"Late (16-30 days)\":0}  \ndf= df.replace({\"loan_status\": di})\ndf[\"loan_status\"].value_counts()\nnewMapping = {1:\"Fully Paid\", 0:\"Charged Off\"}\ndf= df.replace({\"loan_status\": newMapping})\n\n\n# change loan status to numeric where 1 are fully paid loans and 0 charged off loans\ndi = {\"Fully Paid\":1, \"Charged Off\":0, \"Late (31-120 days)\":0, \"In Grace Period\":0, \"Late (16-30 days)\":0}  \ncredit_card= credit_card.replace({\"loan_status\": di})\ncredit_card[\"loan_status\"].value_counts()\nnewMapping = {1:\"Fully Paid\", 0:\"Charged Off\"}\ncredit_card= credit_card.replace({\"loan_status\": newMapping})",
      "execution_count": 9,
      "outputs": [
        {
          "output_type": "error",
          "ename": "TypeError",
          "evalue": "Cannot compare types 'ndarray(dtype=int64)' and 'str'",
          "traceback": [
            "\u001b[0;31m---------------------------------------------------------------------------\u001b[0m",
            "\u001b[0;31mTypeError\u001b[0m                                 Traceback (most recent call last)",
            "\u001b[0;32m<ipython-input-9-1507c527119c>\u001b[0m in \u001b[0;36m<module>\u001b[0;34m()\u001b[0m\n\u001b[1;32m      1\u001b[0m \u001b[0;31m# change loan status to numeric where 1 are fully paid loans and 0 charged off loans\u001b[0m\u001b[0;34m\u001b[0m\u001b[0;34m\u001b[0m\u001b[0m\n\u001b[1;32m      2\u001b[0m \u001b[0mdi\u001b[0m \u001b[0;34m=\u001b[0m \u001b[0;34m{\u001b[0m\u001b[0;34m\"Fully Paid\"\u001b[0m\u001b[0;34m:\u001b[0m\u001b[0;36m1\u001b[0m\u001b[0;34m,\u001b[0m \u001b[0;34m\"Charged Off\"\u001b[0m\u001b[0;34m:\u001b[0m\u001b[0;36m0\u001b[0m\u001b[0;34m,\u001b[0m \u001b[0;34m\"Late (31-120 days)\"\u001b[0m\u001b[0;34m:\u001b[0m\u001b[0;36m0\u001b[0m\u001b[0;34m,\u001b[0m \u001b[0;34m\"In Grace Period\"\u001b[0m\u001b[0;34m:\u001b[0m\u001b[0;36m0\u001b[0m\u001b[0;34m,\u001b[0m \u001b[0;34m\"Late (16-30 days)\"\u001b[0m\u001b[0;34m:\u001b[0m\u001b[0;36m0\u001b[0m\u001b[0;34m}\u001b[0m\u001b[0;34m\u001b[0m\u001b[0m\n\u001b[0;32m----> 3\u001b[0;31m \u001b[0mcredit_card\u001b[0m\u001b[0;34m=\u001b[0m \u001b[0mcredit_card\u001b[0m\u001b[0;34m.\u001b[0m\u001b[0mreplace\u001b[0m\u001b[0;34m(\u001b[0m\u001b[0;34m{\u001b[0m\u001b[0;34m\"loan_status\"\u001b[0m\u001b[0;34m:\u001b[0m \u001b[0mdi\u001b[0m\u001b[0;34m}\u001b[0m\u001b[0;34m)\u001b[0m\u001b[0;34m\u001b[0m\u001b[0m\n\u001b[0m\u001b[1;32m      4\u001b[0m \u001b[0mcredit_card\u001b[0m\u001b[0;34m[\u001b[0m\u001b[0;34m\"loan_status\"\u001b[0m\u001b[0;34m]\u001b[0m\u001b[0;34m.\u001b[0m\u001b[0mvalue_counts\u001b[0m\u001b[0;34m(\u001b[0m\u001b[0;34m)\u001b[0m\u001b[0;34m\u001b[0m\u001b[0m\n\u001b[1;32m      5\u001b[0m \u001b[0mnewMapping\u001b[0m \u001b[0;34m=\u001b[0m \u001b[0;34m{\u001b[0m\u001b[0;36m1\u001b[0m\u001b[0;34m:\u001b[0m\u001b[0;34m\"Fully Paid\"\u001b[0m\u001b[0;34m,\u001b[0m \u001b[0;36m0\u001b[0m\u001b[0;34m:\u001b[0m\u001b[0;34m\"Charged Off\"\u001b[0m\u001b[0;34m}\u001b[0m\u001b[0;34m\u001b[0m\u001b[0m\n",
            "\u001b[0;32m~/anaconda3_420/lib/python3.5/site-packages/pandas/core/generic.py\u001b[0m in \u001b[0;36mreplace\u001b[0;34m(self, to_replace, value, inplace, limit, regex, method, axis)\u001b[0m\n\u001b[1;32m   3464\u001b[0m \u001b[0;34m\u001b[0m\u001b[0m\n\u001b[1;32m   3465\u001b[0m             return self.replace(to_replace, value, inplace=inplace,\n\u001b[0;32m-> 3466\u001b[0;31m                                 limit=limit, regex=regex)\n\u001b[0m\u001b[1;32m   3467\u001b[0m         \u001b[0;32melse\u001b[0m\u001b[0;34m:\u001b[0m\u001b[0;34m\u001b[0m\u001b[0m\n\u001b[1;32m   3468\u001b[0m \u001b[0;34m\u001b[0m\u001b[0m\n",
            "\u001b[0;32m~/anaconda3_420/lib/python3.5/site-packages/pandas/core/generic.py\u001b[0m in \u001b[0;36mreplace\u001b[0;34m(self, to_replace, value, inplace, limit, regex, method, axis)\u001b[0m\n\u001b[1;32m   3483\u001b[0m                                                     \u001b[0mvalue\u001b[0m\u001b[0;34m=\u001b[0m\u001b[0mvalue\u001b[0m\u001b[0;34m[\u001b[0m\u001b[0mc\u001b[0m\u001b[0;34m]\u001b[0m\u001b[0;34m,\u001b[0m\u001b[0;34m\u001b[0m\u001b[0m\n\u001b[1;32m   3484\u001b[0m                                                     \u001b[0minplace\u001b[0m\u001b[0;34m=\u001b[0m\u001b[0;32mFalse\u001b[0m\u001b[0;34m,\u001b[0m\u001b[0;34m\u001b[0m\u001b[0m\n\u001b[0;32m-> 3485\u001b[0;31m                                                     regex=regex)\n\u001b[0m\u001b[1;32m   3486\u001b[0m                     \u001b[0;32mreturn\u001b[0m \u001b[0;32mNone\u001b[0m \u001b[0;32mif\u001b[0m \u001b[0minplace\u001b[0m \u001b[0;32melse\u001b[0m \u001b[0mres\u001b[0m\u001b[0;34m\u001b[0m\u001b[0m\n\u001b[1;32m   3487\u001b[0m \u001b[0;34m\u001b[0m\u001b[0m\n",
            "\u001b[0;32m~/anaconda3_420/lib/python3.5/site-packages/pandas/core/generic.py\u001b[0m in \u001b[0;36mreplace\u001b[0;34m(self, to_replace, value, inplace, limit, regex, method, axis)\u001b[0m\n\u001b[1;32m   3513\u001b[0m                                                        \u001b[0mdest_list\u001b[0m\u001b[0;34m=\u001b[0m\u001b[0mvalue\u001b[0m\u001b[0;34m,\u001b[0m\u001b[0;34m\u001b[0m\u001b[0m\n\u001b[1;32m   3514\u001b[0m                                                        \u001b[0minplace\u001b[0m\u001b[0;34m=\u001b[0m\u001b[0minplace\u001b[0m\u001b[0;34m,\u001b[0m\u001b[0;34m\u001b[0m\u001b[0m\n\u001b[0;32m-> 3515\u001b[0;31m                                                        regex=regex)\n\u001b[0m\u001b[1;32m   3516\u001b[0m \u001b[0;34m\u001b[0m\u001b[0m\n\u001b[1;32m   3517\u001b[0m                 \u001b[0;32melse\u001b[0m\u001b[0;34m:\u001b[0m  \u001b[0;31m# [NA, ''] -> 0\u001b[0m\u001b[0;34m\u001b[0m\u001b[0m\n",
            "\u001b[0;32m~/anaconda3_420/lib/python3.5/site-packages/pandas/core/internals.py\u001b[0m in \u001b[0;36mreplace_list\u001b[0;34m(self, src_list, dest_list, inplace, regex, mgr)\u001b[0m\n\u001b[1;32m   3211\u001b[0m                                      operator.eq)\n\u001b[1;32m   3212\u001b[0m \u001b[0;34m\u001b[0m\u001b[0m\n\u001b[0;32m-> 3213\u001b[0;31m         \u001b[0mmasks\u001b[0m \u001b[0;34m=\u001b[0m \u001b[0;34m[\u001b[0m\u001b[0mcomp\u001b[0m\u001b[0;34m(\u001b[0m\u001b[0ms\u001b[0m\u001b[0;34m)\u001b[0m \u001b[0;32mfor\u001b[0m \u001b[0mi\u001b[0m\u001b[0;34m,\u001b[0m \u001b[0ms\u001b[0m \u001b[0;32min\u001b[0m \u001b[0menumerate\u001b[0m\u001b[0;34m(\u001b[0m\u001b[0msrc_list\u001b[0m\u001b[0;34m)\u001b[0m\u001b[0;34m]\u001b[0m\u001b[0;34m\u001b[0m\u001b[0m\n\u001b[0m\u001b[1;32m   3214\u001b[0m \u001b[0;34m\u001b[0m\u001b[0m\n\u001b[1;32m   3215\u001b[0m         \u001b[0mresult_blocks\u001b[0m \u001b[0;34m=\u001b[0m \u001b[0;34m[\u001b[0m\u001b[0;34m]\u001b[0m\u001b[0;34m\u001b[0m\u001b[0m\n",
            "\u001b[0;32m~/anaconda3_420/lib/python3.5/site-packages/pandas/core/internals.py\u001b[0m in \u001b[0;36m<listcomp>\u001b[0;34m(.0)\u001b[0m\n\u001b[1;32m   3211\u001b[0m                                      operator.eq)\n\u001b[1;32m   3212\u001b[0m \u001b[0;34m\u001b[0m\u001b[0m\n\u001b[0;32m-> 3213\u001b[0;31m         \u001b[0mmasks\u001b[0m \u001b[0;34m=\u001b[0m \u001b[0;34m[\u001b[0m\u001b[0mcomp\u001b[0m\u001b[0;34m(\u001b[0m\u001b[0ms\u001b[0m\u001b[0;34m)\u001b[0m \u001b[0;32mfor\u001b[0m \u001b[0mi\u001b[0m\u001b[0;34m,\u001b[0m \u001b[0ms\u001b[0m \u001b[0;32min\u001b[0m \u001b[0menumerate\u001b[0m\u001b[0;34m(\u001b[0m\u001b[0msrc_list\u001b[0m\u001b[0;34m)\u001b[0m\u001b[0;34m]\u001b[0m\u001b[0;34m\u001b[0m\u001b[0m\n\u001b[0m\u001b[1;32m   3214\u001b[0m \u001b[0;34m\u001b[0m\u001b[0m\n\u001b[1;32m   3215\u001b[0m         \u001b[0mresult_blocks\u001b[0m \u001b[0;34m=\u001b[0m \u001b[0;34m[\u001b[0m\u001b[0;34m]\u001b[0m\u001b[0;34m\u001b[0m\u001b[0m\n",
            "\u001b[0;32m~/anaconda3_420/lib/python3.5/site-packages/pandas/core/internals.py\u001b[0m in \u001b[0;36mcomp\u001b[0;34m(s)\u001b[0m\n\u001b[1;32m   3209\u001b[0m                 \u001b[0;32mreturn\u001b[0m \u001b[0misnull\u001b[0m\u001b[0;34m(\u001b[0m\u001b[0mvalues\u001b[0m\u001b[0;34m)\u001b[0m\u001b[0;34m\u001b[0m\u001b[0m\n\u001b[1;32m   3210\u001b[0m             return _possibly_compare(values, getattr(s, 'asm8', s),\n\u001b[0;32m-> 3211\u001b[0;31m                                      operator.eq)\n\u001b[0m\u001b[1;32m   3212\u001b[0m \u001b[0;34m\u001b[0m\u001b[0m\n\u001b[1;32m   3213\u001b[0m         \u001b[0mmasks\u001b[0m \u001b[0;34m=\u001b[0m \u001b[0;34m[\u001b[0m\u001b[0mcomp\u001b[0m\u001b[0;34m(\u001b[0m\u001b[0ms\u001b[0m\u001b[0;34m)\u001b[0m \u001b[0;32mfor\u001b[0m \u001b[0mi\u001b[0m\u001b[0;34m,\u001b[0m \u001b[0ms\u001b[0m \u001b[0;32min\u001b[0m \u001b[0menumerate\u001b[0m\u001b[0;34m(\u001b[0m\u001b[0msrc_list\u001b[0m\u001b[0;34m)\u001b[0m\u001b[0;34m]\u001b[0m\u001b[0;34m\u001b[0m\u001b[0m\n",
            "\u001b[0;32m~/anaconda3_420/lib/python3.5/site-packages/pandas/core/internals.py\u001b[0m in \u001b[0;36m_possibly_compare\u001b[0;34m(a, b, op)\u001b[0m\n\u001b[1;32m   4615\u001b[0m             \u001b[0mtype_names\u001b[0m\u001b[0;34m[\u001b[0m\u001b[0;36m1\u001b[0m\u001b[0;34m]\u001b[0m \u001b[0;34m=\u001b[0m \u001b[0;34m'ndarray(dtype=%s)'\u001b[0m \u001b[0;34m%\u001b[0m \u001b[0mb\u001b[0m\u001b[0;34m.\u001b[0m\u001b[0mdtype\u001b[0m\u001b[0;34m\u001b[0m\u001b[0m\n\u001b[1;32m   4616\u001b[0m \u001b[0;34m\u001b[0m\u001b[0m\n\u001b[0;32m-> 4617\u001b[0;31m         \u001b[0;32mraise\u001b[0m \u001b[0mTypeError\u001b[0m\u001b[0;34m(\u001b[0m\u001b[0;34m\"Cannot compare types %r and %r\"\u001b[0m \u001b[0;34m%\u001b[0m \u001b[0mtuple\u001b[0m\u001b[0;34m(\u001b[0m\u001b[0mtype_names\u001b[0m\u001b[0;34m)\u001b[0m\u001b[0;34m)\u001b[0m\u001b[0;34m\u001b[0m\u001b[0m\n\u001b[0m\u001b[1;32m   4618\u001b[0m     \u001b[0;32mreturn\u001b[0m \u001b[0mresult\u001b[0m\u001b[0;34m\u001b[0m\u001b[0m\n\u001b[1;32m   4619\u001b[0m \u001b[0;34m\u001b[0m\u001b[0m\n",
            "\u001b[0;31mTypeError\u001b[0m: Cannot compare types 'ndarray(dtype=int64)' and 'str'"
          ]
        }
      ]
    },
    {
      "metadata": {
        "trusted": true
      },
      "cell_type": "code",
      "source": "",
      "execution_count": null,
      "outputs": []
    }
  ],
  "metadata": {
    "kernelspec": {
      "name": "python3",
      "display_name": "Python 3",
      "language": "python"
    },
    "language_info": {
      "mimetype": "text/x-python",
      "nbconvert_exporter": "python",
      "name": "python",
      "file_extension": ".py",
      "version": "3.5.4",
      "pygments_lexer": "ipython3",
      "codemirror_mode": {
        "version": 3,
        "name": "ipython"
      }
    }
  },
  "nbformat": 4,
  "nbformat_minor": 1
}