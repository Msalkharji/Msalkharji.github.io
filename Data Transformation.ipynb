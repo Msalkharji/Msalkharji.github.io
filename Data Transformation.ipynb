{
  "cells": [
    {
      "metadata": {},
      "cell_type": "markdown",
      "source": "# Import Libraries:"
    },
    {
      "metadata": {
        "trusted": true
      },
      "cell_type": "code",
      "source": "import pandas as pd\nimport numpy as np",
      "execution_count": 6,
      "outputs": []
    },
    {
      "metadata": {
        "trusted": true
      },
      "cell_type": "code",
      "source": "df = pd.read_csv('Cleaning_Data.csv')\ndf.head()",
      "execution_count": 12,
      "outputs": [
        {
          "output_type": "execute_result",
          "execution_count": 12,
          "data": {
            "text/html": "<div>\n<table border=\"1\" class=\"dataframe\">\n  <thead>\n    <tr style=\"text-align: right;\">\n      <th></th>\n      <th>Unnamed: 0</th>\n      <th>Column</th>\n      <th>loan_amnt</th>\n      <th>funded_amnt</th>\n      <th>funded_amnt_inv</th>\n      <th>term</th>\n      <th>int_rate</th>\n      <th>installment</th>\n      <th>grade</th>\n      <th>emp_length</th>\n      <th>...</th>\n      <th>num_op_rev_tl</th>\n      <th>num_rev_accts</th>\n      <th>num_rev_tl_bal_gt_0</th>\n      <th>num_sats</th>\n      <th>num_tl_op_past_12m</th>\n      <th>pct_tl_nvr_dlq</th>\n      <th>tot_hi_cred_lim</th>\n      <th>total_bal_ex_mort</th>\n      <th>total_bc_limit</th>\n      <th>total_il_high_credit_limit</th>\n    </tr>\n  </thead>\n  <tbody>\n    <tr>\n      <th>0</th>\n      <td>0</td>\n      <td>0</td>\n      <td>20000</td>\n      <td>20000</td>\n      <td>20000</td>\n      <td>60 months</td>\n      <td>17.19%</td>\n      <td>499.10</td>\n      <td>C</td>\n      <td>6 years</td>\n      <td>...</td>\n      <td>13</td>\n      <td>33</td>\n      <td>4</td>\n      <td>15</td>\n      <td>5</td>\n      <td>98.0</td>\n      <td>75824</td>\n      <td>31546</td>\n      <td>33800</td>\n      <td>21524</td>\n    </tr>\n    <tr>\n      <th>1</th>\n      <td>1</td>\n      <td>1</td>\n      <td>21225</td>\n      <td>21225</td>\n      <td>21225</td>\n      <td>60 months</td>\n      <td>14.74%</td>\n      <td>502.05</td>\n      <td>C</td>\n      <td>10+ years</td>\n      <td>...</td>\n      <td>7</td>\n      <td>7</td>\n      <td>6</td>\n      <td>14</td>\n      <td>2</td>\n      <td>100.0</td>\n      <td>747075</td>\n      <td>209426</td>\n      <td>53500</td>\n      <td>128175</td>\n    </tr>\n    <tr>\n      <th>2</th>\n      <td>2</td>\n      <td>2</td>\n      <td>5000</td>\n      <td>5000</td>\n      <td>5000</td>\n      <td>36 months</td>\n      <td>17.97%</td>\n      <td>180.69</td>\n      <td>D</td>\n      <td>NaN</td>\n      <td>...</td>\n      <td>6</td>\n      <td>9</td>\n      <td>6</td>\n      <td>8</td>\n      <td>1</td>\n      <td>66.7</td>\n      <td>255738</td>\n      <td>31615</td>\n      <td>9400</td>\n      <td>39938</td>\n    </tr>\n    <tr>\n      <th>3</th>\n      <td>3</td>\n      <td>3</td>\n      <td>20000</td>\n      <td>20000</td>\n      <td>20000</td>\n      <td>36 months</td>\n      <td>8.19%</td>\n      <td>628.49</td>\n      <td>A</td>\n      <td>1 year</td>\n      <td>...</td>\n      <td>14</td>\n      <td>27</td>\n      <td>9</td>\n      <td>20</td>\n      <td>3</td>\n      <td>95.7</td>\n      <td>448069</td>\n      <td>84744</td>\n      <td>49400</td>\n      <td>105180</td>\n    </tr>\n    <tr>\n      <th>4</th>\n      <td>4</td>\n      <td>4</td>\n      <td>13500</td>\n      <td>13500</td>\n      <td>13500</td>\n      <td>36 months</td>\n      <td>7.56%</td>\n      <td>420.31</td>\n      <td>A</td>\n      <td>8 years</td>\n      <td>...</td>\n      <td>9</td>\n      <td>11</td>\n      <td>6</td>\n      <td>9</td>\n      <td>1</td>\n      <td>100.0</td>\n      <td>40200</td>\n      <td>9932</td>\n      <td>25100</td>\n      <td>0</td>\n    </tr>\n  </tbody>\n</table>\n<p>5 rows × 71 columns</p>\n</div>",
            "text/plain": "   Unnamed: 0  Column  loan_amnt  funded_amnt  funded_amnt_inv        term  \\\n0           0       0      20000        20000            20000   60 months   \n1           1       1      21225        21225            21225   60 months   \n2           2       2       5000         5000             5000   36 months   \n3           3       3      20000        20000            20000   36 months   \n4           4       4      13500        13500            13500   36 months   \n\n  int_rate  installment grade emp_length             ...              \\\n0   17.19%       499.10     C    6 years             ...               \n1   14.74%       502.05     C  10+ years             ...               \n2   17.97%       180.69     D        NaN             ...               \n3    8.19%       628.49     A     1 year             ...               \n4    7.56%       420.31     A    8 years             ...               \n\n  num_op_rev_tl  num_rev_accts num_rev_tl_bal_gt_0 num_sats  \\\n0            13             33                   4       15   \n1             7              7                   6       14   \n2             6              9                   6        8   \n3            14             27                   9       20   \n4             9             11                   6        9   \n\n  num_tl_op_past_12m pct_tl_nvr_dlq tot_hi_cred_lim  total_bal_ex_mort  \\\n0                  5           98.0           75824              31546   \n1                  2          100.0          747075             209426   \n2                  1           66.7          255738              31615   \n3                  3           95.7          448069              84744   \n4                  1          100.0           40200               9932   \n\n  total_bc_limit  total_il_high_credit_limit  \n0          33800                       21524  \n1          53500                      128175  \n2           9400                       39938  \n3          49400                      105180  \n4          25100                           0  \n\n[5 rows x 71 columns]"
          },
          "metadata": {}
        }
      ]
    },
    {
      "metadata": {},
      "cell_type": "markdown",
      "source": "# Data Transformation"
    },
    {
      "metadata": {},
      "cell_type": "markdown",
      "source": "\n- Grade - Borrower's grade given basing on his/her past history - encoded to numerical values.\n- home_ownership - this is feature in the dataset which had to be encoded to numerical values.\n- Emp_Length - this feature was not formatted properly. It has some values which was in the format like \"10+years\",\"5years\"...etc. we changed them to numerical values in the below cell."
    },
    {
      "metadata": {
        "trusted": true
      },
      "cell_type": "code",
      "source": "\n# Loan status summary \ndf.loan_status.value_counts()",
      "execution_count": 13,
      "outputs": [
        {
          "output_type": "execute_result",
          "execution_count": 13,
          "data": {
            "text/plain": "Current               110918\nFully Paid              3608\nLate (31-120 days)       468\nIn Grace Period          327\nLate (16-30 days)        256\nCharged Off               98\nName: loan_status, dtype: int64"
          },
          "metadata": {}
        }
      ]
    },
    {
      "metadata": {
        "trusted": true
      },
      "cell_type": "code",
      "source": "# remove all current loans \ndf = df[df.loan_status != 'Current']\ndf.shape",
      "execution_count": 14,
      "outputs": [
        {
          "output_type": "execute_result",
          "execution_count": 14,
          "data": {
            "text/plain": "(4757, 71)"
          },
          "metadata": {}
        }
      ]
    },
    {
      "metadata": {
        "trusted": true
      },
      "cell_type": "code",
      "source": "# Loan status summary \ndf.loan_status.value_counts()",
      "execution_count": 15,
      "outputs": [
        {
          "output_type": "execute_result",
          "execution_count": 15,
          "data": {
            "text/plain": "Fully Paid            3608\nLate (31-120 days)     468\nIn Grace Period        327\nLate (16-30 days)      256\nCharged Off             98\nName: loan_status, dtype: int64"
          },
          "metadata": {}
        }
      ]
    },
    {
      "metadata": {},
      "cell_type": "markdown",
      "source": "# Mapping of loans status column: "
    },
    {
      "metadata": {},
      "cell_type": "markdown",
      "source": "\"Charged Off\", \"Late (31-120 days)\", \"In Grace Period\", \"Late (16-30 days)\" : 0"
    },
    {
      "metadata": {
        "trusted": true
      },
      "cell_type": "code",
      "source": "# change loan status to numeric where 1 are fully paid loans and 0 charged off loans\ndi = {\"Fully Paid\":1, \"Charged Off\":0, \"Late (31-120 days)\":0, \"In Grace Period\":0, \"Late (16-30 days)\":0}  \ndf= df.replace({\"loan_status\": di})\ndf[\"loan_status\"].value_counts()\nnewMapping = {1:\"Fully Paid\", 0:\"Charged Off\"}\ndf= df.replace({\"loan_status\": newMapping})",
      "execution_count": 16,
      "outputs": []
    },
    {
      "metadata": {
        "trusted": true
      },
      "cell_type": "code",
      "source": "# change interest rate to numeric \ndf['int_rate'] = df['int_rate'].str.rstrip('%').astype('float')",
      "execution_count": 17,
      "outputs": []
    },
    {
      "metadata": {
        "trusted": true
      },
      "cell_type": "code",
      "source": "#change revol_util to numeric \ndf['revol_util'] = df['revol_util'].str.rstrip('%').astype('float')",
      "execution_count": 18,
      "outputs": []
    },
    {
      "metadata": {
        "trusted": true
      },
      "cell_type": "code",
      "source": "# change employment length to numeric\nmap = {\"n/a\":0, \"< 1 \":1, \"1 \":1, \"2 \":2, \"3 \":3, \"4 \":4, \"5 \":5, \"6 \":6, \"7 \":7, \"8 \":8, \"9 \":9, \"10+ \":10}\ndf.emp_length = df.emp_length.str.replace(\"years\",\"\")\ndf.emp_length = df.emp_length.str.replace(\"year\",\"\")\ndf.emp_length.replace(map, inplace=True)\ndf.emp_length.value_counts()",
      "execution_count": 19,
      "outputs": [
        {
          "output_type": "execute_result",
          "execution_count": 19,
          "data": {
            "text/plain": "10.0    1500\n1.0      876\n2.0      387\n3.0      360\n5.0      295\n4.0      251\n6.0      197\n7.0      180\n8.0      147\n9.0       95\nName: emp_length, dtype: int64"
          },
          "metadata": {}
        }
      ]
    },
    {
      "metadata": {},
      "cell_type": "markdown",
      "source": "# Mapping of grade column:"
    },
    {
      "metadata": {},
      "cell_type": "markdown",
      "source": "'A':7\n'B':6\n'C':5\n'D':4\n'E':3\n'F':2\n'G':1"
    },
    {
      "metadata": {
        "trusted": true
      },
      "cell_type": "code",
      "source": "# change grade to numeric\ndf['grade'] = df['grade'].map({'A':7,'B':6,'C':5,'D':4,'E':3,'F':2,'G':1})",
      "execution_count": 20,
      "outputs": []
    },
    {
      "metadata": {
        "trusted": true
      },
      "cell_type": "code",
      "source": "df.head()",
      "execution_count": 22,
      "outputs": [
        {
          "output_type": "execute_result",
          "execution_count": 22,
          "data": {
            "text/html": "<div>\n<table border=\"1\" class=\"dataframe\">\n  <thead>\n    <tr style=\"text-align: right;\">\n      <th></th>\n      <th>Unnamed: 0</th>\n      <th>Column</th>\n      <th>loan_amnt</th>\n      <th>funded_amnt</th>\n      <th>funded_amnt_inv</th>\n      <th>term</th>\n      <th>int_rate</th>\n      <th>installment</th>\n      <th>grade</th>\n      <th>emp_length</th>\n      <th>...</th>\n      <th>num_op_rev_tl</th>\n      <th>num_rev_accts</th>\n      <th>num_rev_tl_bal_gt_0</th>\n      <th>num_sats</th>\n      <th>num_tl_op_past_12m</th>\n      <th>pct_tl_nvr_dlq</th>\n      <th>tot_hi_cred_lim</th>\n      <th>total_bal_ex_mort</th>\n      <th>total_bc_limit</th>\n      <th>total_il_high_credit_limit</th>\n    </tr>\n  </thead>\n  <tbody>\n    <tr>\n      <th>7</th>\n      <td>7</td>\n      <td>7</td>\n      <td>10000</td>\n      <td>10000</td>\n      <td>10000</td>\n      <td>60 months</td>\n      <td>12.40</td>\n      <td>224.48</td>\n      <td>6</td>\n      <td>NaN</td>\n      <td>...</td>\n      <td>4</td>\n      <td>7</td>\n      <td>2</td>\n      <td>7</td>\n      <td>0</td>\n      <td>100.0</td>\n      <td>176439</td>\n      <td>37523</td>\n      <td>17000</td>\n      <td>57439</td>\n    </tr>\n    <tr>\n      <th>51</th>\n      <td>51</td>\n      <td>51</td>\n      <td>15000</td>\n      <td>15000</td>\n      <td>15000</td>\n      <td>60 months</td>\n      <td>17.97</td>\n      <td>380.66</td>\n      <td>4</td>\n      <td>9.0</td>\n      <td>...</td>\n      <td>7</td>\n      <td>7</td>\n      <td>5</td>\n      <td>8</td>\n      <td>4</td>\n      <td>100.0</td>\n      <td>37222</td>\n      <td>23300</td>\n      <td>16400</td>\n      <td>14822</td>\n    </tr>\n    <tr>\n      <th>80</th>\n      <td>80</td>\n      <td>80</td>\n      <td>35000</td>\n      <td>35000</td>\n      <td>35000</td>\n      <td>60 months</td>\n      <td>13.08</td>\n      <td>797.80</td>\n      <td>6</td>\n      <td>1.0</td>\n      <td>...</td>\n      <td>10</td>\n      <td>11</td>\n      <td>6</td>\n      <td>14</td>\n      <td>2</td>\n      <td>100.0</td>\n      <td>399376</td>\n      <td>131350</td>\n      <td>32700</td>\n      <td>130876</td>\n    </tr>\n    <tr>\n      <th>135</th>\n      <td>135</td>\n      <td>135</td>\n      <td>17500</td>\n      <td>17500</td>\n      <td>17500</td>\n      <td>36 months</td>\n      <td>17.19</td>\n      <td>625.58</td>\n      <td>5</td>\n      <td>5.0</td>\n      <td>...</td>\n      <td>6</td>\n      <td>6</td>\n      <td>5</td>\n      <td>12</td>\n      <td>0</td>\n      <td>92.6</td>\n      <td>131463</td>\n      <td>141781</td>\n      <td>17400</td>\n      <td>113163</td>\n    </tr>\n    <tr>\n      <th>146</th>\n      <td>146</td>\n      <td>146</td>\n      <td>13750</td>\n      <td>13750</td>\n      <td>13750</td>\n      <td>36 months</td>\n      <td>28.80</td>\n      <td>574.71</td>\n      <td>4</td>\n      <td>NaN</td>\n      <td>...</td>\n      <td>6</td>\n      <td>7</td>\n      <td>6</td>\n      <td>6</td>\n      <td>2</td>\n      <td>87.5</td>\n      <td>19200</td>\n      <td>16814</td>\n      <td>15400</td>\n      <td>0</td>\n    </tr>\n  </tbody>\n</table>\n<p>5 rows × 71 columns</p>\n</div>",
            "text/plain": "     Unnamed: 0  Column  loan_amnt  funded_amnt  funded_amnt_inv        term  \\\n7             7       7      10000        10000            10000   60 months   \n51           51      51      15000        15000            15000   60 months   \n80           80      80      35000        35000            35000   60 months   \n135         135     135      17500        17500            17500   36 months   \n146         146     146      13750        13750            13750   36 months   \n\n     int_rate  installment  grade  emp_length             ...              \\\n7       12.40       224.48      6         NaN             ...               \n51      17.97       380.66      4         9.0             ...               \n80      13.08       797.80      6         1.0             ...               \n135     17.19       625.58      5         5.0             ...               \n146     28.80       574.71      4         NaN             ...               \n\n    num_op_rev_tl  num_rev_accts num_rev_tl_bal_gt_0 num_sats  \\\n7               4              7                   2        7   \n51              7              7                   5        8   \n80             10             11                   6       14   \n135             6              6                   5       12   \n146             6              7                   6        6   \n\n    num_tl_op_past_12m pct_tl_nvr_dlq tot_hi_cred_lim  total_bal_ex_mort  \\\n7                    0          100.0          176439              37523   \n51                   4          100.0           37222              23300   \n80                   2          100.0          399376             131350   \n135                  0           92.6          131463             141781   \n146                  2           87.5           19200              16814   \n\n    total_bc_limit  total_il_high_credit_limit  \n7            17000                       57439  \n51           16400                       14822  \n80           32700                      130876  \n135          17400                      113163  \n146          15400                           0  \n\n[5 rows x 71 columns]"
          },
          "metadata": {}
        }
      ]
    },
    {
      "metadata": {},
      "cell_type": "markdown",
      "source": "# Mapping of home_ownership column:"
    },
    {
      "metadata": {},
      "cell_type": "markdown",
      "source": "\"MORTGAGE\":6\n\"RENT\":5\n\"OWN\":4\n\"OTHER\":3\n\"NONE\":2\n\"ANY\":1"
    },
    {
      "metadata": {
        "trusted": true
      },
      "cell_type": "code",
      "source": "# change home ownership to numeric \ndf[\"home_ownership\"] = df[\"home_ownership\"].map({\"MORTGAGE\":6,\"RENT\":5,\"OWN\":4,\"OTHER\":3,\"NONE\":2,\"ANY\":1})",
      "execution_count": 23,
      "outputs": []
    },
    {
      "metadata": {
        "trusted": true
      },
      "cell_type": "code",
      "source": "df.head()",
      "execution_count": 24,
      "outputs": [
        {
          "output_type": "execute_result",
          "execution_count": 24,
          "data": {
            "text/html": "<div>\n<table border=\"1\" class=\"dataframe\">\n  <thead>\n    <tr style=\"text-align: right;\">\n      <th></th>\n      <th>Unnamed: 0</th>\n      <th>Column</th>\n      <th>loan_amnt</th>\n      <th>funded_amnt</th>\n      <th>funded_amnt_inv</th>\n      <th>term</th>\n      <th>int_rate</th>\n      <th>installment</th>\n      <th>grade</th>\n      <th>emp_length</th>\n      <th>...</th>\n      <th>num_op_rev_tl</th>\n      <th>num_rev_accts</th>\n      <th>num_rev_tl_bal_gt_0</th>\n      <th>num_sats</th>\n      <th>num_tl_op_past_12m</th>\n      <th>pct_tl_nvr_dlq</th>\n      <th>tot_hi_cred_lim</th>\n      <th>total_bal_ex_mort</th>\n      <th>total_bc_limit</th>\n      <th>total_il_high_credit_limit</th>\n    </tr>\n  </thead>\n  <tbody>\n    <tr>\n      <th>7</th>\n      <td>7</td>\n      <td>7</td>\n      <td>10000</td>\n      <td>10000</td>\n      <td>10000</td>\n      <td>60 months</td>\n      <td>12.40</td>\n      <td>224.48</td>\n      <td>6</td>\n      <td>NaN</td>\n      <td>...</td>\n      <td>4</td>\n      <td>7</td>\n      <td>2</td>\n      <td>7</td>\n      <td>0</td>\n      <td>100.0</td>\n      <td>176439</td>\n      <td>37523</td>\n      <td>17000</td>\n      <td>57439</td>\n    </tr>\n    <tr>\n      <th>51</th>\n      <td>51</td>\n      <td>51</td>\n      <td>15000</td>\n      <td>15000</td>\n      <td>15000</td>\n      <td>60 months</td>\n      <td>17.97</td>\n      <td>380.66</td>\n      <td>4</td>\n      <td>9.0</td>\n      <td>...</td>\n      <td>7</td>\n      <td>7</td>\n      <td>5</td>\n      <td>8</td>\n      <td>4</td>\n      <td>100.0</td>\n      <td>37222</td>\n      <td>23300</td>\n      <td>16400</td>\n      <td>14822</td>\n    </tr>\n    <tr>\n      <th>80</th>\n      <td>80</td>\n      <td>80</td>\n      <td>35000</td>\n      <td>35000</td>\n      <td>35000</td>\n      <td>60 months</td>\n      <td>13.08</td>\n      <td>797.80</td>\n      <td>6</td>\n      <td>1.0</td>\n      <td>...</td>\n      <td>10</td>\n      <td>11</td>\n      <td>6</td>\n      <td>14</td>\n      <td>2</td>\n      <td>100.0</td>\n      <td>399376</td>\n      <td>131350</td>\n      <td>32700</td>\n      <td>130876</td>\n    </tr>\n    <tr>\n      <th>135</th>\n      <td>135</td>\n      <td>135</td>\n      <td>17500</td>\n      <td>17500</td>\n      <td>17500</td>\n      <td>36 months</td>\n      <td>17.19</td>\n      <td>625.58</td>\n      <td>5</td>\n      <td>5.0</td>\n      <td>...</td>\n      <td>6</td>\n      <td>6</td>\n      <td>5</td>\n      <td>12</td>\n      <td>0</td>\n      <td>92.6</td>\n      <td>131463</td>\n      <td>141781</td>\n      <td>17400</td>\n      <td>113163</td>\n    </tr>\n    <tr>\n      <th>146</th>\n      <td>146</td>\n      <td>146</td>\n      <td>13750</td>\n      <td>13750</td>\n      <td>13750</td>\n      <td>36 months</td>\n      <td>28.80</td>\n      <td>574.71</td>\n      <td>4</td>\n      <td>NaN</td>\n      <td>...</td>\n      <td>6</td>\n      <td>7</td>\n      <td>6</td>\n      <td>6</td>\n      <td>2</td>\n      <td>87.5</td>\n      <td>19200</td>\n      <td>16814</td>\n      <td>15400</td>\n      <td>0</td>\n    </tr>\n  </tbody>\n</table>\n<p>5 rows × 71 columns</p>\n</div>",
            "text/plain": "     Unnamed: 0  Column  loan_amnt  funded_amnt  funded_amnt_inv        term  \\\n7             7       7      10000        10000            10000   60 months   \n51           51      51      15000        15000            15000   60 months   \n80           80      80      35000        35000            35000   60 months   \n135         135     135      17500        17500            17500   36 months   \n146         146     146      13750        13750            13750   36 months   \n\n     int_rate  installment  grade  emp_length             ...              \\\n7       12.40       224.48      6         NaN             ...               \n51      17.97       380.66      4         9.0             ...               \n80      13.08       797.80      6         1.0             ...               \n135     17.19       625.58      5         5.0             ...               \n146     28.80       574.71      4         NaN             ...               \n\n     num_op_rev_tl  num_rev_accts num_rev_tl_bal_gt_0 num_sats  \\\n7                4              7                   2        7   \n51               7              7                   5        8   \n80              10             11                   6       14   \n135              6              6                   5       12   \n146              6              7                   6        6   \n\n    num_tl_op_past_12m pct_tl_nvr_dlq tot_hi_cred_lim  total_bal_ex_mort  \\\n7                    0          100.0          176439              37523   \n51                   4          100.0           37222              23300   \n80                   2          100.0          399376             131350   \n135                  0           92.6          131463             141781   \n146                  2           87.5           19200              16814   \n\n    total_bc_limit  total_il_high_credit_limit  \n7            17000                       57439  \n51           16400                       14822  \n80           32700                      130876  \n135          17400                      113163  \n146          15400                           0  \n\n[5 rows x 71 columns]"
          },
          "metadata": {}
        }
      ]
    },
    {
      "metadata": {
        "trusted": true
      },
      "cell_type": "code",
      "source": "df.home_ownership.value_counts()",
      "execution_count": 25,
      "outputs": [
        {
          "output_type": "execute_result",
          "execution_count": 25,
          "data": {
            "text/plain": "6    2484\n5    1629\n4     616\n1      28\nName: home_ownership, dtype: int64"
          },
          "metadata": {}
        }
      ]
    },
    {
      "metadata": {
        "trusted": true
      },
      "cell_type": "code",
      "source": "df.to_csv('Data_Transformation1.csv')",
      "execution_count": 58,
      "outputs": []
    },
    {
      "metadata": {
        "trusted": true
      },
      "cell_type": "code",
      "source": "dataf = pd.read_csv('Data_Transformation1.csv')\ndataf.head()",
      "execution_count": 59,
      "outputs": [
        {
          "output_type": "execute_result",
          "execution_count": 59,
          "data": {
            "text/html": "<div>\n<table border=\"1\" class=\"dataframe\">\n  <thead>\n    <tr style=\"text-align: right;\">\n      <th></th>\n      <th>Unnamed: 0</th>\n      <th>Unnamed: 0.1</th>\n      <th>Unnamed: 0.1.1</th>\n      <th>Column</th>\n      <th>loan_amnt</th>\n      <th>funded_amnt</th>\n      <th>funded_amnt_inv</th>\n      <th>term</th>\n      <th>int_rate</th>\n      <th>installment</th>\n      <th>...</th>\n      <th>num_op_rev_tl</th>\n      <th>num_rev_accts</th>\n      <th>num_rev_tl_bal_gt_0</th>\n      <th>num_sats</th>\n      <th>num_tl_op_past_12m</th>\n      <th>pct_tl_nvr_dlq</th>\n      <th>tot_hi_cred_lim</th>\n      <th>total_bal_ex_mort</th>\n      <th>total_bc_limit</th>\n      <th>total_il_high_credit_limit</th>\n    </tr>\n  </thead>\n  <tbody>\n    <tr>\n      <th>0</th>\n      <td>0</td>\n      <td>7</td>\n      <td>7</td>\n      <td>7</td>\n      <td>10000</td>\n      <td>10000</td>\n      <td>10000</td>\n      <td>60 months</td>\n      <td>12.40</td>\n      <td>224.48</td>\n      <td>...</td>\n      <td>4</td>\n      <td>7</td>\n      <td>2</td>\n      <td>7</td>\n      <td>0</td>\n      <td>100.0</td>\n      <td>176439</td>\n      <td>37523</td>\n      <td>17000</td>\n      <td>57439</td>\n    </tr>\n    <tr>\n      <th>1</th>\n      <td>1</td>\n      <td>51</td>\n      <td>51</td>\n      <td>51</td>\n      <td>15000</td>\n      <td>15000</td>\n      <td>15000</td>\n      <td>60 months</td>\n      <td>17.97</td>\n      <td>380.66</td>\n      <td>...</td>\n      <td>7</td>\n      <td>7</td>\n      <td>5</td>\n      <td>8</td>\n      <td>4</td>\n      <td>100.0</td>\n      <td>37222</td>\n      <td>23300</td>\n      <td>16400</td>\n      <td>14822</td>\n    </tr>\n    <tr>\n      <th>2</th>\n      <td>2</td>\n      <td>80</td>\n      <td>80</td>\n      <td>80</td>\n      <td>35000</td>\n      <td>35000</td>\n      <td>35000</td>\n      <td>60 months</td>\n      <td>13.08</td>\n      <td>797.80</td>\n      <td>...</td>\n      <td>10</td>\n      <td>11</td>\n      <td>6</td>\n      <td>14</td>\n      <td>2</td>\n      <td>100.0</td>\n      <td>399376</td>\n      <td>131350</td>\n      <td>32700</td>\n      <td>130876</td>\n    </tr>\n    <tr>\n      <th>3</th>\n      <td>3</td>\n      <td>135</td>\n      <td>135</td>\n      <td>135</td>\n      <td>17500</td>\n      <td>17500</td>\n      <td>17500</td>\n      <td>36 months</td>\n      <td>17.19</td>\n      <td>625.58</td>\n      <td>...</td>\n      <td>6</td>\n      <td>6</td>\n      <td>5</td>\n      <td>12</td>\n      <td>0</td>\n      <td>92.6</td>\n      <td>131463</td>\n      <td>141781</td>\n      <td>17400</td>\n      <td>113163</td>\n    </tr>\n    <tr>\n      <th>4</th>\n      <td>4</td>\n      <td>146</td>\n      <td>146</td>\n      <td>146</td>\n      <td>13750</td>\n      <td>13750</td>\n      <td>13750</td>\n      <td>36 months</td>\n      <td>28.80</td>\n      <td>574.71</td>\n      <td>...</td>\n      <td>6</td>\n      <td>7</td>\n      <td>6</td>\n      <td>6</td>\n      <td>2</td>\n      <td>87.5</td>\n      <td>19200</td>\n      <td>16814</td>\n      <td>15400</td>\n      <td>0</td>\n    </tr>\n  </tbody>\n</table>\n<p>5 rows × 73 columns</p>\n</div>",
            "text/plain": "   Unnamed: 0  Unnamed: 0.1  Unnamed: 0.1.1  Column  loan_amnt  funded_amnt  \\\n0           0             7               7       7      10000        10000   \n1           1            51              51      51      15000        15000   \n2           2            80              80      80      35000        35000   \n3           3           135             135     135      17500        17500   \n4           4           146             146     146      13750        13750   \n\n   funded_amnt_inv        term  int_rate  installment  \\\n0            10000   60 months     12.40       224.48   \n1            15000   60 months     17.97       380.66   \n2            35000   60 months     13.08       797.80   \n3            17500   36 months     17.19       625.58   \n4            13750   36 months     28.80       574.71   \n\n              ...              num_op_rev_tl  num_rev_accts  \\\n0             ...                          4              7   \n1             ...                          7              7   \n2             ...                         10             11   \n3             ...                          6              6   \n4             ...                          6              7   \n\n   num_rev_tl_bal_gt_0  num_sats num_tl_op_past_12m pct_tl_nvr_dlq  \\\n0                    2         7                  0          100.0   \n1                    5         8                  4          100.0   \n2                    6        14                  2          100.0   \n3                    5        12                  0           92.6   \n4                    6         6                  2           87.5   \n\n  tot_hi_cred_lim  total_bal_ex_mort total_bc_limit  \\\n0          176439              37523          17000   \n1           37222              23300          16400   \n2          399376             131350          32700   \n3          131463             141781          17400   \n4           19200              16814          15400   \n\n   total_il_high_credit_limit  \n0                       57439  \n1                       14822  \n2                      130876  \n3                      113163  \n4                           0  \n\n[5 rows x 73 columns]"
          },
          "metadata": {}
        }
      ]
    },
    {
      "metadata": {
        "trusted": true
      },
      "cell_type": "code",
      "source": "dataf.purpose.value_counts()",
      "execution_count": 60,
      "outputs": [
        {
          "output_type": "execute_result",
          "execution_count": 60,
          "data": {
            "text/plain": "1     2512\n2      990\n3      391\n4      361\n5      130\n6       75\n7       72\n8       71\n9       52\n11      48\n10      48\n12       7\nName: purpose, dtype: int64"
          },
          "metadata": {}
        }
      ]
    },
    {
      "metadata": {
        "trusted": true
      },
      "cell_type": "code",
      "source": "# change purpose to numeric \n#df[\"purpose\"] = df[\"purpose\"].map({\"renewable_energy\":12,\"small_business\":11,\"moving\":10,\"vacation\":9,\"car\":8,\"house\":7,\"medical\":6,\"major_purchase\":5,\"home_improvement\":4,\"other\":3,\"credit_card\":2,\"debt_consolidation\":1})",
      "execution_count": 53,
      "outputs": []
    },
    {
      "metadata": {},
      "cell_type": "markdown",
      "source": "# Categorical Features: (Target)"
    },
    {
      "metadata": {},
      "cell_type": "markdown",
      "source": "Notice that the (purpose) column as categorical\n\nThat means we need to transform them using dummy variables so sklearn will be able to understand them. Let's do this in one clean step using pd.get_dummies."
    },
    {
      "metadata": {},
      "cell_type": "markdown",
      "source": "# Create a list of 1 element containing the string 'purpose'. Call this list cat_feats."
    },
    {
      "metadata": {
        "trusted": true
      },
      "cell_type": "code",
      "source": "cat_feats = ['purpose']",
      "execution_count": 55,
      "outputs": []
    },
    {
      "metadata": {},
      "cell_type": "markdown",
      "source": "# Now use pd.get_dummies(loans,columns=cat_feats,drop_first=True) to create a fixed larger dataframe that has new feature columns with dummy variables. Set this dataframe as final_data."
    },
    {
      "metadata": {
        "trusted": true
      },
      "cell_type": "code",
      "source": "final_data= pd.get_dummies(df, columns=cat_feats, drop_first=True)",
      "execution_count": 56,
      "outputs": []
    },
    {
      "metadata": {
        "trusted": true
      },
      "cell_type": "code",
      "source": "final_data.info()",
      "execution_count": 57,
      "outputs": [
        {
          "output_type": "stream",
          "text": "<class 'pandas.core.frame.DataFrame'>\nRangeIndex: 4757 entries, 0 to 4756\nData columns (total 82 columns):\nUnnamed: 0                        4757 non-null int64\nUnnamed: 0.1                      4757 non-null int64\nColumn                            4757 non-null int64\nloan_amnt                         4757 non-null int64\nfunded_amnt                       4757 non-null int64\nfunded_amnt_inv                   4757 non-null int64\nterm                              4757 non-null object\nint_rate                          4757 non-null float64\ninstallment                       4757 non-null float64\ngrade                             4757 non-null int64\nemp_length                        4288 non-null float64\nhome_ownership                    4757 non-null int64\nannual_inc                        4757 non-null float64\nverification_status               4757 non-null object\nissue_d                           4757 non-null object\nloan_status                       4757 non-null object\naddr_state                        4757 non-null object\ndti                               4745 non-null float64\nearliest_cr_line                  4757 non-null object\nmths_since_last_delinq            2015 non-null float64\nopen_acc                          4757 non-null int64\nrevol_bal                         4757 non-null int64\nrevol_util                        4743 non-null float64\ntotal_acc                         4757 non-null int64\ninitial_list_status               4757 non-null object\nout_prncp                         4757 non-null float64\nout_prncp_inv                     4757 non-null float64\ntotal_pymnt                       4757 non-null float64\ntotal_pymnt_inv                   4757 non-null float64\ntotal_rec_prncp                   4757 non-null float64\ntotal_rec_int                     4757 non-null float64\nlast_pymnt_d                      4522 non-null object\nlast_pymnt_amnt                   4757 non-null float64\nnext_pymnt_d                      1051 non-null object\nlast_credit_pull_d                4757 non-null object\napplication_type                  4757 non-null object\ntot_cur_bal                       4757 non-null int64\nopen_act_il                       4757 non-null int64\nmths_since_rcnt_il                4593 non-null float64\ntotal_bal_il                      4757 non-null int64\nil_util                           3941 non-null float64\nopen_rv_24m                       4757 non-null int64\nmax_bal_bc                        4757 non-null int64\nall_util                          4753 non-null float64\ntotal_rev_hi_lim                  4757 non-null int64\nacc_open_past_24mths              4757 non-null int64\navg_cur_bal                       4756 non-null float64\nbc_open_to_buy                    4667 non-null float64\nbc_util                           4663 non-null float64\nmo_sin_old_il_acct                4593 non-null float64\nmo_sin_old_rev_tl_op              4757 non-null int64\nmo_sin_rcnt_rev_tl_op             4757 non-null int64\nmo_sin_rcnt_tl                    4757 non-null int64\nmths_since_recent_bc              4673 non-null float64\nmths_since_recent_inq             4353 non-null float64\nmths_since_recent_revol_delinq    1363 non-null float64\nnum_actv_bc_tl                    4757 non-null int64\nnum_actv_rev_tl                   4757 non-null int64\nnum_bc_sats                       4757 non-null int64\nnum_bc_tl                         4757 non-null int64\nnum_il_tl                         4757 non-null int64\nnum_op_rev_tl                     4757 non-null int64\nnum_rev_accts                     4757 non-null int64\nnum_rev_tl_bal_gt_0               4757 non-null int64\nnum_sats                          4757 non-null int64\nnum_tl_op_past_12m                4757 non-null int64\npct_tl_nvr_dlq                    4757 non-null float64\ntot_hi_cred_lim                   4757 non-null int64\ntotal_bal_ex_mort                 4757 non-null int64\ntotal_bc_limit                    4757 non-null int64\ntotal_il_high_credit_limit        4757 non-null int64\npurpose_2                         4757 non-null uint8\npurpose_3                         4757 non-null uint8\npurpose_4                         4757 non-null uint8\npurpose_5                         4757 non-null uint8\npurpose_6                         4757 non-null uint8\npurpose_7                         4757 non-null uint8\npurpose_8                         4757 non-null uint8\npurpose_9                         4757 non-null uint8\npurpose_10                        4757 non-null uint8\npurpose_11                        4757 non-null uint8\npurpose_12                        4757 non-null uint8\ndtypes: float64(25), int64(35), object(11), uint8(11)\nmemory usage: 2.6+ MB\n",
          "name": "stdout"
        }
      ]
    },
    {
      "metadata": {
        "trusted": true
      },
      "cell_type": "code",
      "source": "final_data.to_csv('finalData.csv')",
      "execution_count": 45,
      "outputs": []
    },
    {
      "metadata": {
        "trusted": true
      },
      "cell_type": "code",
      "source": "final_data1 = pd.read_csv('finalData.csv')\nfinal_data1.head()",
      "execution_count": 46,
      "outputs": [
        {
          "output_type": "execute_result",
          "execution_count": 46,
          "data": {
            "text/html": "<div>\n<table border=\"1\" class=\"dataframe\">\n  <thead>\n    <tr style=\"text-align: right;\">\n      <th></th>\n      <th>Unnamed: 0</th>\n      <th>Unnamed: 0.1</th>\n      <th>Unnamed: 0.1.1</th>\n      <th>Column</th>\n      <th>loan_amnt</th>\n      <th>funded_amnt</th>\n      <th>funded_amnt_inv</th>\n      <th>term</th>\n      <th>int_rate</th>\n      <th>installment</th>\n      <th>...</th>\n      <th>purpose_3</th>\n      <th>purpose_4</th>\n      <th>purpose_5</th>\n      <th>purpose_6</th>\n      <th>purpose_7</th>\n      <th>purpose_8</th>\n      <th>purpose_9</th>\n      <th>purpose_10</th>\n      <th>purpose_11</th>\n      <th>purpose_12</th>\n    </tr>\n  </thead>\n  <tbody>\n    <tr>\n      <th>0</th>\n      <td>0</td>\n      <td>7</td>\n      <td>7</td>\n      <td>7</td>\n      <td>10000</td>\n      <td>10000</td>\n      <td>10000</td>\n      <td>60 months</td>\n      <td>12.40</td>\n      <td>224.48</td>\n      <td>...</td>\n      <td>0</td>\n      <td>0</td>\n      <td>0</td>\n      <td>0</td>\n      <td>0</td>\n      <td>0</td>\n      <td>0</td>\n      <td>0</td>\n      <td>0</td>\n      <td>0</td>\n    </tr>\n    <tr>\n      <th>1</th>\n      <td>1</td>\n      <td>51</td>\n      <td>51</td>\n      <td>51</td>\n      <td>15000</td>\n      <td>15000</td>\n      <td>15000</td>\n      <td>60 months</td>\n      <td>17.97</td>\n      <td>380.66</td>\n      <td>...</td>\n      <td>0</td>\n      <td>0</td>\n      <td>0</td>\n      <td>0</td>\n      <td>0</td>\n      <td>0</td>\n      <td>0</td>\n      <td>0</td>\n      <td>0</td>\n      <td>0</td>\n    </tr>\n    <tr>\n      <th>2</th>\n      <td>2</td>\n      <td>80</td>\n      <td>80</td>\n      <td>80</td>\n      <td>35000</td>\n      <td>35000</td>\n      <td>35000</td>\n      <td>60 months</td>\n      <td>13.08</td>\n      <td>797.80</td>\n      <td>...</td>\n      <td>0</td>\n      <td>0</td>\n      <td>0</td>\n      <td>0</td>\n      <td>0</td>\n      <td>0</td>\n      <td>0</td>\n      <td>0</td>\n      <td>0</td>\n      <td>0</td>\n    </tr>\n    <tr>\n      <th>3</th>\n      <td>3</td>\n      <td>135</td>\n      <td>135</td>\n      <td>135</td>\n      <td>17500</td>\n      <td>17500</td>\n      <td>17500</td>\n      <td>36 months</td>\n      <td>17.19</td>\n      <td>625.58</td>\n      <td>...</td>\n      <td>0</td>\n      <td>0</td>\n      <td>0</td>\n      <td>0</td>\n      <td>0</td>\n      <td>0</td>\n      <td>0</td>\n      <td>0</td>\n      <td>0</td>\n      <td>0</td>\n    </tr>\n    <tr>\n      <th>4</th>\n      <td>4</td>\n      <td>146</td>\n      <td>146</td>\n      <td>146</td>\n      <td>13750</td>\n      <td>13750</td>\n      <td>13750</td>\n      <td>36 months</td>\n      <td>28.80</td>\n      <td>574.71</td>\n      <td>...</td>\n      <td>0</td>\n      <td>0</td>\n      <td>0</td>\n      <td>0</td>\n      <td>0</td>\n      <td>0</td>\n      <td>0</td>\n      <td>0</td>\n      <td>0</td>\n      <td>0</td>\n    </tr>\n  </tbody>\n</table>\n<p>5 rows × 83 columns</p>\n</div>",
            "text/plain": "   Unnamed: 0  Unnamed: 0.1  Unnamed: 0.1.1  Column  loan_amnt  funded_amnt  \\\n0           0             7               7       7      10000        10000   \n1           1            51              51      51      15000        15000   \n2           2            80              80      80      35000        35000   \n3           3           135             135     135      17500        17500   \n4           4           146             146     146      13750        13750   \n\n   funded_amnt_inv        term  int_rate  installment    ...      purpose_3  \\\n0            10000   60 months     12.40       224.48    ...              0   \n1            15000   60 months     17.97       380.66    ...              0   \n2            35000   60 months     13.08       797.80    ...              0   \n3            17500   36 months     17.19       625.58    ...              0   \n4            13750   36 months     28.80       574.71    ...              0   \n\n   purpose_4  purpose_5  purpose_6 purpose_7 purpose_8 purpose_9 purpose_10  \\\n0          0          0          0         0         0         0          0   \n1          0          0          0         0         0         0          0   \n2          0          0          0         0         0         0          0   \n3          0          0          0         0         0         0          0   \n4          0          0          0         0         0         0          0   \n\n   purpose_11 purpose_12  \n0           0          0  \n1           0          0  \n2           0          0  \n3           0          0  \n4           0          0  \n\n[5 rows x 83 columns]"
          },
          "metadata": {}
        }
      ]
    },
    {
      "metadata": {
        "trusted": true
      },
      "cell_type": "code",
      "source": "final_data1.info()",
      "execution_count": 38,
      "outputs": [
        {
          "output_type": "stream",
          "text": "<class 'pandas.core.frame.DataFrame'>\nRangeIndex: 4757 entries, 0 to 4756\nData columns (total 82 columns):\nUnnamed: 0                        4757 non-null int64\nUnnamed: 0.1                      4757 non-null int64\nColumn                            4757 non-null int64\nloan_amnt                         4757 non-null int64\nfunded_amnt                       4757 non-null int64\nfunded_amnt_inv                   4757 non-null int64\nterm                              4757 non-null object\nint_rate                          4757 non-null float64\ninstallment                       4757 non-null float64\ngrade                             4757 non-null int64\nemp_length                        4288 non-null float64\nhome_ownership                    4757 non-null int64\nannual_inc                        4757 non-null float64\nverification_status               4757 non-null object\nissue_d                           4757 non-null object\nloan_status                       4757 non-null object\naddr_state                        4757 non-null object\ndti                               4745 non-null float64\nearliest_cr_line                  4757 non-null object\nmths_since_last_delinq            2015 non-null float64\nopen_acc                          4757 non-null int64\nrevol_bal                         4757 non-null int64\nrevol_util                        4743 non-null float64\ntotal_acc                         4757 non-null int64\ninitial_list_status               4757 non-null object\nout_prncp                         4757 non-null float64\nout_prncp_inv                     4757 non-null float64\ntotal_pymnt                       4757 non-null float64\ntotal_pymnt_inv                   4757 non-null float64\ntotal_rec_prncp                   4757 non-null float64\ntotal_rec_int                     4757 non-null float64\nlast_pymnt_d                      4522 non-null object\nlast_pymnt_amnt                   4757 non-null float64\nnext_pymnt_d                      1051 non-null object\nlast_credit_pull_d                4757 non-null object\napplication_type                  4757 non-null object\ntot_cur_bal                       4757 non-null int64\nopen_act_il                       4757 non-null int64\nmths_since_rcnt_il                4593 non-null float64\ntotal_bal_il                      4757 non-null int64\nil_util                           3941 non-null float64\nopen_rv_24m                       4757 non-null int64\nmax_bal_bc                        4757 non-null int64\nall_util                          4753 non-null float64\ntotal_rev_hi_lim                  4757 non-null int64\nacc_open_past_24mths              4757 non-null int64\navg_cur_bal                       4756 non-null float64\nbc_open_to_buy                    4667 non-null float64\nbc_util                           4663 non-null float64\nmo_sin_old_il_acct                4593 non-null float64\nmo_sin_old_rev_tl_op              4757 non-null int64\nmo_sin_rcnt_rev_tl_op             4757 non-null int64\nmo_sin_rcnt_tl                    4757 non-null int64\nmths_since_recent_bc              4673 non-null float64\nmths_since_recent_inq             4353 non-null float64\nmths_since_recent_revol_delinq    1363 non-null float64\nnum_actv_bc_tl                    4757 non-null int64\nnum_actv_rev_tl                   4757 non-null int64\nnum_bc_sats                       4757 non-null int64\nnum_bc_tl                         4757 non-null int64\nnum_il_tl                         4757 non-null int64\nnum_op_rev_tl                     4757 non-null int64\nnum_rev_accts                     4757 non-null int64\nnum_rev_tl_bal_gt_0               4757 non-null int64\nnum_sats                          4757 non-null int64\nnum_tl_op_past_12m                4757 non-null int64\npct_tl_nvr_dlq                    4757 non-null float64\ntot_hi_cred_lim                   4757 non-null int64\ntotal_bal_ex_mort                 4757 non-null int64\ntotal_bc_limit                    4757 non-null int64\ntotal_il_high_credit_limit        4757 non-null int64\npurpose_credit_card               4757 non-null int64\npurpose_debt_consolidation        4757 non-null int64\npurpose_home_improvement          4757 non-null int64\npurpose_house                     4757 non-null int64\npurpose_major_purchase            4757 non-null int64\npurpose_medical                   4757 non-null int64\npurpose_moving                    4757 non-null int64\npurpose_other                     4757 non-null int64\npurpose_renewable_energy          4757 non-null int64\npurpose_small_business            4757 non-null int64\npurpose_vacation                  4757 non-null int64\ndtypes: float64(25), int64(46), object(11)\nmemory usage: 3.0+ MB\n",
          "name": "stdout"
        }
      ]
    },
    {
      "metadata": {
        "trusted": true
      },
      "cell_type": "code",
      "source": "final_data1.purpose_8.value_counts()",
      "execution_count": 61,
      "outputs": [
        {
          "output_type": "execute_result",
          "execution_count": 61,
          "data": {
            "text/plain": "0    4686\n1      71\nName: purpose_8, dtype: int64"
          },
          "metadata": {}
        }
      ]
    },
    {
      "metadata": {
        "trusted": true
      },
      "cell_type": "code",
      "source": "",
      "execution_count": null,
      "outputs": []
    }
  ],
  "metadata": {
    "kernelspec": {
      "name": "python3",
      "display_name": "Python 3",
      "language": "python"
    },
    "language_info": {
      "mimetype": "text/x-python",
      "nbconvert_exporter": "python",
      "name": "python",
      "file_extension": ".py",
      "version": "3.5.4",
      "pygments_lexer": "ipython3",
      "codemirror_mode": {
        "version": 3,
        "name": "ipython"
      }
    }
  },
  "nbformat": 4,
  "nbformat_minor": 1
}