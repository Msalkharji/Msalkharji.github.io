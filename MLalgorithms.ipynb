{
  "cells": [
    {
      "metadata": {
        "collapsed": true
      },
      "cell_type": "markdown",
      "source": "# Import Libraries:"
    },
    {
      "metadata": {
        "trusted": true
      },
      "cell_type": "code",
      "source": "import pandas as pd\nimport numpy as np\n#import matplotlib.pyplot as plt\n\nimport warnings # ignore warnings\nwarnings.simplefilter(\"ignore\")      #Assign predictors & target\nfrom sklearn import preprocessing     \n\nfrom sklearn.model_selection import train_test_split # Split data\n\n#Models\nfrom sklearn import model_selection\nfrom sklearn.metrics import accuracy_score\n\n\nfrom sklearn.ensemble import RandomForestClassifier\nfrom sklearn.preprocessing import StandardScaler   # Feature Scaling for RF\n\n\n\nfrom sklearn.svm import SVC\nfrom sklearn.model_selection import GridSearchCV\n\nfrom sklearn.model_selection import train_test_split\n\nimport sklearn \nfrom sklearn.metrics import classification_report\n\nfrom sklearn.model_selection import cross_val_score",
      "execution_count": 1,
      "outputs": [
        {
          "output_type": "stream",
          "text": "/home/nbuser/anaconda3_420/lib/python3.5/site-packages/sklearn/ensemble/weight_boosting.py:29: DeprecationWarning: numpy.core.umath_tests is an internal NumPy module and should not be imported. It will be removed in a future NumPy release.\n  from numpy.core.umath_tests import inner1d\n",
          "name": "stderr"
        }
      ]
    },
    {
      "metadata": {},
      "cell_type": "markdown",
      "source": "# Get the Data:\n- Use pandas to read 'final_data.csv' as a dataframe called dataframe."
    },
    {
      "metadata": {
        "trusted": true
      },
      "cell_type": "code",
      "source": "dataframe = pd.read_csv('Features_Selection.csv')\ndataframe.head()",
      "execution_count": 3,
      "outputs": [
        {
          "output_type": "execute_result",
          "execution_count": 3,
          "data": {
            "text/html": "<div>\n<table border=\"1\" class=\"dataframe\">\n  <thead>\n    <tr style=\"text-align: right;\">\n      <th></th>\n      <th>Unnamed: 0</th>\n      <th>loan_amnt</th>\n      <th>funded_amnt</th>\n      <th>funded_amnt_inv</th>\n      <th>int_rate</th>\n      <th>installment</th>\n      <th>earliest_cr_line</th>\n      <th>revol_util</th>\n      <th>out_prncp</th>\n      <th>out_prncp_inv</th>\n      <th>...</th>\n      <th>purpose_debt_consolidation</th>\n      <th>purpose_home_improvement</th>\n      <th>purpose_house</th>\n      <th>purpose_major_purchase</th>\n      <th>purpose_medical</th>\n      <th>purpose_moving</th>\n      <th>purpose_other</th>\n      <th>purpose_renewable_energy</th>\n      <th>purpose_small_business</th>\n      <th>purpose_vacation</th>\n    </tr>\n  </thead>\n  <tbody>\n    <tr>\n      <th>0</th>\n      <td>0</td>\n      <td>10000</td>\n      <td>10000</td>\n      <td>10000</td>\n      <td>12.40</td>\n      <td>224.48</td>\n      <td>Feb-97</td>\n      <td>49.0</td>\n      <td>0.0</td>\n      <td>0.0</td>\n      <td>...</td>\n      <td>0</td>\n      <td>0</td>\n      <td>0</td>\n      <td>0</td>\n      <td>0</td>\n      <td>0</td>\n      <td>0</td>\n      <td>0</td>\n      <td>0</td>\n      <td>0</td>\n    </tr>\n    <tr>\n      <th>1</th>\n      <td>1</td>\n      <td>15000</td>\n      <td>15000</td>\n      <td>15000</td>\n      <td>17.97</td>\n      <td>380.66</td>\n      <td>Mar-07</td>\n      <td>48.0</td>\n      <td>0.0</td>\n      <td>0.0</td>\n      <td>...</td>\n      <td>1</td>\n      <td>0</td>\n      <td>0</td>\n      <td>0</td>\n      <td>0</td>\n      <td>0</td>\n      <td>0</td>\n      <td>0</td>\n      <td>0</td>\n      <td>0</td>\n    </tr>\n    <tr>\n      <th>2</th>\n      <td>2</td>\n      <td>35000</td>\n      <td>35000</td>\n      <td>35000</td>\n      <td>13.08</td>\n      <td>797.80</td>\n      <td>Jul-05</td>\n      <td>66.7</td>\n      <td>0.0</td>\n      <td>0.0</td>\n      <td>...</td>\n      <td>1</td>\n      <td>0</td>\n      <td>0</td>\n      <td>0</td>\n      <td>0</td>\n      <td>0</td>\n      <td>0</td>\n      <td>0</td>\n      <td>0</td>\n      <td>0</td>\n    </tr>\n    <tr>\n      <th>3</th>\n      <td>3</td>\n      <td>17500</td>\n      <td>17500</td>\n      <td>17500</td>\n      <td>17.19</td>\n      <td>625.58</td>\n      <td>Jun-06</td>\n      <td>83.6</td>\n      <td>0.0</td>\n      <td>0.0</td>\n      <td>...</td>\n      <td>1</td>\n      <td>0</td>\n      <td>0</td>\n      <td>0</td>\n      <td>0</td>\n      <td>0</td>\n      <td>0</td>\n      <td>0</td>\n      <td>0</td>\n      <td>0</td>\n    </tr>\n    <tr>\n      <th>4</th>\n      <td>4</td>\n      <td>13750</td>\n      <td>13750</td>\n      <td>13750</td>\n      <td>28.80</td>\n      <td>574.71</td>\n      <td>Apr-90</td>\n      <td>87.6</td>\n      <td>0.0</td>\n      <td>0.0</td>\n      <td>...</td>\n      <td>0</td>\n      <td>0</td>\n      <td>0</td>\n      <td>0</td>\n      <td>0</td>\n      <td>0</td>\n      <td>0</td>\n      <td>0</td>\n      <td>0</td>\n      <td>0</td>\n    </tr>\n  </tbody>\n</table>\n<p>5 rows × 24 columns</p>\n</div>",
            "text/plain": "   Unnamed: 0  loan_amnt  funded_amnt  funded_amnt_inv  int_rate  installment  \\\n0           0      10000        10000            10000     12.40       224.48   \n1           1      15000        15000            15000     17.97       380.66   \n2           2      35000        35000            35000     13.08       797.80   \n3           3      17500        17500            17500     17.19       625.58   \n4           4      13750        13750            13750     28.80       574.71   \n\n  earliest_cr_line  revol_util  out_prncp  out_prncp_inv        ...         \\\n0           Feb-97        49.0        0.0            0.0        ...          \n1           Mar-07        48.0        0.0            0.0        ...          \n2           Jul-05        66.7        0.0            0.0        ...          \n3           Jun-06        83.6        0.0            0.0        ...          \n4           Apr-90        87.6        0.0            0.0        ...          \n\n   purpose_debt_consolidation  purpose_home_improvement  purpose_house  \\\n0                           0                         0              0   \n1                           1                         0              0   \n2                           1                         0              0   \n3                           1                         0              0   \n4                           0                         0              0   \n\n   purpose_major_purchase  purpose_medical  purpose_moving  purpose_other  \\\n0                       0                0               0              0   \n1                       0                0               0              0   \n2                       0                0               0              0   \n3                       0                0               0              0   \n4                       0                0               0              0   \n\n   purpose_renewable_energy  purpose_small_business  purpose_vacation  \n0                         0                       0                 0  \n1                         0                       0                 0  \n2                         0                       0                 0  \n3                         0                       0                 0  \n4                         0                       0                 0  \n\n[5 rows x 24 columns]"
          },
          "metadata": {}
        }
      ]
    },
    {
      "metadata": {},
      "cell_type": "markdown",
      "source": "# Drop others purposes"
    },
    {
      "metadata": {
        "trusted": true
      },
      "cell_type": "code",
      "source": "dataframe.info()",
      "execution_count": 4,
      "outputs": [
        {
          "output_type": "stream",
          "text": "<class 'pandas.core.frame.DataFrame'>\nRangeIndex: 4757 entries, 0 to 4756\nData columns (total 24 columns):\nUnnamed: 0                    4757 non-null int64\nloan_amnt                     4757 non-null int64\nfunded_amnt                   4757 non-null int64\nfunded_amnt_inv               4757 non-null int64\nint_rate                      4757 non-null float64\ninstallment                   4757 non-null float64\nearliest_cr_line              4757 non-null object\nrevol_util                    4743 non-null float64\nout_prncp                     4757 non-null float64\nout_prncp_inv                 4757 non-null float64\ntotal_rec_int                 4757 non-null float64\nlast_pymnt_amnt               4757 non-null float64\npurpose_car                   4757 non-null int64\npurpose_credit_card           4757 non-null int64\npurpose_debt_consolidation    4757 non-null int64\npurpose_home_improvement      4757 non-null int64\npurpose_house                 4757 non-null int64\npurpose_major_purchase        4757 non-null int64\npurpose_medical               4757 non-null int64\npurpose_moving                4757 non-null int64\npurpose_other                 4757 non-null int64\npurpose_renewable_energy      4757 non-null int64\npurpose_small_business        4757 non-null int64\npurpose_vacation              4757 non-null int64\ndtypes: float64(7), int64(16), object(1)\nmemory usage: 892.0+ KB\n",
          "name": "stdout"
        }
      ]
    },
    {
      "metadata": {
        "trusted": true
      },
      "cell_type": "code",
      "source": "# drop columns\ndataframe.drop(['purpose_car', 'purpose_debt_consolidation','purpose_home_improvement', 'purpose_house','purpose_major_purchase','purpose_medical','purpose_moving','purpose_other',\n                'purpose_renewable_energy','purpose_small_business','purpose_vacation'], axis=1, inplace=True)",
      "execution_count": 5,
      "outputs": []
    },
    {
      "metadata": {
        "trusted": true
      },
      "cell_type": "code",
      "source": "# drop columns\ndataframe.drop(['earliest_cr_line'], axis=1, inplace=True)\ndataframe.drop(['revol_util'], axis=1, inplace=True)",
      "execution_count": 6,
      "outputs": []
    },
    {
      "metadata": {
        "trusted": true
      },
      "cell_type": "code",
      "source": "dataframe.info()",
      "execution_count": 7,
      "outputs": [
        {
          "output_type": "stream",
          "text": "<class 'pandas.core.frame.DataFrame'>\nRangeIndex: 4757 entries, 0 to 4756\nData columns (total 11 columns):\nUnnamed: 0             4757 non-null int64\nloan_amnt              4757 non-null int64\nfunded_amnt            4757 non-null int64\nfunded_amnt_inv        4757 non-null int64\nint_rate               4757 non-null float64\ninstallment            4757 non-null float64\nout_prncp              4757 non-null float64\nout_prncp_inv          4757 non-null float64\ntotal_rec_int          4757 non-null float64\nlast_pymnt_amnt        4757 non-null float64\npurpose_credit_card    4757 non-null int64\ndtypes: float64(6), int64(5)\nmemory usage: 408.9 KB\n",
          "name": "stdout"
        }
      ]
    },
    {
      "metadata": {},
      "cell_type": "markdown",
      "source": "# Check if target is balanced:"
    },
    {
      "metadata": {
        "trusted": true
      },
      "cell_type": "code",
      "source": "dataframe['purpose_credit_card'].value_counts()",
      "execution_count": 8,
      "outputs": [
        {
          "output_type": "execute_result",
          "execution_count": 8,
          "data": {
            "text/plain": "0    3767\n1     990\nName: purpose_credit_card, dtype: int64"
          },
          "metadata": {}
        }
      ]
    },
    {
      "metadata": {
        "trusted": true
      },
      "cell_type": "code",
      "source": "",
      "execution_count": null,
      "outputs": []
    },
    {
      "metadata": {
        "trusted": true
      },
      "cell_type": "code",
      "source": "",
      "execution_count": null,
      "outputs": []
    },
    {
      "metadata": {},
      "cell_type": "markdown",
      "source": "# Balancing Data by under sampling the majority class"
    },
    {
      "metadata": {
        "trusted": true
      },
      "cell_type": "code",
      "source": "ChargedOff_df=dataframe[dataframe[\"purpose_credit_card\"]==1]\nPaid_df = dataframe[dataframe[\"purpose_credit_card\"]==0]\nPaid_df_sample=Paid_df.sample(n=990, random_state=0)\nframes = [ChargedOff_df,Paid_df_sample]\nBalancedData = pd.concat(frames)\nBalancedRandomData = BalancedData.sample(frac=1).reset_index(drop=True)\nBalancedRandomData['purpose_credit_card'].value_counts()",
      "execution_count": 9,
      "outputs": [
        {
          "output_type": "execute_result",
          "execution_count": 9,
          "data": {
            "text/plain": "1    990\n0    990\nName: purpose_credit_card, dtype: int64"
          },
          "metadata": {}
        }
      ]
    },
    {
      "metadata": {},
      "cell_type": "markdown",
      "source": "# Assign predictors and target (x,y)"
    },
    {
      "metadata": {
        "trusted": true
      },
      "cell_type": "code",
      "source": "y=BalancedRandomData['purpose_credit_card']\nX = BalancedRandomData.drop('purpose_credit_card', axis=1)",
      "execution_count": 10,
      "outputs": []
    },
    {
      "metadata": {},
      "cell_type": "markdown",
      "source": "# Split Data to train and test\n"
    },
    {
      "metadata": {
        "trusted": true
      },
      "cell_type": "code",
      "source": "X_train, X_test, y_train, y_test = train_test_split(X, y, test_size = 0.2,random_state=0)",
      "execution_count": 11,
      "outputs": []
    },
    {
      "metadata": {
        "trusted": true
      },
      "cell_type": "code",
      "source": "X_train.shape",
      "execution_count": 12,
      "outputs": [
        {
          "output_type": "execute_result",
          "execution_count": 12,
          "data": {
            "text/plain": "(1584, 10)"
          },
          "metadata": {}
        }
      ]
    },
    {
      "metadata": {
        "trusted": true
      },
      "cell_type": "code",
      "source": "X_test.head()",
      "execution_count": 13,
      "outputs": [
        {
          "output_type": "execute_result",
          "execution_count": 13,
          "data": {
            "text/html": "<div>\n<table border=\"1\" class=\"dataframe\">\n  <thead>\n    <tr style=\"text-align: right;\">\n      <th></th>\n      <th>Unnamed: 0</th>\n      <th>loan_amnt</th>\n      <th>funded_amnt</th>\n      <th>funded_amnt_inv</th>\n      <th>int_rate</th>\n      <th>installment</th>\n      <th>out_prncp</th>\n      <th>out_prncp_inv</th>\n      <th>total_rec_int</th>\n      <th>last_pymnt_amnt</th>\n    </tr>\n  </thead>\n  <tbody>\n    <tr>\n      <th>215</th>\n      <td>2142</td>\n      <td>6500</td>\n      <td>6500</td>\n      <td>6500</td>\n      <td>15.02</td>\n      <td>225.39</td>\n      <td>0.00</td>\n      <td>0.00</td>\n      <td>40.68</td>\n      <td>6546.10</td>\n    </tr>\n    <tr>\n      <th>161</th>\n      <td>1728</td>\n      <td>20000</td>\n      <td>20000</td>\n      <td>20000</td>\n      <td>8.81</td>\n      <td>634.23</td>\n      <td>0.00</td>\n      <td>0.00</td>\n      <td>6.36</td>\n      <td>20030.83</td>\n    </tr>\n    <tr>\n      <th>135</th>\n      <td>1308</td>\n      <td>17500</td>\n      <td>17500</td>\n      <td>17500</td>\n      <td>8.19</td>\n      <td>356.44</td>\n      <td>0.00</td>\n      <td>0.00</td>\n      <td>9.16</td>\n      <td>17525.08</td>\n    </tr>\n    <tr>\n      <th>386</th>\n      <td>2188</td>\n      <td>12100</td>\n      <td>12100</td>\n      <td>12100</td>\n      <td>23.40</td>\n      <td>470.92</td>\n      <td>11627.77</td>\n      <td>11627.77</td>\n      <td>453.88</td>\n      <td>470.92</td>\n    </tr>\n    <tr>\n      <th>674</th>\n      <td>1912</td>\n      <td>5000</td>\n      <td>5000</td>\n      <td>5000</td>\n      <td>11.31</td>\n      <td>164.43</td>\n      <td>4764.28</td>\n      <td>4764.28</td>\n      <td>90.00</td>\n      <td>164.43</td>\n    </tr>\n  </tbody>\n</table>\n</div>",
            "text/plain": "     Unnamed: 0  loan_amnt  funded_amnt  funded_amnt_inv  int_rate  \\\n215        2142       6500         6500             6500     15.02   \n161        1728      20000        20000            20000      8.81   \n135        1308      17500        17500            17500      8.19   \n386        2188      12100        12100            12100     23.40   \n674        1912       5000         5000             5000     11.31   \n\n     installment  out_prncp  out_prncp_inv  total_rec_int  last_pymnt_amnt  \n215       225.39       0.00           0.00          40.68          6546.10  \n161       634.23       0.00           0.00           6.36         20030.83  \n135       356.44       0.00           0.00           9.16         17525.08  \n386       470.92   11627.77       11627.77         453.88           470.92  \n674       164.43    4764.28        4764.28          90.00           164.43  "
          },
          "metadata": {}
        }
      ]
    },
    {
      "metadata": {
        "trusted": true
      },
      "cell_type": "code",
      "source": "y_train.head()",
      "execution_count": 14,
      "outputs": [
        {
          "output_type": "execute_result",
          "execution_count": 14,
          "data": {
            "text/plain": "251     1\n1275    1\n1303    1\n190     1\n1819    0\nName: purpose_credit_card, dtype: int64"
          },
          "metadata": {}
        }
      ]
    },
    {
      "metadata": {
        "trusted": true
      },
      "cell_type": "code",
      "source": "y_test.shape",
      "execution_count": 15,
      "outputs": [
        {
          "output_type": "execute_result",
          "execution_count": 15,
          "data": {
            "text/plain": "(396,)"
          },
          "metadata": {}
        }
      ]
    },
    {
      "metadata": {},
      "cell_type": "markdown",
      "source": "# Fitting Random Forest model\n- find accuarcy of training, testing and prediction"
    },
    {
      "metadata": {
        "trusted": true
      },
      "cell_type": "code",
      "source": "clf = RandomForestClassifier(n_jobs=2, random_state=0)\n\nclf.fit(X_train, y_train)\nRandomForestClassifier(bootstrap=True, class_weight=None, criterion='gini',\n            max_depth=None, max_features='auto', max_leaf_nodes=None,\n            min_impurity_split=1e-07, min_samples_leaf=1,\n            min_samples_split=2, min_weight_fraction_leaf=0.0,\n            n_estimators=10, n_jobs=2, oob_score=False, random_state=0,\n            verbose=0, warm_start=False)",
      "execution_count": 17,
      "outputs": [
        {
          "output_type": "execute_result",
          "execution_count": 17,
          "data": {
            "text/plain": "RandomForestClassifier(bootstrap=True, class_weight=None, criterion='gini',\n            max_depth=None, max_features='auto', max_leaf_nodes=None,\n            min_impurity_decrease=0.0, min_impurity_split=1e-07,\n            min_samples_leaf=1, min_samples_split=2,\n            min_weight_fraction_leaf=0.0, n_estimators=10, n_jobs=2,\n            oob_score=False, random_state=0, verbose=0, warm_start=False)"
          },
          "metadata": {}
        }
      ]
    },
    {
      "metadata": {
        "trusted": true
      },
      "cell_type": "code",
      "source": "preds = clf.predict(X_test)",
      "execution_count": 18,
      "outputs": []
    },
    {
      "metadata": {
        "trusted": true
      },
      "cell_type": "code",
      "source": "pd.crosstab(y_test, preds, rownames=['Actual Result'], colnames=['Predicted Result'])",
      "execution_count": 19,
      "outputs": [
        {
          "output_type": "execute_result",
          "execution_count": 19,
          "data": {
            "text/html": "<div>\n<table border=\"1\" class=\"dataframe\">\n  <thead>\n    <tr style=\"text-align: right;\">\n      <th>Predicted Result</th>\n      <th>0</th>\n      <th>1</th>\n    </tr>\n    <tr>\n      <th>Actual Result</th>\n      <th></th>\n      <th></th>\n    </tr>\n  </thead>\n  <tbody>\n    <tr>\n      <th>0</th>\n      <td>123</td>\n      <td>85</td>\n    </tr>\n    <tr>\n      <th>1</th>\n      <td>94</td>\n      <td>94</td>\n    </tr>\n  </tbody>\n</table>\n</div>",
            "text/plain": "Predicted Result    0   1\nActual Result            \n0                 123  85\n1                  94  94"
          },
          "metadata": {}
        }
      ]
    },
    {
      "metadata": {
        "trusted": true
      },
      "cell_type": "code",
      "source": "#2 \n\n# Feature Scaling (Normalize x)\nsc = StandardScaler()\nX_train = sc.fit_transform(X_train)\nX_test = sc.transform(X_test)\n\n#RF\nclf=RandomForestClassifier(n_estimators=300)\n\nclf.fit(X_train,y_train)\n\n# Make predictions on test data\ny_pred=clf.predict(X_test)\n\nfrom sklearn import metrics\n# Model Accuracy, how often is the classifier correct?\nprint(\"Accuracy:\",metrics.accuracy_score(y_test, y_pred))",
      "execution_count": 47,
      "outputs": [
        {
          "output_type": "stream",
          "text": "Accuracy: 0.5505050505050505\n",
          "name": "stdout"
        }
      ]
    },
    {
      "metadata": {
        "trusted": true
      },
      "cell_type": "code",
      "source": "model2 = RandomForestClassifier(n_estimators=300,max_depth=800)\nmodel2.fit(X_train,y_train)\npredictions2 = model2.predict(X_test)\n\nprint(('Testing Accuracy: %.5f') % (accuracy_score(y_test, predictions2)))\nprint(('Training Accuracy: %.5f') % (accuracy_score(y_train, model2.predict(X_train))))\nprint()",
      "execution_count": 53,
      "outputs": [
        {
          "output_type": "stream",
          "text": "Testing Accuracy: 0.56061\nTraining Accuracy: 1.00000\n\n",
          "name": "stdout"
        }
      ]
    },
    {
      "metadata": {
        "trusted": true
      },
      "cell_type": "code",
      "source": "kfold = model_selection.KFold(n_splits=6, random_state=0)\nscoring = 'roc_auc'\nresults = model_selection.cross_val_score(model2, X, y, cv=kfold, scoring='roc_auc')\nprint((\"AUC for random forest model: %.3f (%.3f)\") % (results.mean(), results.std()))",
      "execution_count": 54,
      "outputs": [
        {
          "output_type": "stream",
          "text": "AUC for random forest model: 0.599 (0.027)\n",
          "name": "stdout"
        }
      ]
    },
    {
      "metadata": {
        "trusted": true
      },
      "cell_type": "code",
      "source": "RandomForestCV2 = model_selection.cross_val_score(model2,X,y,cv=8)\nplt.plot(RandomForestCV2,\"p\")",
      "execution_count": 57,
      "outputs": [
        {
          "output_type": "execute_result",
          "execution_count": 57,
          "data": {
            "text/plain": "[<matplotlib.lines.Line2D at 0x7f1da74d5550>]"
          },
          "metadata": {}
        },
        {
          "output_type": "display_data",
          "data": {
            "image/png": "[encoded data removed]",
            "text/plain": "<matplotlib.figure.Figure at 0x7f1da8187f60>"
          },
          "metadata": {}
        }
      ]
    },
    {
      "metadata": {
        "trusted": true
      },
      "cell_type": "code",
      "source": "print(RandomForestCV2.mean())",
      "execution_count": 58,
      "outputs": [
        {
          "output_type": "stream",
          "text": "0.5737976986624704\n",
          "name": "stdout"
        }
      ]
    },
    {
      "metadata": {
        "trusted": true
      },
      "cell_type": "code",
      "source": "RF = RandomForestClassifier(n_estimators=300, criterion='gini' , random_state=0)  \nRF.fit(X_train,y_train)\nall_accuracies = cross_val_score(estimator=RF, X= X_train, y=y_train, cv=10) \nprint(all_accuracies)  \nprint(all_accuracies.std())  \nprint(all_accuracies.mean())",
      "execution_count": 95,
      "outputs": [
        {
          "output_type": "stream",
          "text": "[0.99371069 0.98742138 1.         0.99371069 1.         1.\n 0.98742138 0.98726115 0.99363057 0.98726115]\n0.005258338120523943\n0.9930417017185433\n",
          "name": "stdout"
        }
      ]
    },
    {
      "metadata": {
        "trusted": true
      },
      "cell_type": "code",
      "source": "",
      "execution_count": null,
      "outputs": []
    },
    {
      "metadata": {},
      "cell_type": "markdown",
      "source": "# SVM Model"
    },
    {
      "metadata": {
        "trusted": true
      },
      "cell_type": "code",
      "source": "SVM = DecisionTreeClassifier()\nSVM.fit(X_train,y_train)\npredicte = model.predict(X_test)\n",
      "execution_count": 21,
      "outputs": []
    },
    {
      "metadata": {
        "trusted": true
      },
      "cell_type": "code",
      "source": "print(('Testing Accuracy: %.5f') % (accuracy_score(y_test, predicte)))\nprint(('Training Accuracy: %.5f') % (accuracy_score(y_train, SVM.predict(X_train))))\nprint()",
      "execution_count": 22,
      "outputs": [
        {
          "output_type": "stream",
          "text": "Testing Accuracy: 0.52778\nTraining Accuracy: 1.00000\n\n",
          "name": "stdout"
        }
      ]
    },
    {
      "metadata": {
        "trusted": true
      },
      "cell_type": "code",
      "source": "# Model Accuracy, how often is the classifier correct?\n\nfrom sklearn import metrics\nprint(\"Accuracy:\",metrics.accuracy_score(y_test, predicte))",
      "execution_count": 25,
      "outputs": [
        {
          "output_type": "stream",
          "text": "Accuracy: 0.5277777777777778\n",
          "name": "stdout"
        }
      ]
    },
    {
      "metadata": {
        "trusted": true
      },
      "cell_type": "code",
      "source": "#2 SVM",
      "execution_count": null,
      "outputs": []
    },
    {
      "metadata": {
        "trusted": true
      },
      "cell_type": "code",
      "source": "# using grid search for Support Veector Machine\nparam_grid = [{'kernel': ['rbf'], 'gamma': [1e-3, 1e-4], 'C': [1, 10, 100, 1000]},\n                {'kernel': ['linear'], 'C': [1, 10, 100, 1000]}]\nmodel = SVC()\ngrid = GridSearchCV(model, param_grid, scoring='roc_auc', n_jobs=-1, verbose=1)\ngrid.fit(train_features, train_target)\nprint(grid.best_score_)\nprint(grid.best_estimator_.kernel)\nprint(grid.best_estimator_.C)\nprint(grid.best_estimator_.gamma) ",
      "execution_count": null,
      "outputs": []
    }
  ],
  "metadata": {
    "kernelspec": {
      "name": "python3",
      "display_name": "Python 3",
      "language": "python"
    },
    "language_info": {
      "mimetype": "text/x-python",
      "nbconvert_exporter": "python",
      "name": "python",
      "pygments_lexer": "ipython3",
      "version": "3.5.4",
      "file_extension": ".py",
      "codemirror_mode": {
        "version": 3,
        "name": "ipython"
      }
    }
  },
  "nbformat": 4,
  "nbformat_minor": 2
}