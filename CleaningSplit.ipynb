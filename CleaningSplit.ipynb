{
  "cells": [
    {
      "metadata": {
        "trusted": true
      },
      "cell_type": "code",
      "source": "import pandas as pd\nimport numpy as np",
      "execution_count": 3,
      "outputs": []
    },
    {
      "metadata": {
        "trusted": true
      },
      "cell_type": "code",
      "source": "df = pd.read_csv('Cleaning_Data.csv')\ndf.head()",
      "execution_count": 4,
      "outputs": [
        {
          "output_type": "execute_result",
          "execution_count": 4,
          "data": {
            "text/html": "<div>\n<table border=\"1\" class=\"dataframe\">\n  <thead>\n    <tr style=\"text-align: right;\">\n      <th></th>\n      <th>Unnamed: 0</th>\n      <th>Column</th>\n      <th>loan_amnt</th>\n      <th>funded_amnt</th>\n      <th>funded_amnt_inv</th>\n      <th>term</th>\n      <th>int_rate</th>\n      <th>installment</th>\n      <th>grade</th>\n      <th>emp_length</th>\n      <th>...</th>\n      <th>num_op_rev_tl</th>\n      <th>num_rev_accts</th>\n      <th>num_rev_tl_bal_gt_0</th>\n      <th>num_sats</th>\n      <th>num_tl_op_past_12m</th>\n      <th>pct_tl_nvr_dlq</th>\n      <th>tot_hi_cred_lim</th>\n      <th>total_bal_ex_mort</th>\n      <th>total_bc_limit</th>\n      <th>total_il_high_credit_limit</th>\n    </tr>\n  </thead>\n  <tbody>\n    <tr>\n      <th>0</th>\n      <td>0</td>\n      <td>0</td>\n      <td>20000</td>\n      <td>20000</td>\n      <td>20000</td>\n      <td>60 months</td>\n      <td>17.19%</td>\n      <td>499.10</td>\n      <td>C</td>\n      <td>6 years</td>\n      <td>...</td>\n      <td>13</td>\n      <td>33</td>\n      <td>4</td>\n      <td>15</td>\n      <td>5</td>\n      <td>98.0</td>\n      <td>75824</td>\n      <td>31546</td>\n      <td>33800</td>\n      <td>21524</td>\n    </tr>\n    <tr>\n      <th>1</th>\n      <td>1</td>\n      <td>1</td>\n      <td>21225</td>\n      <td>21225</td>\n      <td>21225</td>\n      <td>60 months</td>\n      <td>14.74%</td>\n      <td>502.05</td>\n      <td>C</td>\n      <td>10+ years</td>\n      <td>...</td>\n      <td>7</td>\n      <td>7</td>\n      <td>6</td>\n      <td>14</td>\n      <td>2</td>\n      <td>100.0</td>\n      <td>747075</td>\n      <td>209426</td>\n      <td>53500</td>\n      <td>128175</td>\n    </tr>\n    <tr>\n      <th>2</th>\n      <td>2</td>\n      <td>2</td>\n      <td>5000</td>\n      <td>5000</td>\n      <td>5000</td>\n      <td>36 months</td>\n      <td>17.97%</td>\n      <td>180.69</td>\n      <td>D</td>\n      <td>NaN</td>\n      <td>...</td>\n      <td>6</td>\n      <td>9</td>\n      <td>6</td>\n      <td>8</td>\n      <td>1</td>\n      <td>66.7</td>\n      <td>255738</td>\n      <td>31615</td>\n      <td>9400</td>\n      <td>39938</td>\n    </tr>\n    <tr>\n      <th>3</th>\n      <td>3</td>\n      <td>3</td>\n      <td>20000</td>\n      <td>20000</td>\n      <td>20000</td>\n      <td>36 months</td>\n      <td>8.19%</td>\n      <td>628.49</td>\n      <td>A</td>\n      <td>1 year</td>\n      <td>...</td>\n      <td>14</td>\n      <td>27</td>\n      <td>9</td>\n      <td>20</td>\n      <td>3</td>\n      <td>95.7</td>\n      <td>448069</td>\n      <td>84744</td>\n      <td>49400</td>\n      <td>105180</td>\n    </tr>\n    <tr>\n      <th>4</th>\n      <td>4</td>\n      <td>4</td>\n      <td>13500</td>\n      <td>13500</td>\n      <td>13500</td>\n      <td>36 months</td>\n      <td>7.56%</td>\n      <td>420.31</td>\n      <td>A</td>\n      <td>8 years</td>\n      <td>...</td>\n      <td>9</td>\n      <td>11</td>\n      <td>6</td>\n      <td>9</td>\n      <td>1</td>\n      <td>100.0</td>\n      <td>40200</td>\n      <td>9932</td>\n      <td>25100</td>\n      <td>0</td>\n    </tr>\n  </tbody>\n</table>\n<p>5 rows × 71 columns</p>\n</div>",
            "text/plain": "   Unnamed: 0  Column  loan_amnt  funded_amnt  funded_amnt_inv        term  \\\n0           0       0      20000        20000            20000   60 months   \n1           1       1      21225        21225            21225   60 months   \n2           2       2       5000         5000             5000   36 months   \n3           3       3      20000        20000            20000   36 months   \n4           4       4      13500        13500            13500   36 months   \n\n  int_rate  installment grade emp_length             ...              \\\n0   17.19%       499.10     C    6 years             ...               \n1   14.74%       502.05     C  10+ years             ...               \n2   17.97%       180.69     D        NaN             ...               \n3    8.19%       628.49     A     1 year             ...               \n4    7.56%       420.31     A    8 years             ...               \n\n  num_op_rev_tl  num_rev_accts num_rev_tl_bal_gt_0 num_sats  \\\n0            13             33                   4       15   \n1             7              7                   6       14   \n2             6              9                   6        8   \n3            14             27                   9       20   \n4             9             11                   6        9   \n\n  num_tl_op_past_12m pct_tl_nvr_dlq tot_hi_cred_lim  total_bal_ex_mort  \\\n0                  5           98.0           75824              31546   \n1                  2          100.0          747075             209426   \n2                  1           66.7          255738              31615   \n3                  3           95.7          448069              84744   \n4                  1          100.0           40200               9932   \n\n  total_bc_limit  total_il_high_credit_limit  \n0          33800                       21524  \n1          53500                      128175  \n2           9400                       39938  \n3          49400                      105180  \n4          25100                           0  \n\n[5 rows x 71 columns]"
          },
          "metadata": {}
        }
      ]
    },
    {
      "metadata": {
        "trusted": true
      },
      "cell_type": "code",
      "source": "# Loan status summary \ndf.loan_status.value_counts()",
      "execution_count": 5,
      "outputs": [
        {
          "output_type": "execute_result",
          "execution_count": 5,
          "data": {
            "text/plain": "Current               110918\nFully Paid              3608\nLate (31-120 days)       468\nIn Grace Period          327\nLate (16-30 days)        256\nCharged Off               98\nName: loan_status, dtype: int64"
          },
          "metadata": {}
        }
      ]
    },
    {
      "metadata": {
        "trusted": true
      },
      "cell_type": "code",
      "source": "# remove all current loans \ndf = df[df.loan_status != 'Current']\ndf.shape",
      "execution_count": 6,
      "outputs": [
        {
          "output_type": "execute_result",
          "execution_count": 6,
          "data": {
            "text/plain": "(4757, 71)"
          },
          "metadata": {}
        }
      ]
    },
    {
      "metadata": {
        "trusted": true
      },
      "cell_type": "code",
      "source": "# change loan status to numeric where 1 are fully paid loans and 0 charged off loans\ndi = {\"Fully Paid\":1, \"Charged Off\":0, \"Late (31-120 days)\":0, \"In Grace Period\":0, \"Late (16-30 days)\":0}  \ndf= df.replace({\"loan_status\": di})\ndf[\"loan_status\"].value_counts()\nnewMapping = {1:\"Fully Paid\", 0:\"Charged Off\"}\ndf= df.replace({\"loan_status\": newMapping})",
      "execution_count": 7,
      "outputs": []
    },
    {
      "metadata": {
        "trusted": true
      },
      "cell_type": "code",
      "source": "# change interest rate to numeric \ndf['int_rate'] = df['int_rate'].str.rstrip('%').astype('float')",
      "execution_count": 8,
      "outputs": []
    },
    {
      "metadata": {
        "trusted": true
      },
      "cell_type": "code",
      "source": "# change employment length to numeric\nmap = {\"n/a\":0, \"< 1 \":1, \"1 \":1, \"2 \":2, \"3 \":3, \"4 \":4, \"5 \":5, \"6 \":6, \"7 \":7, \"8 \":8, \"9 \":9, \"10+ \":10}\ndf.emp_length = df.emp_length.str.replace(\"years\",\"\")\ndf.emp_length = df.emp_length.str.replace(\"year\",\"\")\ndf.emp_length.replace(map, inplace=True)\ndf.emp_length.value_counts()",
      "execution_count": 9,
      "outputs": [
        {
          "output_type": "execute_result",
          "execution_count": 9,
          "data": {
            "text/plain": "10.0    1500\n1.0      876\n2.0      387\n3.0      360\n5.0      295\n4.0      251\n6.0      197\n7.0      180\n8.0      147\n9.0       95\nName: emp_length, dtype: int64"
          },
          "metadata": {}
        }
      ]
    },
    {
      "metadata": {
        "trusted": true
      },
      "cell_type": "code",
      "source": "# change grade to numeric\ndf['grade'] = df['grade'].map({'A':7,'B':6,'C':5,'D':4,'E':3,'F':2,'G':1})",
      "execution_count": 10,
      "outputs": []
    },
    {
      "metadata": {
        "trusted": true
      },
      "cell_type": "code",
      "source": "# change home ownership to numeric \ndf[\"home_ownership\"] = df[\"home_ownership\"].map({\"MORTGAGE\":6,\"RENT\":5,\"OWN\":4,\"OTHER\":3,\"NONE\":2,\"ANY\":1})",
      "execution_count": 11,
      "outputs": []
    },
    {
      "metadata": {
        "trusted": true
      },
      "cell_type": "code",
      "source": "df.head()",
      "execution_count": 12,
      "outputs": [
        {
          "output_type": "execute_result",
          "execution_count": 12,
          "data": {
            "text/html": "<div>\n<table border=\"1\" class=\"dataframe\">\n  <thead>\n    <tr style=\"text-align: right;\">\n      <th></th>\n      <th>Unnamed: 0</th>\n      <th>Column</th>\n      <th>loan_amnt</th>\n      <th>funded_amnt</th>\n      <th>funded_amnt_inv</th>\n      <th>term</th>\n      <th>int_rate</th>\n      <th>installment</th>\n      <th>grade</th>\n      <th>emp_length</th>\n      <th>...</th>\n      <th>num_op_rev_tl</th>\n      <th>num_rev_accts</th>\n      <th>num_rev_tl_bal_gt_0</th>\n      <th>num_sats</th>\n      <th>num_tl_op_past_12m</th>\n      <th>pct_tl_nvr_dlq</th>\n      <th>tot_hi_cred_lim</th>\n      <th>total_bal_ex_mort</th>\n      <th>total_bc_limit</th>\n      <th>total_il_high_credit_limit</th>\n    </tr>\n  </thead>\n  <tbody>\n    <tr>\n      <th>7</th>\n      <td>7</td>\n      <td>7</td>\n      <td>10000</td>\n      <td>10000</td>\n      <td>10000</td>\n      <td>60 months</td>\n      <td>12.40</td>\n      <td>224.48</td>\n      <td>6</td>\n      <td>NaN</td>\n      <td>...</td>\n      <td>4</td>\n      <td>7</td>\n      <td>2</td>\n      <td>7</td>\n      <td>0</td>\n      <td>100.0</td>\n      <td>176439</td>\n      <td>37523</td>\n      <td>17000</td>\n      <td>57439</td>\n    </tr>\n    <tr>\n      <th>51</th>\n      <td>51</td>\n      <td>51</td>\n      <td>15000</td>\n      <td>15000</td>\n      <td>15000</td>\n      <td>60 months</td>\n      <td>17.97</td>\n      <td>380.66</td>\n      <td>4</td>\n      <td>9.0</td>\n      <td>...</td>\n      <td>7</td>\n      <td>7</td>\n      <td>5</td>\n      <td>8</td>\n      <td>4</td>\n      <td>100.0</td>\n      <td>37222</td>\n      <td>23300</td>\n      <td>16400</td>\n      <td>14822</td>\n    </tr>\n    <tr>\n      <th>80</th>\n      <td>80</td>\n      <td>80</td>\n      <td>35000</td>\n      <td>35000</td>\n      <td>35000</td>\n      <td>60 months</td>\n      <td>13.08</td>\n      <td>797.80</td>\n      <td>6</td>\n      <td>1.0</td>\n      <td>...</td>\n      <td>10</td>\n      <td>11</td>\n      <td>6</td>\n      <td>14</td>\n      <td>2</td>\n      <td>100.0</td>\n      <td>399376</td>\n      <td>131350</td>\n      <td>32700</td>\n      <td>130876</td>\n    </tr>\n    <tr>\n      <th>135</th>\n      <td>135</td>\n      <td>135</td>\n      <td>17500</td>\n      <td>17500</td>\n      <td>17500</td>\n      <td>36 months</td>\n      <td>17.19</td>\n      <td>625.58</td>\n      <td>5</td>\n      <td>5.0</td>\n      <td>...</td>\n      <td>6</td>\n      <td>6</td>\n      <td>5</td>\n      <td>12</td>\n      <td>0</td>\n      <td>92.6</td>\n      <td>131463</td>\n      <td>141781</td>\n      <td>17400</td>\n      <td>113163</td>\n    </tr>\n    <tr>\n      <th>146</th>\n      <td>146</td>\n      <td>146</td>\n      <td>13750</td>\n      <td>13750</td>\n      <td>13750</td>\n      <td>36 months</td>\n      <td>28.80</td>\n      <td>574.71</td>\n      <td>4</td>\n      <td>NaN</td>\n      <td>...</td>\n      <td>6</td>\n      <td>7</td>\n      <td>6</td>\n      <td>6</td>\n      <td>2</td>\n      <td>87.5</td>\n      <td>19200</td>\n      <td>16814</td>\n      <td>15400</td>\n      <td>0</td>\n    </tr>\n  </tbody>\n</table>\n<p>5 rows × 71 columns</p>\n</div>",
            "text/plain": "     Unnamed: 0  Column  loan_amnt  funded_amnt  funded_amnt_inv        term  \\\n7             7       7      10000        10000            10000   60 months   \n51           51      51      15000        15000            15000   60 months   \n80           80      80      35000        35000            35000   60 months   \n135         135     135      17500        17500            17500   36 months   \n146         146     146      13750        13750            13750   36 months   \n\n     int_rate  installment  grade  emp_length             ...              \\\n7       12.40       224.48      6         NaN             ...               \n51      17.97       380.66      4         9.0             ...               \n80      13.08       797.80      6         1.0             ...               \n135     17.19       625.58      5         5.0             ...               \n146     28.80       574.71      4         NaN             ...               \n\n     num_op_rev_tl  num_rev_accts num_rev_tl_bal_gt_0 num_sats  \\\n7                4              7                   2        7   \n51               7              7                   5        8   \n80              10             11                   6       14   \n135              6              6                   5       12   \n146              6              7                   6        6   \n\n    num_tl_op_past_12m pct_tl_nvr_dlq tot_hi_cred_lim  total_bal_ex_mort  \\\n7                    0          100.0          176439              37523   \n51                   4          100.0           37222              23300   \n80                   2          100.0          399376             131350   \n135                  0           92.6          131463             141781   \n146                  2           87.5           19200              16814   \n\n    total_bc_limit  total_il_high_credit_limit  \n7            17000                       57439  \n51           16400                       14822  \n80           32700                      130876  \n135          17400                      113163  \n146          15400                           0  \n\n[5 rows x 71 columns]"
          },
          "metadata": {}
        }
      ]
    },
    {
      "metadata": {
        "trusted": true
      },
      "cell_type": "code",
      "source": "# drop numerical columns if 20% of it or more are zeros\ndf = df.loc[:, (df==0).mean() < .25]\n\n# drop columns if almost 25% of it or more are null values\ndf = df.dropna(thresh = 3757, axis=1)# 25% of the data \n\n# drop columns with a redundant value \nnunique = df.apply(pd.Series.nunique)\ncols_to_drop = nunique[nunique == 1].index\ndf = df.drop(cols_to_drop, axis=1)\n\n#Replace empty/null values with a space\nReplace =df.fillna(\" \")\nReplace.isnull().sum()",
      "execution_count": 13,
      "outputs": [
        {
          "output_type": "execute_result",
          "execution_count": 13,
          "data": {
            "text/plain": "Unnamed: 0                    0\nColumn                        0\nloan_amnt                     0\nfunded_amnt                   0\nfunded_amnt_inv               0\nterm                          0\nint_rate                      0\ninstallment                   0\ngrade                         0\nemp_length                    0\nhome_ownership                0\nannual_inc                    0\nverification_status           0\nissue_d                       0\nloan_status                   0\npurpose                       0\naddr_state                    0\ndti                           0\nearliest_cr_line              0\nopen_acc                      0\nrevol_bal                     0\nrevol_util                    0\ntotal_acc                     0\ninitial_list_status           0\ntotal_pymnt                   0\ntotal_pymnt_inv               0\ntotal_rec_prncp               0\ntotal_rec_int                 0\nlast_pymnt_d                  0\nlast_pymnt_amnt               0\n                             ..\nil_util                       0\nopen_rv_24m                   0\nmax_bal_bc                    0\nall_util                      0\ntotal_rev_hi_lim              0\nacc_open_past_24mths          0\navg_cur_bal                   0\nbc_open_to_buy                0\nbc_util                       0\nmo_sin_old_il_acct            0\nmo_sin_old_rev_tl_op          0\nmo_sin_rcnt_rev_tl_op         0\nmo_sin_rcnt_tl                0\nmths_since_recent_bc          0\nmths_since_recent_inq         0\nnum_actv_bc_tl                0\nnum_actv_rev_tl               0\nnum_bc_sats                   0\nnum_bc_tl                     0\nnum_il_tl                     0\nnum_op_rev_tl                 0\nnum_rev_accts                 0\nnum_rev_tl_bal_gt_0           0\nnum_sats                      0\nnum_tl_op_past_12m            0\npct_tl_nvr_dlq                0\ntot_hi_cred_lim               0\ntotal_bal_ex_mort             0\ntotal_bc_limit                0\ntotal_il_high_credit_limit    0\ndtype: int64"
          },
          "metadata": {}
        }
      ]
    },
    {
      "metadata": {
        "trusted": true
      },
      "cell_type": "code",
      "source": "#final_dataa.to_csv('finalData.csv')",
      "execution_count": null,
      "outputs": []
    },
    {
      "metadata": {
        "trusted": true
      },
      "cell_type": "code",
      "source": "df.head()",
      "execution_count": 14,
      "outputs": [
        {
          "output_type": "execute_result",
          "execution_count": 14,
          "data": {
            "text/html": "<div>\n<table border=\"1\" class=\"dataframe\">\n  <thead>\n    <tr style=\"text-align: right;\">\n      <th></th>\n      <th>Unnamed: 0</th>\n      <th>Column</th>\n      <th>loan_amnt</th>\n      <th>funded_amnt</th>\n      <th>funded_amnt_inv</th>\n      <th>term</th>\n      <th>int_rate</th>\n      <th>installment</th>\n      <th>grade</th>\n      <th>emp_length</th>\n      <th>...</th>\n      <th>num_op_rev_tl</th>\n      <th>num_rev_accts</th>\n      <th>num_rev_tl_bal_gt_0</th>\n      <th>num_sats</th>\n      <th>num_tl_op_past_12m</th>\n      <th>pct_tl_nvr_dlq</th>\n      <th>tot_hi_cred_lim</th>\n      <th>total_bal_ex_mort</th>\n      <th>total_bc_limit</th>\n      <th>total_il_high_credit_limit</th>\n    </tr>\n  </thead>\n  <tbody>\n    <tr>\n      <th>7</th>\n      <td>7</td>\n      <td>7</td>\n      <td>10000</td>\n      <td>10000</td>\n      <td>10000</td>\n      <td>60 months</td>\n      <td>12.40</td>\n      <td>224.48</td>\n      <td>6</td>\n      <td>NaN</td>\n      <td>...</td>\n      <td>4</td>\n      <td>7</td>\n      <td>2</td>\n      <td>7</td>\n      <td>0</td>\n      <td>100.0</td>\n      <td>176439</td>\n      <td>37523</td>\n      <td>17000</td>\n      <td>57439</td>\n    </tr>\n    <tr>\n      <th>51</th>\n      <td>51</td>\n      <td>51</td>\n      <td>15000</td>\n      <td>15000</td>\n      <td>15000</td>\n      <td>60 months</td>\n      <td>17.97</td>\n      <td>380.66</td>\n      <td>4</td>\n      <td>9.0</td>\n      <td>...</td>\n      <td>7</td>\n      <td>7</td>\n      <td>5</td>\n      <td>8</td>\n      <td>4</td>\n      <td>100.0</td>\n      <td>37222</td>\n      <td>23300</td>\n      <td>16400</td>\n      <td>14822</td>\n    </tr>\n    <tr>\n      <th>80</th>\n      <td>80</td>\n      <td>80</td>\n      <td>35000</td>\n      <td>35000</td>\n      <td>35000</td>\n      <td>60 months</td>\n      <td>13.08</td>\n      <td>797.80</td>\n      <td>6</td>\n      <td>1.0</td>\n      <td>...</td>\n      <td>10</td>\n      <td>11</td>\n      <td>6</td>\n      <td>14</td>\n      <td>2</td>\n      <td>100.0</td>\n      <td>399376</td>\n      <td>131350</td>\n      <td>32700</td>\n      <td>130876</td>\n    </tr>\n    <tr>\n      <th>135</th>\n      <td>135</td>\n      <td>135</td>\n      <td>17500</td>\n      <td>17500</td>\n      <td>17500</td>\n      <td>36 months</td>\n      <td>17.19</td>\n      <td>625.58</td>\n      <td>5</td>\n      <td>5.0</td>\n      <td>...</td>\n      <td>6</td>\n      <td>6</td>\n      <td>5</td>\n      <td>12</td>\n      <td>0</td>\n      <td>92.6</td>\n      <td>131463</td>\n      <td>141781</td>\n      <td>17400</td>\n      <td>113163</td>\n    </tr>\n    <tr>\n      <th>146</th>\n      <td>146</td>\n      <td>146</td>\n      <td>13750</td>\n      <td>13750</td>\n      <td>13750</td>\n      <td>36 months</td>\n      <td>28.80</td>\n      <td>574.71</td>\n      <td>4</td>\n      <td>NaN</td>\n      <td>...</td>\n      <td>6</td>\n      <td>7</td>\n      <td>6</td>\n      <td>6</td>\n      <td>2</td>\n      <td>87.5</td>\n      <td>19200</td>\n      <td>16814</td>\n      <td>15400</td>\n      <td>0</td>\n    </tr>\n  </tbody>\n</table>\n<p>5 rows × 66 columns</p>\n</div>",
            "text/plain": "     Unnamed: 0  Column  loan_amnt  funded_amnt  funded_amnt_inv        term  \\\n7             7       7      10000        10000            10000   60 months   \n51           51      51      15000        15000            15000   60 months   \n80           80      80      35000        35000            35000   60 months   \n135         135     135      17500        17500            17500   36 months   \n146         146     146      13750        13750            13750   36 months   \n\n     int_rate  installment  grade  emp_length             ...              \\\n7       12.40       224.48      6         NaN             ...               \n51      17.97       380.66      4         9.0             ...               \n80      13.08       797.80      6         1.0             ...               \n135     17.19       625.58      5         5.0             ...               \n146     28.80       574.71      4         NaN             ...               \n\n     num_op_rev_tl  num_rev_accts num_rev_tl_bal_gt_0 num_sats  \\\n7                4              7                   2        7   \n51               7              7                   5        8   \n80              10             11                   6       14   \n135              6              6                   5       12   \n146              6              7                   6        6   \n\n    num_tl_op_past_12m pct_tl_nvr_dlq tot_hi_cred_lim  total_bal_ex_mort  \\\n7                    0          100.0          176439              37523   \n51                   4          100.0           37222              23300   \n80                   2          100.0          399376             131350   \n135                  0           92.6          131463             141781   \n146                  2           87.5           19200              16814   \n\n    total_bc_limit  total_il_high_credit_limit  \n7            17000                       57439  \n51           16400                       14822  \n80           32700                      130876  \n135          17400                      113163  \n146          15400                           0  \n\n[5 rows x 66 columns]"
          },
          "metadata": {}
        }
      ]
    },
    {
      "metadata": {
        "trusted": true
      },
      "cell_type": "code",
      "source": "df.to_csv('cleanSplit.csv')",
      "execution_count": 15,
      "outputs": []
    },
    {
      "metadata": {
        "trusted": true
      },
      "cell_type": "code",
      "source": "df1 = pd.read_csv('cleanSplit.csv')\ndf1.head()",
      "execution_count": 16,
      "outputs": [
        {
          "output_type": "execute_result",
          "execution_count": 16,
          "data": {
            "text/html": "<div>\n<table border=\"1\" class=\"dataframe\">\n  <thead>\n    <tr style=\"text-align: right;\">\n      <th></th>\n      <th>Unnamed: 0</th>\n      <th>Unnamed: 0.1</th>\n      <th>Column</th>\n      <th>loan_amnt</th>\n      <th>funded_amnt</th>\n      <th>funded_amnt_inv</th>\n      <th>term</th>\n      <th>int_rate</th>\n      <th>installment</th>\n      <th>grade</th>\n      <th>...</th>\n      <th>num_op_rev_tl</th>\n      <th>num_rev_accts</th>\n      <th>num_rev_tl_bal_gt_0</th>\n      <th>num_sats</th>\n      <th>num_tl_op_past_12m</th>\n      <th>pct_tl_nvr_dlq</th>\n      <th>tot_hi_cred_lim</th>\n      <th>total_bal_ex_mort</th>\n      <th>total_bc_limit</th>\n      <th>total_il_high_credit_limit</th>\n    </tr>\n  </thead>\n  <tbody>\n    <tr>\n      <th>0</th>\n      <td>7</td>\n      <td>7</td>\n      <td>7</td>\n      <td>10000</td>\n      <td>10000</td>\n      <td>10000</td>\n      <td>60 months</td>\n      <td>12.40</td>\n      <td>224.48</td>\n      <td>6</td>\n      <td>...</td>\n      <td>4</td>\n      <td>7</td>\n      <td>2</td>\n      <td>7</td>\n      <td>0</td>\n      <td>100.0</td>\n      <td>176439</td>\n      <td>37523</td>\n      <td>17000</td>\n      <td>57439</td>\n    </tr>\n    <tr>\n      <th>1</th>\n      <td>51</td>\n      <td>51</td>\n      <td>51</td>\n      <td>15000</td>\n      <td>15000</td>\n      <td>15000</td>\n      <td>60 months</td>\n      <td>17.97</td>\n      <td>380.66</td>\n      <td>4</td>\n      <td>...</td>\n      <td>7</td>\n      <td>7</td>\n      <td>5</td>\n      <td>8</td>\n      <td>4</td>\n      <td>100.0</td>\n      <td>37222</td>\n      <td>23300</td>\n      <td>16400</td>\n      <td>14822</td>\n    </tr>\n    <tr>\n      <th>2</th>\n      <td>80</td>\n      <td>80</td>\n      <td>80</td>\n      <td>35000</td>\n      <td>35000</td>\n      <td>35000</td>\n      <td>60 months</td>\n      <td>13.08</td>\n      <td>797.80</td>\n      <td>6</td>\n      <td>...</td>\n      <td>10</td>\n      <td>11</td>\n      <td>6</td>\n      <td>14</td>\n      <td>2</td>\n      <td>100.0</td>\n      <td>399376</td>\n      <td>131350</td>\n      <td>32700</td>\n      <td>130876</td>\n    </tr>\n    <tr>\n      <th>3</th>\n      <td>135</td>\n      <td>135</td>\n      <td>135</td>\n      <td>17500</td>\n      <td>17500</td>\n      <td>17500</td>\n      <td>36 months</td>\n      <td>17.19</td>\n      <td>625.58</td>\n      <td>5</td>\n      <td>...</td>\n      <td>6</td>\n      <td>6</td>\n      <td>5</td>\n      <td>12</td>\n      <td>0</td>\n      <td>92.6</td>\n      <td>131463</td>\n      <td>141781</td>\n      <td>17400</td>\n      <td>113163</td>\n    </tr>\n    <tr>\n      <th>4</th>\n      <td>146</td>\n      <td>146</td>\n      <td>146</td>\n      <td>13750</td>\n      <td>13750</td>\n      <td>13750</td>\n      <td>36 months</td>\n      <td>28.80</td>\n      <td>574.71</td>\n      <td>4</td>\n      <td>...</td>\n      <td>6</td>\n      <td>7</td>\n      <td>6</td>\n      <td>6</td>\n      <td>2</td>\n      <td>87.5</td>\n      <td>19200</td>\n      <td>16814</td>\n      <td>15400</td>\n      <td>0</td>\n    </tr>\n  </tbody>\n</table>\n<p>5 rows × 67 columns</p>\n</div>",
            "text/plain": "   Unnamed: 0  Unnamed: 0.1  Column  loan_amnt  funded_amnt  funded_amnt_inv  \\\n0           7             7       7      10000        10000            10000   \n1          51            51      51      15000        15000            15000   \n2          80            80      80      35000        35000            35000   \n3         135           135     135      17500        17500            17500   \n4         146           146     146      13750        13750            13750   \n\n         term  int_rate  installment  grade            ...              \\\n0   60 months     12.40       224.48      6            ...               \n1   60 months     17.97       380.66      4            ...               \n2   60 months     13.08       797.80      6            ...               \n3   36 months     17.19       625.58      5            ...               \n4   36 months     28.80       574.71      4            ...               \n\n   num_op_rev_tl  num_rev_accts  num_rev_tl_bal_gt_0 num_sats  \\\n0              4              7                    2        7   \n1              7              7                    5        8   \n2             10             11                    6       14   \n3              6              6                    5       12   \n4              6              7                    6        6   \n\n  num_tl_op_past_12m pct_tl_nvr_dlq tot_hi_cred_lim total_bal_ex_mort  \\\n0                  0          100.0          176439             37523   \n1                  4          100.0           37222             23300   \n2                  2          100.0          399376            131350   \n3                  0           92.6          131463            141781   \n4                  2           87.5           19200             16814   \n\n   total_bc_limit total_il_high_credit_limit  \n0           17000                      57439  \n1           16400                      14822  \n2           32700                     130876  \n3           17400                     113163  \n4           15400                          0  \n\n[5 rows x 67 columns]"
          },
          "metadata": {}
        }
      ]
    },
    {
      "metadata": {
        "trusted": true
      },
      "cell_type": "code",
      "source": "# drop columns\ndf1.drop(['Unnamed: 0', 'Unnamed: 0.1','Column', 'term','open_acc','total_pymnt','total_pymnt_inv',\n         'home_ownership','verification_status','issue_d','total_rec_prncp','last_pymnt_d',\n         'last_credit_pull_d','application_type','tot_cur_bal','open_act_il','mths_since_rcnt_il',\n         'total_bal_il','il_util','mo_sin_old_il_acct','mo_sin_old_rev_tl_op','mo_sin_rcnt_rev_tl_op','mo_sin_rcnt_tl','mths_since_recent_bc',\n         'mths_since_recent_inq','num_actv_bc_tl','num_bc_sats','num_bc_tl','num_il_tl','num_op_rev_tl',\n         'num_rev_accts','num_rev_tl_bal_gt_0','num_sats','num_tl_op_past_12m','pct_tl_nvr_dlq','tot_hi_cred_lim','total_bal_ex_mort','total_bc_limit',\n         'total_il_high_credit_limit','dti','revol_bal','total_acc','initial_list_status','open_rv_24m','max_bal_bc',\n        'all_util','total_rev_hi_lim','acc_open_past_24mths','bc_open_to_buy','bc_util'], axis=1, inplace=True)",
      "execution_count": 21,
      "outputs": []
    },
    {
      "metadata": {
        "trusted": true
      },
      "cell_type": "code",
      "source": "df1.head()",
      "execution_count": 22,
      "outputs": [
        {
          "output_type": "execute_result",
          "execution_count": 22,
          "data": {
            "text/html": "<div>\n<table border=\"1\" class=\"dataframe\">\n  <thead>\n    <tr style=\"text-align: right;\">\n      <th></th>\n      <th>loan_amnt</th>\n      <th>funded_amnt</th>\n      <th>funded_amnt_inv</th>\n      <th>int_rate</th>\n      <th>installment</th>\n      <th>grade</th>\n      <th>emp_length</th>\n      <th>annual_inc</th>\n      <th>loan_status</th>\n      <th>purpose</th>\n      <th>addr_state</th>\n      <th>earliest_cr_line</th>\n      <th>revol_util</th>\n      <th>total_rec_int</th>\n      <th>last_pymnt_amnt</th>\n      <th>avg_cur_bal</th>\n      <th>num_actv_rev_tl</th>\n    </tr>\n  </thead>\n  <tbody>\n    <tr>\n      <th>0</th>\n      <td>10000</td>\n      <td>10000</td>\n      <td>10000</td>\n      <td>12.40</td>\n      <td>224.48</td>\n      <td>6</td>\n      <td>NaN</td>\n      <td>38000.0</td>\n      <td>Fully Paid</td>\n      <td>credit_card</td>\n      <td>GA</td>\n      <td>Feb-97</td>\n      <td>49%</td>\n      <td>149.96</td>\n      <td>10163.74</td>\n      <td>19266.0</td>\n      <td>2</td>\n    </tr>\n    <tr>\n      <th>1</th>\n      <td>15000</td>\n      <td>15000</td>\n      <td>15000</td>\n      <td>17.97</td>\n      <td>380.66</td>\n      <td>4</td>\n      <td>9.0</td>\n      <td>45000.0</td>\n      <td>Fully Paid</td>\n      <td>debt_consolidation</td>\n      <td>FL</td>\n      <td>Mar-07</td>\n      <td>48%</td>\n      <td>127.29</td>\n      <td>15157.24</td>\n      <td>3329.0</td>\n      <td>5</td>\n    </tr>\n    <tr>\n      <th>2</th>\n      <td>35000</td>\n      <td>35000</td>\n      <td>35000</td>\n      <td>13.08</td>\n      <td>797.80</td>\n      <td>6</td>\n      <td>1.0</td>\n      <td>125890.0</td>\n      <td>Fully Paid</td>\n      <td>debt_consolidation</td>\n      <td>VA</td>\n      <td>Jul-05</td>\n      <td>66.70%</td>\n      <td>16.53</td>\n      <td>35067.40</td>\n      <td>28648.0</td>\n      <td>6</td>\n    </tr>\n    <tr>\n      <th>3</th>\n      <td>17500</td>\n      <td>17500</td>\n      <td>17500</td>\n      <td>17.19</td>\n      <td>625.58</td>\n      <td>5</td>\n      <td>5.0</td>\n      <td>82000.0</td>\n      <td>Fully Paid</td>\n      <td>debt_consolidation</td>\n      <td>MO</td>\n      <td>Jun-06</td>\n      <td>83.60%</td>\n      <td>421.70</td>\n      <td>17955.12</td>\n      <td>11815.0</td>\n      <td>5</td>\n    </tr>\n    <tr>\n      <th>4</th>\n      <td>13750</td>\n      <td>13750</td>\n      <td>13750</td>\n      <td>28.80</td>\n      <td>574.71</td>\n      <td>4</td>\n      <td>NaN</td>\n      <td>17808.0</td>\n      <td>Fully Paid</td>\n      <td>credit_card</td>\n      <td>OH</td>\n      <td>Apr-90</td>\n      <td>87.60%</td>\n      <td>67.98</td>\n      <td>13861.98</td>\n      <td>2802.0</td>\n      <td>6</td>\n    </tr>\n  </tbody>\n</table>\n</div>",
            "text/plain": "   loan_amnt  funded_amnt  funded_amnt_inv  int_rate  installment  grade  \\\n0      10000        10000            10000     12.40       224.48      6   \n1      15000        15000            15000     17.97       380.66      4   \n2      35000        35000            35000     13.08       797.80      6   \n3      17500        17500            17500     17.19       625.58      5   \n4      13750        13750            13750     28.80       574.71      4   \n\n   emp_length  annual_inc loan_status             purpose addr_state  \\\n0         NaN     38000.0  Fully Paid         credit_card         GA   \n1         9.0     45000.0  Fully Paid  debt_consolidation         FL   \n2         1.0    125890.0  Fully Paid  debt_consolidation         VA   \n3         5.0     82000.0  Fully Paid  debt_consolidation         MO   \n4         NaN     17808.0  Fully Paid         credit_card         OH   \n\n  earliest_cr_line revol_util  total_rec_int  last_pymnt_amnt  avg_cur_bal  \\\n0           Feb-97        49%         149.96         10163.74      19266.0   \n1           Mar-07        48%         127.29         15157.24       3329.0   \n2           Jul-05     66.70%          16.53         35067.40      28648.0   \n3           Jun-06     83.60%         421.70         17955.12      11815.0   \n4           Apr-90     87.60%          67.98         13861.98       2802.0   \n\n   num_actv_rev_tl  \n0                2  \n1                5  \n2                6  \n3                5  \n4                6  "
          },
          "metadata": {}
        }
      ]
    },
    {
      "metadata": {
        "trusted": true
      },
      "cell_type": "code",
      "source": "df1.drop(['revol_util','total_rec_int','earliest_cr_line','funded_amnt_inv'], axis=1, inplace=True)",
      "execution_count": 25,
      "outputs": []
    },
    {
      "metadata": {
        "trusted": true
      },
      "cell_type": "code",
      "source": "df1.head()",
      "execution_count": 26,
      "outputs": [
        {
          "output_type": "execute_result",
          "execution_count": 26,
          "data": {
            "text/html": "<div>\n<table border=\"1\" class=\"dataframe\">\n  <thead>\n    <tr style=\"text-align: right;\">\n      <th></th>\n      <th>loan_amnt</th>\n      <th>funded_amnt</th>\n      <th>int_rate</th>\n      <th>installment</th>\n      <th>grade</th>\n      <th>emp_length</th>\n      <th>annual_inc</th>\n      <th>loan_status</th>\n      <th>purpose</th>\n      <th>addr_state</th>\n      <th>last_pymnt_amnt</th>\n      <th>avg_cur_bal</th>\n      <th>num_actv_rev_tl</th>\n    </tr>\n  </thead>\n  <tbody>\n    <tr>\n      <th>0</th>\n      <td>10000</td>\n      <td>10000</td>\n      <td>12.40</td>\n      <td>224.48</td>\n      <td>6</td>\n      <td>NaN</td>\n      <td>38000.0</td>\n      <td>Fully Paid</td>\n      <td>credit_card</td>\n      <td>GA</td>\n      <td>10163.74</td>\n      <td>19266.0</td>\n      <td>2</td>\n    </tr>\n    <tr>\n      <th>1</th>\n      <td>15000</td>\n      <td>15000</td>\n      <td>17.97</td>\n      <td>380.66</td>\n      <td>4</td>\n      <td>9.0</td>\n      <td>45000.0</td>\n      <td>Fully Paid</td>\n      <td>debt_consolidation</td>\n      <td>FL</td>\n      <td>15157.24</td>\n      <td>3329.0</td>\n      <td>5</td>\n    </tr>\n    <tr>\n      <th>2</th>\n      <td>35000</td>\n      <td>35000</td>\n      <td>13.08</td>\n      <td>797.80</td>\n      <td>6</td>\n      <td>1.0</td>\n      <td>125890.0</td>\n      <td>Fully Paid</td>\n      <td>debt_consolidation</td>\n      <td>VA</td>\n      <td>35067.40</td>\n      <td>28648.0</td>\n      <td>6</td>\n    </tr>\n    <tr>\n      <th>3</th>\n      <td>17500</td>\n      <td>17500</td>\n      <td>17.19</td>\n      <td>625.58</td>\n      <td>5</td>\n      <td>5.0</td>\n      <td>82000.0</td>\n      <td>Fully Paid</td>\n      <td>debt_consolidation</td>\n      <td>MO</td>\n      <td>17955.12</td>\n      <td>11815.0</td>\n      <td>5</td>\n    </tr>\n    <tr>\n      <th>4</th>\n      <td>13750</td>\n      <td>13750</td>\n      <td>28.80</td>\n      <td>574.71</td>\n      <td>4</td>\n      <td>NaN</td>\n      <td>17808.0</td>\n      <td>Fully Paid</td>\n      <td>credit_card</td>\n      <td>OH</td>\n      <td>13861.98</td>\n      <td>2802.0</td>\n      <td>6</td>\n    </tr>\n  </tbody>\n</table>\n</div>",
            "text/plain": "   loan_amnt  funded_amnt  int_rate  installment  grade  emp_length  \\\n0      10000        10000     12.40       224.48      6         NaN   \n1      15000        15000     17.97       380.66      4         9.0   \n2      35000        35000     13.08       797.80      6         1.0   \n3      17500        17500     17.19       625.58      5         5.0   \n4      13750        13750     28.80       574.71      4         NaN   \n\n   annual_inc loan_status             purpose addr_state  last_pymnt_amnt  \\\n0     38000.0  Fully Paid         credit_card         GA         10163.74   \n1     45000.0  Fully Paid  debt_consolidation         FL         15157.24   \n2    125890.0  Fully Paid  debt_consolidation         VA         35067.40   \n3     82000.0  Fully Paid  debt_consolidation         MO         17955.12   \n4     17808.0  Fully Paid         credit_card         OH         13861.98   \n\n   avg_cur_bal  num_actv_rev_tl  \n0      19266.0                2  \n1       3329.0                5  \n2      28648.0                6  \n3      11815.0                5  \n4       2802.0                6  "
          },
          "metadata": {}
        }
      ]
    },
    {
      "metadata": {
        "trusted": true
      },
      "cell_type": "code",
      "source": "df1.to_csv('FullDataafterSplit&withclean.csv')",
      "execution_count": 28,
      "outputs": []
    },
    {
      "metadata": {
        "trusted": true
      },
      "cell_type": "code",
      "source": "",
      "execution_count": null,
      "outputs": []
    }
  ],
  "metadata": {
    "kernelspec": {
      "name": "python3",
      "display_name": "Python 3",
      "language": "python"
    },
    "language_info": {
      "mimetype": "text/x-python",
      "nbconvert_exporter": "python",
      "name": "python",
      "file_extension": ".py",
      "version": "3.5.4",
      "pygments_lexer": "ipython3",
      "codemirror_mode": {
        "version": 3,
        "name": "ipython"
      }
    }
  },
  "nbformat": 4,
  "nbformat_minor": 2
}