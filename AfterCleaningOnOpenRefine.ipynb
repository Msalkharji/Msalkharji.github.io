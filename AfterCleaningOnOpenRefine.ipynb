{
  "cells": [
    {
      "metadata": {
        "trusted": true
      },
      "cell_type": "markdown",
      "source": "Import Libraries:"
    },
    {
      "metadata": {
        "trusted": true
      },
      "cell_type": "code",
      "source": "import pandas as pd\nimport numpy as np",
      "execution_count": 41,
      "outputs": []
    },
    {
      "metadata": {},
      "cell_type": "markdown",
      "source": "Get the Data\nUse pandas to read FullNewDatasett.csv as a dataframe called df."
    },
    {
      "metadata": {
        "trusted": true
      },
      "cell_type": "code",
      "source": "df = pd.read_csv('FullNewDatasett-csv.csv')\ndf.head()",
      "execution_count": 42,
      "outputs": [
        {
          "output_type": "execute_result",
          "execution_count": 42,
          "data": {
            "text/html": "<div>\n<table border=\"1\" class=\"dataframe\">\n  <thead>\n    <tr style=\"text-align: right;\">\n      <th></th>\n      <th>Column</th>\n      <th>loan_amnt</th>\n      <th>funded_amnt</th>\n      <th>funded_amnt_inv</th>\n      <th>term</th>\n      <th>int_rate</th>\n      <th>installment</th>\n      <th>grade</th>\n      <th>emp_length</th>\n      <th>home_ownership</th>\n      <th>...</th>\n      <th>num_op_rev_tl</th>\n      <th>num_rev_accts</th>\n      <th>num_rev_tl_bal_gt_0</th>\n      <th>num_sats</th>\n      <th>num_tl_op_past_12m</th>\n      <th>pct_tl_nvr_dlq</th>\n      <th>tot_hi_cred_lim</th>\n      <th>total_bal_ex_mort</th>\n      <th>total_bc_limit</th>\n      <th>total_il_high_credit_limit</th>\n    </tr>\n  </thead>\n  <tbody>\n    <tr>\n      <th>0</th>\n      <td>0</td>\n      <td>20000</td>\n      <td>20000</td>\n      <td>20000</td>\n      <td>60 months</td>\n      <td>17.19%</td>\n      <td>499.10</td>\n      <td>C</td>\n      <td>6 years</td>\n      <td>RENT</td>\n      <td>...</td>\n      <td>13</td>\n      <td>33</td>\n      <td>4</td>\n      <td>15</td>\n      <td>5</td>\n      <td>98.0</td>\n      <td>75824</td>\n      <td>31546</td>\n      <td>33800</td>\n      <td>21524</td>\n    </tr>\n    <tr>\n      <th>1</th>\n      <td>1</td>\n      <td>21225</td>\n      <td>21225</td>\n      <td>21225</td>\n      <td>60 months</td>\n      <td>14.74%</td>\n      <td>502.05</td>\n      <td>C</td>\n      <td>10+ years</td>\n      <td>MORTGAGE</td>\n      <td>...</td>\n      <td>7</td>\n      <td>7</td>\n      <td>6</td>\n      <td>14</td>\n      <td>2</td>\n      <td>100.0</td>\n      <td>747075</td>\n      <td>209426</td>\n      <td>53500</td>\n      <td>128175</td>\n    </tr>\n    <tr>\n      <th>2</th>\n      <td>2</td>\n      <td>5000</td>\n      <td>5000</td>\n      <td>5000</td>\n      <td>36 months</td>\n      <td>17.97%</td>\n      <td>180.69</td>\n      <td>D</td>\n      <td>NaN</td>\n      <td>MORTGAGE</td>\n      <td>...</td>\n      <td>6</td>\n      <td>9</td>\n      <td>6</td>\n      <td>8</td>\n      <td>1</td>\n      <td>66.7</td>\n      <td>255738</td>\n      <td>31615</td>\n      <td>9400</td>\n      <td>39938</td>\n    </tr>\n    <tr>\n      <th>3</th>\n      <td>3</td>\n      <td>20000</td>\n      <td>20000</td>\n      <td>20000</td>\n      <td>36 months</td>\n      <td>8.19%</td>\n      <td>628.49</td>\n      <td>A</td>\n      <td>1 year</td>\n      <td>MORTGAGE</td>\n      <td>...</td>\n      <td>14</td>\n      <td>27</td>\n      <td>9</td>\n      <td>20</td>\n      <td>3</td>\n      <td>95.7</td>\n      <td>448069</td>\n      <td>84744</td>\n      <td>49400</td>\n      <td>105180</td>\n    </tr>\n    <tr>\n      <th>4</th>\n      <td>4</td>\n      <td>13500</td>\n      <td>13500</td>\n      <td>13500</td>\n      <td>36 months</td>\n      <td>7.56%</td>\n      <td>420.31</td>\n      <td>A</td>\n      <td>8 years</td>\n      <td>RENT</td>\n      <td>...</td>\n      <td>9</td>\n      <td>11</td>\n      <td>6</td>\n      <td>9</td>\n      <td>1</td>\n      <td>100.0</td>\n      <td>40200</td>\n      <td>9932</td>\n      <td>25100</td>\n      <td>0</td>\n    </tr>\n  </tbody>\n</table>\n<p>5 rows × 70 columns</p>\n</div>",
            "text/plain": "   Column  loan_amnt  funded_amnt  funded_amnt_inv        term int_rate  \\\n0       0      20000        20000            20000   60 months   17.19%   \n1       1      21225        21225            21225   60 months   14.74%   \n2       2       5000         5000             5000   36 months   17.97%   \n3       3      20000        20000            20000   36 months    8.19%   \n4       4      13500        13500            13500   36 months    7.56%   \n\n   installment grade emp_length home_ownership             ...              \\\n0       499.10     C    6 years           RENT             ...               \n1       502.05     C  10+ years       MORTGAGE             ...               \n2       180.69     D        NaN       MORTGAGE             ...               \n3       628.49     A     1 year       MORTGAGE             ...               \n4       420.31     A    8 years           RENT             ...               \n\n   num_op_rev_tl num_rev_accts num_rev_tl_bal_gt_0 num_sats  \\\n0             13            33                   4       15   \n1              7             7                   6       14   \n2              6             9                   6        8   \n3             14            27                   9       20   \n4              9            11                   6        9   \n\n  num_tl_op_past_12m pct_tl_nvr_dlq  tot_hi_cred_lim total_bal_ex_mort  \\\n0                  5           98.0            75824             31546   \n1                  2          100.0           747075            209426   \n2                  1           66.7           255738             31615   \n3                  3           95.7           448069             84744   \n4                  1          100.0            40200              9932   \n\n   total_bc_limit  total_il_high_credit_limit  \n0           33800                       21524  \n1           53500                      128175  \n2            9400                       39938  \n3           49400                      105180  \n4           25100                           0  \n\n[5 rows x 70 columns]"
          },
          "metadata": {}
        }
      ]
    },
    {
      "metadata": {
        "trusted": true
      },
      "cell_type": "code",
      "source": "df.shape",
      "execution_count": 43,
      "outputs": [
        {
          "output_type": "execute_result",
          "execution_count": 43,
          "data": {
            "text/plain": "(115675, 70)"
          },
          "metadata": {}
        }
      ]
    },
    {
      "metadata": {},
      "cell_type": "markdown",
      "source": "Check out the info(), head(), and describe() methods on loans."
    },
    {
      "metadata": {
        "trusted": true
      },
      "cell_type": "code",
      "source": "df.info()",
      "execution_count": 44,
      "outputs": [
        {
          "output_type": "stream",
          "text": "<class 'pandas.core.frame.DataFrame'>\nRangeIndex: 115675 entries, 0 to 115674\nData columns (total 70 columns):\nColumn                            115675 non-null int64\nloan_amnt                         115675 non-null int64\nfunded_amnt                       115675 non-null int64\nfunded_amnt_inv                   115675 non-null int64\nterm                              115675 non-null object\nint_rate                          115675 non-null object\ninstallment                       115675 non-null float64\ngrade                             115675 non-null object\nemp_length                        104574 non-null object\nhome_ownership                    115675 non-null object\nannual_inc                        115675 non-null float64\nverification_status               115675 non-null object\nissue_d                           115675 non-null object\nloan_status                       115675 non-null object\npurpose                           115675 non-null object\naddr_state                        115675 non-null object\ndti                               115418 non-null float64\nearliest_cr_line                  115675 non-null object\nmths_since_last_delinq            49876 non-null float64\nopen_acc                          115675 non-null int64\nrevol_bal                         115675 non-null int64\nrevol_util                        115546 non-null object\ntotal_acc                         115675 non-null int64\ninitial_list_status               115675 non-null object\nout_prncp                         115675 non-null float64\nout_prncp_inv                     115675 non-null float64\ntotal_pymnt                       115675 non-null float64\ntotal_pymnt_inv                   115675 non-null float64\ntotal_rec_prncp                   115675 non-null float64\ntotal_rec_int                     115675 non-null float64\nlast_pymnt_d                      115440 non-null object\nlast_pymnt_amnt                   115675 non-null float64\nnext_pymnt_d                      111969 non-null object\nlast_credit_pull_d                115673 non-null object\napplication_type                  115675 non-null object\ntot_cur_bal                       115675 non-null int64\nopen_act_il                       115675 non-null int64\nmths_since_rcnt_il                112158 non-null float64\ntotal_bal_il                      115675 non-null int64\nil_util                           98356 non-null float64\nopen_rv_24m                       115675 non-null int64\nmax_bal_bc                        115675 non-null int64\nall_util                          115651 non-null float64\ntotal_rev_hi_lim                  115675 non-null int64\nacc_open_past_24mths              115675 non-null int64\navg_cur_bal                       115668 non-null float64\nbc_open_to_buy                    114352 non-null float64\nbc_util                           114297 non-null float64\nmo_sin_old_il_acct                112158 non-null float64\nmo_sin_old_rev_tl_op              115675 non-null int64\nmo_sin_rcnt_rev_tl_op             115675 non-null int64\nmo_sin_rcnt_tl                    115675 non-null int64\nmths_since_recent_bc              114417 non-null float64\nmths_since_recent_inq             101318 non-null float64\nmths_since_recent_revol_delinq    32896 non-null float64\nnum_actv_bc_tl                    115675 non-null int64\nnum_actv_rev_tl                   115675 non-null int64\nnum_bc_sats                       115675 non-null int64\nnum_bc_tl                         115675 non-null int64\nnum_il_tl                         115675 non-null int64\nnum_op_rev_tl                     115675 non-null int64\nnum_rev_accts                     115675 non-null int64\nnum_rev_tl_bal_gt_0               115675 non-null int64\nnum_sats                          115675 non-null int64\nnum_tl_op_past_12m                115675 non-null int64\npct_tl_nvr_dlq                    115675 non-null float64\ntot_hi_cred_lim                   115675 non-null int64\ntotal_bal_ex_mort                 115675 non-null int64\ntotal_bc_limit                    115675 non-null int64\ntotal_il_high_credit_limit        115675 non-null int64\ndtypes: float64(22), int64(31), object(17)\nmemory usage: 61.8+ MB\n",
          "name": "stdout"
        }
      ]
    },
    {
      "metadata": {
        "trusted": true
      },
      "cell_type": "code",
      "source": "df.head()",
      "execution_count": 45,
      "outputs": [
        {
          "output_type": "execute_result",
          "execution_count": 45,
          "data": {
            "text/html": "<div>\n<table border=\"1\" class=\"dataframe\">\n  <thead>\n    <tr style=\"text-align: right;\">\n      <th></th>\n      <th>Column</th>\n      <th>loan_amnt</th>\n      <th>funded_amnt</th>\n      <th>funded_amnt_inv</th>\n      <th>term</th>\n      <th>int_rate</th>\n      <th>installment</th>\n      <th>grade</th>\n      <th>emp_length</th>\n      <th>home_ownership</th>\n      <th>...</th>\n      <th>num_op_rev_tl</th>\n      <th>num_rev_accts</th>\n      <th>num_rev_tl_bal_gt_0</th>\n      <th>num_sats</th>\n      <th>num_tl_op_past_12m</th>\n      <th>pct_tl_nvr_dlq</th>\n      <th>tot_hi_cred_lim</th>\n      <th>total_bal_ex_mort</th>\n      <th>total_bc_limit</th>\n      <th>total_il_high_credit_limit</th>\n    </tr>\n  </thead>\n  <tbody>\n    <tr>\n      <th>0</th>\n      <td>0</td>\n      <td>20000</td>\n      <td>20000</td>\n      <td>20000</td>\n      <td>60 months</td>\n      <td>17.19%</td>\n      <td>499.10</td>\n      <td>C</td>\n      <td>6 years</td>\n      <td>RENT</td>\n      <td>...</td>\n      <td>13</td>\n      <td>33</td>\n      <td>4</td>\n      <td>15</td>\n      <td>5</td>\n      <td>98.0</td>\n      <td>75824</td>\n      <td>31546</td>\n      <td>33800</td>\n      <td>21524</td>\n    </tr>\n    <tr>\n      <th>1</th>\n      <td>1</td>\n      <td>21225</td>\n      <td>21225</td>\n      <td>21225</td>\n      <td>60 months</td>\n      <td>14.74%</td>\n      <td>502.05</td>\n      <td>C</td>\n      <td>10+ years</td>\n      <td>MORTGAGE</td>\n      <td>...</td>\n      <td>7</td>\n      <td>7</td>\n      <td>6</td>\n      <td>14</td>\n      <td>2</td>\n      <td>100.0</td>\n      <td>747075</td>\n      <td>209426</td>\n      <td>53500</td>\n      <td>128175</td>\n    </tr>\n    <tr>\n      <th>2</th>\n      <td>2</td>\n      <td>5000</td>\n      <td>5000</td>\n      <td>5000</td>\n      <td>36 months</td>\n      <td>17.97%</td>\n      <td>180.69</td>\n      <td>D</td>\n      <td>NaN</td>\n      <td>MORTGAGE</td>\n      <td>...</td>\n      <td>6</td>\n      <td>9</td>\n      <td>6</td>\n      <td>8</td>\n      <td>1</td>\n      <td>66.7</td>\n      <td>255738</td>\n      <td>31615</td>\n      <td>9400</td>\n      <td>39938</td>\n    </tr>\n    <tr>\n      <th>3</th>\n      <td>3</td>\n      <td>20000</td>\n      <td>20000</td>\n      <td>20000</td>\n      <td>36 months</td>\n      <td>8.19%</td>\n      <td>628.49</td>\n      <td>A</td>\n      <td>1 year</td>\n      <td>MORTGAGE</td>\n      <td>...</td>\n      <td>14</td>\n      <td>27</td>\n      <td>9</td>\n      <td>20</td>\n      <td>3</td>\n      <td>95.7</td>\n      <td>448069</td>\n      <td>84744</td>\n      <td>49400</td>\n      <td>105180</td>\n    </tr>\n    <tr>\n      <th>4</th>\n      <td>4</td>\n      <td>13500</td>\n      <td>13500</td>\n      <td>13500</td>\n      <td>36 months</td>\n      <td>7.56%</td>\n      <td>420.31</td>\n      <td>A</td>\n      <td>8 years</td>\n      <td>RENT</td>\n      <td>...</td>\n      <td>9</td>\n      <td>11</td>\n      <td>6</td>\n      <td>9</td>\n      <td>1</td>\n      <td>100.0</td>\n      <td>40200</td>\n      <td>9932</td>\n      <td>25100</td>\n      <td>0</td>\n    </tr>\n  </tbody>\n</table>\n<p>5 rows × 70 columns</p>\n</div>",
            "text/plain": "   Column  loan_amnt  funded_amnt  funded_amnt_inv        term int_rate  \\\n0       0      20000        20000            20000   60 months   17.19%   \n1       1      21225        21225            21225   60 months   14.74%   \n2       2       5000         5000             5000   36 months   17.97%   \n3       3      20000        20000            20000   36 months    8.19%   \n4       4      13500        13500            13500   36 months    7.56%   \n\n   installment grade emp_length home_ownership             ...              \\\n0       499.10     C    6 years           RENT             ...               \n1       502.05     C  10+ years       MORTGAGE             ...               \n2       180.69     D        NaN       MORTGAGE             ...               \n3       628.49     A     1 year       MORTGAGE             ...               \n4       420.31     A    8 years           RENT             ...               \n\n   num_op_rev_tl num_rev_accts num_rev_tl_bal_gt_0 num_sats  \\\n0             13            33                   4       15   \n1              7             7                   6       14   \n2              6             9                   6        8   \n3             14            27                   9       20   \n4              9            11                   6        9   \n\n  num_tl_op_past_12m pct_tl_nvr_dlq  tot_hi_cred_lim total_bal_ex_mort  \\\n0                  5           98.0            75824             31546   \n1                  2          100.0           747075            209426   \n2                  1           66.7           255738             31615   \n3                  3           95.7           448069             84744   \n4                  1          100.0            40200              9932   \n\n   total_bc_limit  total_il_high_credit_limit  \n0           33800                       21524  \n1           53500                      128175  \n2            9400                       39938  \n3           49400                      105180  \n4           25100                           0  \n\n[5 rows x 70 columns]"
          },
          "metadata": {}
        }
      ]
    },
    {
      "metadata": {
        "trusted": true
      },
      "cell_type": "code",
      "source": "df.describe()",
      "execution_count": 46,
      "outputs": [
        {
          "output_type": "execute_result",
          "execution_count": 46,
          "data": {
            "text/html": "<div>\n<table border=\"1\" class=\"dataframe\">\n  <thead>\n    <tr style=\"text-align: right;\">\n      <th></th>\n      <th>Column</th>\n      <th>loan_amnt</th>\n      <th>funded_amnt</th>\n      <th>funded_amnt_inv</th>\n      <th>installment</th>\n      <th>annual_inc</th>\n      <th>dti</th>\n      <th>mths_since_last_delinq</th>\n      <th>open_acc</th>\n      <th>revol_bal</th>\n      <th>...</th>\n      <th>num_op_rev_tl</th>\n      <th>num_rev_accts</th>\n      <th>num_rev_tl_bal_gt_0</th>\n      <th>num_sats</th>\n      <th>num_tl_op_past_12m</th>\n      <th>pct_tl_nvr_dlq</th>\n      <th>tot_hi_cred_lim</th>\n      <th>total_bal_ex_mort</th>\n      <th>total_bc_limit</th>\n      <th>total_il_high_credit_limit</th>\n    </tr>\n  </thead>\n  <tbody>\n    <tr>\n      <th>count</th>\n      <td>115675.000000</td>\n      <td>115675.000000</td>\n      <td>115675.000000</td>\n      <td>115675.000000</td>\n      <td>115675.000000</td>\n      <td>1.156750e+05</td>\n      <td>115418.000000</td>\n      <td>49876.000000</td>\n      <td>115675.000000</td>\n      <td>115675.000000</td>\n      <td>...</td>\n      <td>115675.000000</td>\n      <td>115675.000000</td>\n      <td>115675.000000</td>\n      <td>115675.000000</td>\n      <td>115675.000000</td>\n      <td>115675.000000</td>\n      <td>1.156750e+05</td>\n      <td>1.156750e+05</td>\n      <td>115675.000000</td>\n      <td>1.156750e+05</td>\n    </tr>\n    <tr>\n      <th>mean</th>\n      <td>57837.000000</td>\n      <td>16671.263021</td>\n      <td>16671.263021</td>\n      <td>16668.039767</td>\n      <td>481.084266</td>\n      <td>8.505333e+04</td>\n      <td>20.445427</td>\n      <td>36.654864</td>\n      <td>11.723544</td>\n      <td>17859.725835</td>\n      <td>...</td>\n      <td>8.301630</td>\n      <td>13.071761</td>\n      <td>5.501388</td>\n      <td>11.705909</td>\n      <td>1.992349</td>\n      <td>94.919273</td>\n      <td>1.971531e+05</td>\n      <td>5.585600e+04</td>\n      <td>29185.391589</td>\n      <td>4.871611e+04</td>\n    </tr>\n    <tr>\n      <th>std</th>\n      <td>33392.640532</td>\n      <td>10352.132790</td>\n      <td>10352.132790</td>\n      <td>10354.689075</td>\n      <td>290.651130</td>\n      <td>1.098949e+05</td>\n      <td>20.480562</td>\n      <td>21.806311</td>\n      <td>5.977082</td>\n      <td>22735.701183</td>\n      <td>...</td>\n      <td>4.983926</td>\n      <td>7.922110</td>\n      <td>3.450848</td>\n      <td>5.974131</td>\n      <td>1.857690</td>\n      <td>8.640351</td>\n      <td>1.940234e+05</td>\n      <td>5.591184e+04</td>\n      <td>26975.924435</td>\n      <td>5.049259e+04</td>\n    </tr>\n    <tr>\n      <th>min</th>\n      <td>0.000000</td>\n      <td>1000.000000</td>\n      <td>1000.000000</td>\n      <td>725.000000</td>\n      <td>30.640000</td>\n      <td>0.000000e+00</td>\n      <td>0.000000</td>\n      <td>1.000000</td>\n      <td>0.000000</td>\n      <td>0.000000</td>\n      <td>...</td>\n      <td>0.000000</td>\n      <td>2.000000</td>\n      <td>0.000000</td>\n      <td>0.000000</td>\n      <td>0.000000</td>\n      <td>16.700000</td>\n      <td>0.000000e+00</td>\n      <td>0.000000e+00</td>\n      <td>0.000000</td>\n      <td>0.000000e+00</td>\n    </tr>\n    <tr>\n      <th>25%</th>\n      <td>28918.500000</td>\n      <td>9000.000000</td>\n      <td>9000.000000</td>\n      <td>9000.000000</td>\n      <td>264.940000</td>\n      <td>4.900000e+04</td>\n      <td>12.210000</td>\n      <td>19.000000</td>\n      <td>8.000000</td>\n      <td>6166.000000</td>\n      <td>...</td>\n      <td>5.000000</td>\n      <td>7.000000</td>\n      <td>3.000000</td>\n      <td>7.000000</td>\n      <td>1.000000</td>\n      <td>92.900000</td>\n      <td>5.810000e+04</td>\n      <td>2.168000e+04</td>\n      <td>11100.000000</td>\n      <td>1.606000e+04</td>\n    </tr>\n    <tr>\n      <th>50%</th>\n      <td>57837.000000</td>\n      <td>15000.000000</td>\n      <td>15000.000000</td>\n      <td>15000.000000</td>\n      <td>401.530000</td>\n      <td>7.000000e+04</td>\n      <td>18.480000</td>\n      <td>34.000000</td>\n      <td>11.000000</td>\n      <td>12072.000000</td>\n      <td>...</td>\n      <td>7.000000</td>\n      <td>11.000000</td>\n      <td>5.000000</td>\n      <td>11.000000</td>\n      <td>2.000000</td>\n      <td>100.000000</td>\n      <td>1.294000e+05</td>\n      <td>4.078100e+04</td>\n      <td>21500.000000</td>\n      <td>3.613000e+04</td>\n    </tr>\n    <tr>\n      <th>75%</th>\n      <td>86755.500000</td>\n      <td>24000.000000</td>\n      <td>24000.000000</td>\n      <td>24000.000000</td>\n      <td>648.100000</td>\n      <td>1.000000e+05</td>\n      <td>25.790000</td>\n      <td>53.000000</td>\n      <td>15.000000</td>\n      <td>21914.000000</td>\n      <td>...</td>\n      <td>11.000000</td>\n      <td>17.000000</td>\n      <td>7.000000</td>\n      <td>15.000000</td>\n      <td>3.000000</td>\n      <td>100.000000</td>\n      <td>2.874550e+05</td>\n      <td>7.067000e+04</td>\n      <td>38600.000000</td>\n      <td>6.564050e+04</td>\n    </tr>\n    <tr>\n      <th>max</th>\n      <td>115674.000000</td>\n      <td>40000.000000</td>\n      <td>40000.000000</td>\n      <td>40000.000000</td>\n      <td>1676.230000</td>\n      <td>9.000000e+06</td>\n      <td>999.000000</td>\n      <td>176.000000</td>\n      <td>72.000000</td>\n      <td>652794.000000</td>\n      <td>...</td>\n      <td>70.000000</td>\n      <td>98.000000</td>\n      <td>43.000000</td>\n      <td>72.000000</td>\n      <td>19.000000</td>\n      <td>100.000000</td>\n      <td>7.365708e+06</td>\n      <td>1.295455e+06</td>\n      <td>509400.000000</td>\n      <td>1.587274e+06</td>\n    </tr>\n  </tbody>\n</table>\n<p>8 rows × 53 columns</p>\n</div>",
            "text/plain": "              Column      loan_amnt    funded_amnt  funded_amnt_inv  \\\ncount  115675.000000  115675.000000  115675.000000    115675.000000   \nmean    57837.000000   16671.263021   16671.263021     16668.039767   \nstd     33392.640532   10352.132790   10352.132790     10354.689075   \nmin         0.000000    1000.000000    1000.000000       725.000000   \n25%     28918.500000    9000.000000    9000.000000      9000.000000   \n50%     57837.000000   15000.000000   15000.000000     15000.000000   \n75%     86755.500000   24000.000000   24000.000000     24000.000000   \nmax    115674.000000   40000.000000   40000.000000     40000.000000   \n\n         installment    annual_inc            dti  mths_since_last_delinq  \\\ncount  115675.000000  1.156750e+05  115418.000000            49876.000000   \nmean      481.084266  8.505333e+04      20.445427               36.654864   \nstd       290.651130  1.098949e+05      20.480562               21.806311   \nmin        30.640000  0.000000e+00       0.000000                1.000000   \n25%       264.940000  4.900000e+04      12.210000               19.000000   \n50%       401.530000  7.000000e+04      18.480000               34.000000   \n75%       648.100000  1.000000e+05      25.790000               53.000000   \nmax      1676.230000  9.000000e+06     999.000000              176.000000   \n\n            open_acc      revol_bal             ...              \\\ncount  115675.000000  115675.000000             ...               \nmean       11.723544   17859.725835             ...               \nstd         5.977082   22735.701183             ...               \nmin         0.000000       0.000000             ...               \n25%         8.000000    6166.000000             ...               \n50%        11.000000   12072.000000             ...               \n75%        15.000000   21914.000000             ...               \nmax        72.000000  652794.000000             ...               \n\n       num_op_rev_tl  num_rev_accts  num_rev_tl_bal_gt_0       num_sats  \\\ncount  115675.000000  115675.000000        115675.000000  115675.000000   \nmean        8.301630      13.071761             5.501388      11.705909   \nstd         4.983926       7.922110             3.450848       5.974131   \nmin         0.000000       2.000000             0.000000       0.000000   \n25%         5.000000       7.000000             3.000000       7.000000   \n50%         7.000000      11.000000             5.000000      11.000000   \n75%        11.000000      17.000000             7.000000      15.000000   \nmax        70.000000      98.000000            43.000000      72.000000   \n\n       num_tl_op_past_12m  pct_tl_nvr_dlq  tot_hi_cred_lim  total_bal_ex_mort  \\\ncount       115675.000000   115675.000000     1.156750e+05       1.156750e+05   \nmean             1.992349       94.919273     1.971531e+05       5.585600e+04   \nstd              1.857690        8.640351     1.940234e+05       5.591184e+04   \nmin              0.000000       16.700000     0.000000e+00       0.000000e+00   \n25%              1.000000       92.900000     5.810000e+04       2.168000e+04   \n50%              2.000000      100.000000     1.294000e+05       4.078100e+04   \n75%              3.000000      100.000000     2.874550e+05       7.067000e+04   \nmax             19.000000      100.000000     7.365708e+06       1.295455e+06   \n\n       total_bc_limit  total_il_high_credit_limit  \ncount   115675.000000                1.156750e+05  \nmean     29185.391589                4.871611e+04  \nstd      26975.924435                5.049259e+04  \nmin          0.000000                0.000000e+00  \n25%      11100.000000                1.606000e+04  \n50%      21500.000000                3.613000e+04  \n75%      38600.000000                6.564050e+04  \nmax     509400.000000                1.587274e+06  \n\n[8 rows x 53 columns]"
          },
          "metadata": {}
        }
      ]
    },
    {
      "metadata": {},
      "cell_type": "markdown",
      "source": "Data Cleaning: "
    },
    {
      "metadata": {
        "trusted": true
      },
      "cell_type": "code",
      "source": "# remove all current loans \ndf = df[df.loan_status != 'Current']\n\n# drop numerical columns if 20% of it or more are zeros\ndf = df.loc[:, (df==0).mean() < .25]\n\n# drop columns if almost 25% of it or more are null values\ndf = df.dropna(thresh = 3757, axis=1)# 25% of the data \n\n# drop columns with a redundant value \nnunique = df.apply(pd.Series.nunique)\ncols_to_drop = nunique[nunique == 1].index\ndf = df.drop(cols_to_drop, axis=1)\n\n#Replace empty/null values with a space\nReplace =df.fillna(\" \")\nReplace.isnull().sum()\n",
      "execution_count": 49,
      "outputs": [
        {
          "output_type": "execute_result",
          "execution_count": 49,
          "data": {
            "text/plain": "Column                        0\nloan_amnt                     0\nfunded_amnt                   0\nfunded_amnt_inv               0\nterm                          0\nint_rate                      0\ninstallment                   0\ngrade                         0\nemp_length                    0\nhome_ownership                0\nannual_inc                    0\nverification_status           0\nissue_d                       0\nloan_status                   0\npurpose                       0\naddr_state                    0\ndti                           0\nearliest_cr_line              0\nopen_acc                      0\nrevol_bal                     0\nrevol_util                    0\ntotal_acc                     0\ninitial_list_status           0\ntotal_pymnt                   0\ntotal_pymnt_inv               0\ntotal_rec_prncp               0\ntotal_rec_int                 0\nlast_pymnt_d                  0\nlast_pymnt_amnt               0\nlast_credit_pull_d            0\n                             ..\nil_util                       0\nopen_rv_24m                   0\nmax_bal_bc                    0\nall_util                      0\ntotal_rev_hi_lim              0\nacc_open_past_24mths          0\navg_cur_bal                   0\nbc_open_to_buy                0\nbc_util                       0\nmo_sin_old_il_acct            0\nmo_sin_old_rev_tl_op          0\nmo_sin_rcnt_rev_tl_op         0\nmo_sin_rcnt_tl                0\nmths_since_recent_bc          0\nmths_since_recent_inq         0\nnum_actv_bc_tl                0\nnum_actv_rev_tl               0\nnum_bc_sats                   0\nnum_bc_tl                     0\nnum_il_tl                     0\nnum_op_rev_tl                 0\nnum_rev_accts                 0\nnum_rev_tl_bal_gt_0           0\nnum_sats                      0\nnum_tl_op_past_12m            0\npct_tl_nvr_dlq                0\ntot_hi_cred_lim               0\ntotal_bal_ex_mort             0\ntotal_bc_limit                0\ntotal_il_high_credit_limit    0\ndtype: int64"
          },
          "metadata": {}
        }
      ]
    },
    {
      "metadata": {
        "trusted": true
      },
      "cell_type": "code",
      "source": "#shape.df()",
      "execution_count": 51,
      "outputs": []
    },
    {
      "metadata": {
        "trusted": true
      },
      "cell_type": "code",
      "source": "df.to_csv('Loan.csv')",
      "execution_count": 39,
      "outputs": []
    },
    {
      "metadata": {
        "trusted": true
      },
      "cell_type": "code",
      "source": "Final_data = pd.read_csv('Loan.csv')\nFinal_data.head()",
      "execution_count": 40,
      "outputs": [
        {
          "output_type": "execute_result",
          "execution_count": 40,
          "data": {
            "text/html": "<div>\n<table border=\"1\" class=\"dataframe\">\n  <thead>\n    <tr style=\"text-align: right;\">\n      <th></th>\n      <th>Unnamed: 0</th>\n      <th>Column</th>\n      <th>loan_amnt</th>\n      <th>funded_amnt</th>\n      <th>funded_amnt_inv</th>\n      <th>term</th>\n      <th>int_rate</th>\n      <th>installment</th>\n      <th>grade</th>\n      <th>emp_length</th>\n      <th>...</th>\n      <th>num_op_rev_tl</th>\n      <th>num_rev_accts</th>\n      <th>num_rev_tl_bal_gt_0</th>\n      <th>num_sats</th>\n      <th>num_tl_op_past_12m</th>\n      <th>pct_tl_nvr_dlq</th>\n      <th>tot_hi_cred_lim</th>\n      <th>total_bal_ex_mort</th>\n      <th>total_bc_limit</th>\n      <th>total_il_high_credit_limit</th>\n    </tr>\n  </thead>\n  <tbody>\n    <tr>\n      <th>0</th>\n      <td>7</td>\n      <td>7</td>\n      <td>10000</td>\n      <td>10000</td>\n      <td>10000</td>\n      <td>60 months</td>\n      <td>12.40%</td>\n      <td>224.48</td>\n      <td>NaN</td>\n      <td>NaN</td>\n      <td>...</td>\n      <td>4</td>\n      <td>7</td>\n      <td>2</td>\n      <td>7</td>\n      <td>0</td>\n      <td>100.0</td>\n      <td>176439</td>\n      <td>37523</td>\n      <td>17000</td>\n      <td>57439</td>\n    </tr>\n    <tr>\n      <th>1</th>\n      <td>51</td>\n      <td>51</td>\n      <td>15000</td>\n      <td>15000</td>\n      <td>15000</td>\n      <td>60 months</td>\n      <td>17.97%</td>\n      <td>380.66</td>\n      <td>NaN</td>\n      <td>9.0</td>\n      <td>...</td>\n      <td>7</td>\n      <td>7</td>\n      <td>5</td>\n      <td>8</td>\n      <td>4</td>\n      <td>100.0</td>\n      <td>37222</td>\n      <td>23300</td>\n      <td>16400</td>\n      <td>14822</td>\n    </tr>\n    <tr>\n      <th>2</th>\n      <td>80</td>\n      <td>80</td>\n      <td>35000</td>\n      <td>35000</td>\n      <td>35000</td>\n      <td>60 months</td>\n      <td>13.08%</td>\n      <td>797.80</td>\n      <td>NaN</td>\n      <td>1.0</td>\n      <td>...</td>\n      <td>10</td>\n      <td>11</td>\n      <td>6</td>\n      <td>14</td>\n      <td>2</td>\n      <td>100.0</td>\n      <td>399376</td>\n      <td>131350</td>\n      <td>32700</td>\n      <td>130876</td>\n    </tr>\n    <tr>\n      <th>3</th>\n      <td>135</td>\n      <td>135</td>\n      <td>17500</td>\n      <td>17500</td>\n      <td>17500</td>\n      <td>36 months</td>\n      <td>17.19%</td>\n      <td>625.58</td>\n      <td>NaN</td>\n      <td>5.0</td>\n      <td>...</td>\n      <td>6</td>\n      <td>6</td>\n      <td>5</td>\n      <td>12</td>\n      <td>0</td>\n      <td>92.6</td>\n      <td>131463</td>\n      <td>141781</td>\n      <td>17400</td>\n      <td>113163</td>\n    </tr>\n    <tr>\n      <th>4</th>\n      <td>146</td>\n      <td>146</td>\n      <td>13750</td>\n      <td>13750</td>\n      <td>13750</td>\n      <td>36 months</td>\n      <td>28.80%</td>\n      <td>574.71</td>\n      <td>NaN</td>\n      <td>NaN</td>\n      <td>...</td>\n      <td>6</td>\n      <td>7</td>\n      <td>6</td>\n      <td>6</td>\n      <td>2</td>\n      <td>87.5</td>\n      <td>19200</td>\n      <td>16814</td>\n      <td>15400</td>\n      <td>0</td>\n    </tr>\n  </tbody>\n</table>\n<p>5 rows × 66 columns</p>\n</div>",
            "text/plain": "   Unnamed: 0  Column  loan_amnt  funded_amnt  funded_amnt_inv        term  \\\n0           7       7      10000        10000            10000   60 months   \n1          51      51      15000        15000            15000   60 months   \n2          80      80      35000        35000            35000   60 months   \n3         135     135      17500        17500            17500   36 months   \n4         146     146      13750        13750            13750   36 months   \n\n  int_rate  installment  grade  emp_length             ...              \\\n0   12.40%       224.48    NaN         NaN             ...               \n1   17.97%       380.66    NaN         9.0             ...               \n2   13.08%       797.80    NaN         1.0             ...               \n3   17.19%       625.58    NaN         5.0             ...               \n4   28.80%       574.71    NaN         NaN             ...               \n\n   num_op_rev_tl  num_rev_accts num_rev_tl_bal_gt_0 num_sats  \\\n0              4              7                   2        7   \n1              7              7                   5        8   \n2             10             11                   6       14   \n3              6              6                   5       12   \n4              6              7                   6        6   \n\n  num_tl_op_past_12m pct_tl_nvr_dlq tot_hi_cred_lim  total_bal_ex_mort  \\\n0                  0          100.0          176439              37523   \n1                  4          100.0           37222              23300   \n2                  2          100.0          399376             131350   \n3                  0           92.6          131463             141781   \n4                  2           87.5           19200              16814   \n\n  total_bc_limit  total_il_high_credit_limit  \n0          17000                       57439  \n1          16400                       14822  \n2          32700                      130876  \n3          17400                      113163  \n4          15400                           0  \n\n[5 rows x 66 columns]"
          },
          "metadata": {}
        }
      ]
    },
    {
      "metadata": {},
      "cell_type": "markdown",
      "source": "Data Transformation: \n> Grade - Borrower's grade given basing on his/her past history - encoded to numerical values.\n> home_ownership - this is feature in the dataset which had to be encoded to numerical values.\n> Emp_Length - this feature was not formatted properly. It has some values which was in the format like \"10+years\",\"5years\"...etc. we changed them to numerical values in the below cell."
    },
    {
      "metadata": {
        "trusted": true
      },
      "cell_type": "code",
      "source": "# change employment length to numeric\nmap = {\"n/a\":0, \"< 1 \":1, \"1 \":1, \"2 \":2, \"3 \":3, \"4 \":4, \"5 \":5, \"6 \":6, \"7 \":7, \"8 \":8, \"9 \":9, \"10+ \":10}\ndf.emp_length = df.emp_length.str.replace(\"years\",\"\")\ndf.emp_length = df.emp_length.str.replace(\"year\",\"\")\ndf.emp_length.replace(map, inplace=True)\ndf.emp_length.value_counts()",
      "execution_count": 12,
      "outputs": [
        {
          "output_type": "execute_result",
          "execution_count": 12,
          "data": {
            "text/plain": "10.0    1500\n1.0      876\n2.0      387\n3.0      360\n5.0      295\n4.0      251\n6.0      197\n7.0      180\n8.0      147\n9.0       95\nName: emp_length, dtype: int64"
          },
          "metadata": {}
        }
      ]
    },
    {
      "metadata": {
        "trusted": true
      },
      "cell_type": "code",
      "source": "df.head()",
      "execution_count": 13,
      "outputs": [
        {
          "output_type": "execute_result",
          "execution_count": 13,
          "data": {
            "text/html": "<div>\n<table border=\"1\" class=\"dataframe\">\n  <thead>\n    <tr style=\"text-align: right;\">\n      <th></th>\n      <th>Column</th>\n      <th>loan_amnt</th>\n      <th>funded_amnt</th>\n      <th>funded_amnt_inv</th>\n      <th>term</th>\n      <th>int_rate</th>\n      <th>installment</th>\n      <th>grade</th>\n      <th>emp_length</th>\n      <th>home_ownership</th>\n      <th>...</th>\n      <th>num_op_rev_tl</th>\n      <th>num_rev_accts</th>\n      <th>num_rev_tl_bal_gt_0</th>\n      <th>num_sats</th>\n      <th>num_tl_op_past_12m</th>\n      <th>pct_tl_nvr_dlq</th>\n      <th>tot_hi_cred_lim</th>\n      <th>total_bal_ex_mort</th>\n      <th>total_bc_limit</th>\n      <th>total_il_high_credit_limit</th>\n    </tr>\n  </thead>\n  <tbody>\n    <tr>\n      <th>7</th>\n      <td>7</td>\n      <td>10000</td>\n      <td>10000</td>\n      <td>10000</td>\n      <td>60 months</td>\n      <td>12.40%</td>\n      <td>224.48</td>\n      <td>B</td>\n      <td>NaN</td>\n      <td>MORTGAGE</td>\n      <td>...</td>\n      <td>4</td>\n      <td>7</td>\n      <td>2</td>\n      <td>7</td>\n      <td>0</td>\n      <td>100.0</td>\n      <td>176439</td>\n      <td>37523</td>\n      <td>17000</td>\n      <td>57439</td>\n    </tr>\n    <tr>\n      <th>51</th>\n      <td>51</td>\n      <td>15000</td>\n      <td>15000</td>\n      <td>15000</td>\n      <td>60 months</td>\n      <td>17.97%</td>\n      <td>380.66</td>\n      <td>D</td>\n      <td>9.0</td>\n      <td>RENT</td>\n      <td>...</td>\n      <td>7</td>\n      <td>7</td>\n      <td>5</td>\n      <td>8</td>\n      <td>4</td>\n      <td>100.0</td>\n      <td>37222</td>\n      <td>23300</td>\n      <td>16400</td>\n      <td>14822</td>\n    </tr>\n    <tr>\n      <th>80</th>\n      <td>80</td>\n      <td>35000</td>\n      <td>35000</td>\n      <td>35000</td>\n      <td>60 months</td>\n      <td>13.08%</td>\n      <td>797.80</td>\n      <td>B</td>\n      <td>1.0</td>\n      <td>MORTGAGE</td>\n      <td>...</td>\n      <td>10</td>\n      <td>11</td>\n      <td>6</td>\n      <td>14</td>\n      <td>2</td>\n      <td>100.0</td>\n      <td>399376</td>\n      <td>131350</td>\n      <td>32700</td>\n      <td>130876</td>\n    </tr>\n    <tr>\n      <th>135</th>\n      <td>135</td>\n      <td>17500</td>\n      <td>17500</td>\n      <td>17500</td>\n      <td>36 months</td>\n      <td>17.19%</td>\n      <td>625.58</td>\n      <td>C</td>\n      <td>5.0</td>\n      <td>RENT</td>\n      <td>...</td>\n      <td>6</td>\n      <td>6</td>\n      <td>5</td>\n      <td>12</td>\n      <td>0</td>\n      <td>92.6</td>\n      <td>131463</td>\n      <td>141781</td>\n      <td>17400</td>\n      <td>113163</td>\n    </tr>\n    <tr>\n      <th>146</th>\n      <td>146</td>\n      <td>13750</td>\n      <td>13750</td>\n      <td>13750</td>\n      <td>36 months</td>\n      <td>28.80%</td>\n      <td>574.71</td>\n      <td>D</td>\n      <td>NaN</td>\n      <td>MORTGAGE</td>\n      <td>...</td>\n      <td>6</td>\n      <td>7</td>\n      <td>6</td>\n      <td>6</td>\n      <td>2</td>\n      <td>87.5</td>\n      <td>19200</td>\n      <td>16814</td>\n      <td>15400</td>\n      <td>0</td>\n    </tr>\n  </tbody>\n</table>\n<p>5 rows × 65 columns</p>\n</div>",
            "text/plain": "     Column  loan_amnt  funded_amnt  funded_amnt_inv        term int_rate  \\\n7         7      10000        10000            10000   60 months   12.40%   \n51       51      15000        15000            15000   60 months   17.97%   \n80       80      35000        35000            35000   60 months   13.08%   \n135     135      17500        17500            17500   36 months   17.19%   \n146     146      13750        13750            13750   36 months   28.80%   \n\n     installment grade  emp_length home_ownership             ...              \\\n7         224.48     B         NaN       MORTGAGE             ...               \n51        380.66     D         9.0           RENT             ...               \n80        797.80     B         1.0       MORTGAGE             ...               \n135       625.58     C         5.0           RENT             ...               \n146       574.71     D         NaN       MORTGAGE             ...               \n\n     num_op_rev_tl num_rev_accts num_rev_tl_bal_gt_0 num_sats  \\\n7                4             7                   2        7   \n51               7             7                   5        8   \n80              10            11                   6       14   \n135              6             6                   5       12   \n146              6             7                   6        6   \n\n    num_tl_op_past_12m pct_tl_nvr_dlq  tot_hi_cred_lim total_bal_ex_mort  \\\n7                    0          100.0           176439             37523   \n51                   4          100.0            37222             23300   \n80                   2          100.0           399376            131350   \n135                  0           92.6           131463            141781   \n146                  2           87.5            19200             16814   \n\n     total_bc_limit  total_il_high_credit_limit  \n7             17000                       57439  \n51            16400                       14822  \n80            32700                      130876  \n135           17400                      113163  \n146           15400                           0  \n\n[5 rows x 65 columns]"
          },
          "metadata": {}
        }
      ]
    },
    {
      "metadata": {
        "trusted": true
      },
      "cell_type": "code",
      "source": "df.to_csv('LoansData.csv')",
      "execution_count": 14,
      "outputs": []
    },
    {
      "metadata": {
        "trusted": true
      },
      "cell_type": "code",
      "source": "",
      "execution_count": null,
      "outputs": []
    }
  ],
  "metadata": {
    "kernelspec": {
      "name": "python3",
      "display_name": "Python 3",
      "language": "python"
    },
    "language_info": {
      "mimetype": "text/x-python",
      "nbconvert_exporter": "python",
      "name": "python",
      "file_extension": ".py",
      "version": "3.5.4",
      "pygments_lexer": "ipython3",
      "codemirror_mode": {
        "version": 3,
        "name": "ipython"
      }
    }
  },
  "nbformat": 4,
  "nbformat_minor": 1
}